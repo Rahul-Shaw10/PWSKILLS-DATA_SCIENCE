{
 "cells": [
  {
   "cell_type": "code",
   "execution_count": 2,
   "id": "7648d092-1d76-4a57-89f8-5f39621f224a",
   "metadata": {},
   "outputs": [],
   "source": [
    "import pandas as pd"
   ]
  },
  {
   "cell_type": "markdown",
   "id": "6a70d3d3-466d-4bcc-838c-c8bfeebc73e9",
   "metadata": {},
   "source": [
    "### [Q1.] List any five functions of the pandas library with execution."
   ]
  },
  {
   "cell_type": "markdown",
   "id": "b5b1dd24-5a9a-4301-9d7b-c31a8ffe541c",
   "metadata": {},
   "source": [
    "##### [Ans]\n",
    "The five functions of the pandas library are:\n",
    "1. pd.DataFrame( ) : It is used to create a two-dimensional heterogenous object which manuplate its data.\n",
    "2. pd.Series( ) : It is used to create a one-dimensional homogeneous object.\n",
    "3. pd.merge( ) : It is used to merge to DataFrames on specified columns.\n",
    "4. pd.Timestamp( ) : It is used to convert the data type of the specified column to datetime.\n",
    "5. pd.read_csv( ) : It is used to read CSV files and return the DataFrame object"
   ]
  },
  {
   "cell_type": "code",
   "execution_count": 3,
   "id": "0ab5b3aa-fa3c-4ae8-ba66-fba8d93d2435",
   "metadata": {},
   "outputs": [
    {
     "data": {
      "text/html": [
       "<div>\n",
       "<style scoped>\n",
       "    .dataframe tbody tr th:only-of-type {\n",
       "        vertical-align: middle;\n",
       "    }\n",
       "\n",
       "    .dataframe tbody tr th {\n",
       "        vertical-align: top;\n",
       "    }\n",
       "\n",
       "    .dataframe thead th {\n",
       "        text-align: right;\n",
       "    }\n",
       "</style>\n",
       "<table border=\"1\" class=\"dataframe\">\n",
       "  <thead>\n",
       "    <tr style=\"text-align: right;\">\n",
       "      <th></th>\n",
       "      <th>NAME</th>\n",
       "      <th>AGE</th>\n",
       "      <th>COUNTRY</th>\n",
       "    </tr>\n",
       "  </thead>\n",
       "  <tbody>\n",
       "    <tr>\n",
       "      <th>0</th>\n",
       "      <td>JOHN</td>\n",
       "      <td>22</td>\n",
       "      <td>UK</td>\n",
       "    </tr>\n",
       "    <tr>\n",
       "      <th>1</th>\n",
       "      <td>ALICE</td>\n",
       "      <td>26</td>\n",
       "      <td>LONDON</td>\n",
       "    </tr>\n",
       "    <tr>\n",
       "      <th>2</th>\n",
       "      <td>ABHRAM</td>\n",
       "      <td>30</td>\n",
       "      <td>CANADA</td>\n",
       "    </tr>\n",
       "  </tbody>\n",
       "</table>\n",
       "</div>"
      ],
      "text/plain": [
       "     NAME  AGE COUNTRY\n",
       "0    JOHN   22      UK\n",
       "1   ALICE   26  LONDON\n",
       "2  ABHRAM   30  CANADA"
      ]
     },
     "execution_count": 3,
     "metadata": {},
     "output_type": "execute_result"
    }
   ],
   "source": [
    "# EXECUTION OF PD.DATAFRAME() FUNCTION :\n",
    "df = pd.DataFrame({\"NAME\" : [\"JOHN\" , \"ALICE\" , \"ABHRAM\"],\n",
    "                  \"AGE\" : [22 , 26 , 30],\n",
    "                  \"COUNTRY\" : [\"UK\" , \"LONDON\" , \"CANADA\"]\n",
    "                  })\n",
    "df"
   ]
  },
  {
   "cell_type": "code",
   "execution_count": 4,
   "id": "cebff5f8-dd99-4e11-a7c9-b93ecfa2432b",
   "metadata": {},
   "outputs": [
    {
     "data": {
      "text/plain": [
       "0    10\n",
       "1    20\n",
       "2    30\n",
       "3    40\n",
       "4    50\n",
       "dtype: int64"
      ]
     },
     "execution_count": 4,
     "metadata": {},
     "output_type": "execute_result"
    }
   ],
   "source": [
    "# EXECUTION OF PD.SERIES() FUNCTION :\n",
    "df1 = pd.Series([10,20,30,40,50])\n",
    "df1"
   ]
  },
  {
   "cell_type": "code",
   "execution_count": 5,
   "id": "63649dea-3e8e-48e1-a37a-db8d027cd7e4",
   "metadata": {},
   "outputs": [
    {
     "data": {
      "text/html": [
       "<div>\n",
       "<style scoped>\n",
       "    .dataframe tbody tr th:only-of-type {\n",
       "        vertical-align: middle;\n",
       "    }\n",
       "\n",
       "    .dataframe tbody tr th {\n",
       "        vertical-align: top;\n",
       "    }\n",
       "\n",
       "    .dataframe thead th {\n",
       "        text-align: right;\n",
       "    }\n",
       "</style>\n",
       "<table border=\"1\" class=\"dataframe\">\n",
       "  <thead>\n",
       "    <tr style=\"text-align: right;\">\n",
       "      <th></th>\n",
       "      <th>Name</th>\n",
       "      <th>Salary</th>\n",
       "      <th>Bonus</th>\n",
       "    </tr>\n",
       "  </thead>\n",
       "  <tbody>\n",
       "    <tr>\n",
       "      <th>0</th>\n",
       "      <td>John</td>\n",
       "      <td>50000.0</td>\n",
       "      <td>NaN</td>\n",
       "    </tr>\n",
       "    <tr>\n",
       "      <th>1</th>\n",
       "      <td>Alice</td>\n",
       "      <td>60000.0</td>\n",
       "      <td>2000.0</td>\n",
       "    </tr>\n",
       "    <tr>\n",
       "      <th>2</th>\n",
       "      <td>Bob</td>\n",
       "      <td>70000.0</td>\n",
       "      <td>3000.0</td>\n",
       "    </tr>\n",
       "    <tr>\n",
       "      <th>3</th>\n",
       "      <td>Charlie</td>\n",
       "      <td>NaN</td>\n",
       "      <td>4000.0</td>\n",
       "    </tr>\n",
       "  </tbody>\n",
       "</table>\n",
       "</div>"
      ],
      "text/plain": [
       "      Name   Salary   Bonus\n",
       "0     John  50000.0     NaN\n",
       "1    Alice  60000.0  2000.0\n",
       "2      Bob  70000.0  3000.0\n",
       "3  Charlie      NaN  4000.0"
      ]
     },
     "execution_count": 5,
     "metadata": {},
     "output_type": "execute_result"
    }
   ],
   "source": [
    "# EXECUTION OF PD.MERGE() FUNCTION :\n",
    "df1 = pd.DataFrame({'Name': ['John', 'Alice', 'Bob'], 'Salary': [50000, 60000, 70000]})\n",
    "df2 = pd.DataFrame({'Name': ['Alice', 'Bob', 'Charlie'], 'Bonus': [2000, 3000, 4000]})\n",
    "merged_df = pd.merge(df1, df2, on='Name', how='outer')\n",
    "\n",
    "merged_df"
   ]
  },
  {
   "cell_type": "code",
   "execution_count": 6,
   "id": "6d72a737-cd2b-44e8-a4dc-491c77519ec8",
   "metadata": {},
   "outputs": [
    {
     "name": "stdout",
     "output_type": "stream",
     "text": [
      "2023-07-26 01:55:06\n"
     ]
    }
   ],
   "source": [
    "# EXECUTION OF PD.TIMESTAMP() FUNCTION :\n",
    "date = pd.Timestamp(2023 , 7 , 26 , 1 , 55 , 6)\n",
    "print(date)"
   ]
  },
  {
   "cell_type": "code",
   "execution_count": null,
   "id": "2420b9b9-9152-485c-b8f9-74a8352a8ffa",
   "metadata": {},
   "outputs": [],
   "source": [
    "# EXECUTION OF PD.READ_CSV() FUNCTION :\n",
    "csv_df = pd.read_csv(\"example.csv\")\n",
    "csv.df"
   ]
  },
  {
   "cell_type": "markdown",
   "id": "74a0fad1-af92-46de-8547-35e21f74e445",
   "metadata": {},
   "source": [
    "### [Q2.] Given a Pandas DataFrame df with columns 'A', 'B', and 'C', write a Python function to re-index the DataFrame with a new index that starts from 1 and increments by 2 for each row."
   ]
  },
  {
   "cell_type": "markdown",
   "id": "4ce2115f-4de7-4412-8b09-090e8666b606",
   "metadata": {},
   "source": [
    "##### [Ans]"
   ]
  },
  {
   "cell_type": "code",
   "execution_count": 7,
   "id": "d6c231cf-c163-4b3a-b1c0-4e5932a971f5",
   "metadata": {},
   "outputs": [
    {
     "data": {
      "text/html": [
       "<div>\n",
       "<style scoped>\n",
       "    .dataframe tbody tr th:only-of-type {\n",
       "        vertical-align: middle;\n",
       "    }\n",
       "\n",
       "    .dataframe tbody tr th {\n",
       "        vertical-align: top;\n",
       "    }\n",
       "\n",
       "    .dataframe thead th {\n",
       "        text-align: right;\n",
       "    }\n",
       "</style>\n",
       "<table border=\"1\" class=\"dataframe\">\n",
       "  <thead>\n",
       "    <tr style=\"text-align: right;\">\n",
       "      <th></th>\n",
       "      <th>A</th>\n",
       "      <th>B</th>\n",
       "      <th>C</th>\n",
       "    </tr>\n",
       "  </thead>\n",
       "  <tbody>\n",
       "    <tr>\n",
       "      <th>1</th>\n",
       "      <td>10</td>\n",
       "      <td>50</td>\n",
       "      <td>90</td>\n",
       "    </tr>\n",
       "    <tr>\n",
       "      <th>3</th>\n",
       "      <td>20</td>\n",
       "      <td>60</td>\n",
       "      <td>100</td>\n",
       "    </tr>\n",
       "    <tr>\n",
       "      <th>5</th>\n",
       "      <td>30</td>\n",
       "      <td>70</td>\n",
       "      <td>110</td>\n",
       "    </tr>\n",
       "    <tr>\n",
       "      <th>7</th>\n",
       "      <td>40</td>\n",
       "      <td>80</td>\n",
       "      <td>120</td>\n",
       "    </tr>\n",
       "  </tbody>\n",
       "</table>\n",
       "</div>"
      ],
      "text/plain": [
       "    A   B    C\n",
       "1  10  50   90\n",
       "3  20  60  100\n",
       "5  30  70  110\n",
       "7  40  80  120"
      ]
     },
     "execution_count": 7,
     "metadata": {},
     "output_type": "execute_result"
    }
   ],
   "source": [
    "def reindex(df : pd.DataFrame):\n",
    "    new_index = pd.RangeIndex(start=1 , stop=df.shape[0]*2 , step=2)\n",
    "    df.set_index(new_index , inplace=True)\n",
    "    return df\n",
    "\n",
    "df = pd.DataFrame({'A' : [10 , 20 , 30 , 40], 'B' : [50 , 60 , 70 , 80], 'C' : [90 , 100 , 110 , 120]})\n",
    "new_df = reindex(df)\n",
    "\n",
    "df"
   ]
  },
  {
   "cell_type": "markdown",
   "id": "06393cc4-2726-4e92-ba19-e188e28ebadd",
   "metadata": {},
   "source": [
    "### [Q3.] You have a Pandas DataFrame df with a column named 'Values'. Write a Python function that iterates over the DataFrame and calculates the sum of the first three values in the 'Values' column. The function should print the sum to the console.\n",
    "\n",
    "#### For example, if the 'Values' column of df contains the values [10, 20, 30, 40, 50], your function should calculate and print the sum of the first three values, which is 60."
   ]
  },
  {
   "cell_type": "markdown",
   "id": "0e08f49d-8cd7-4241-9e44-8ee6d12b9b6b",
   "metadata": {},
   "source": [
    "##### [Ans]"
   ]
  },
  {
   "cell_type": "code",
   "execution_count": 8,
   "id": "e302c843-1ab0-4789-b6e9-25b01e6b4c25",
   "metadata": {},
   "outputs": [
    {
     "name": "stdout",
     "output_type": "stream",
     "text": [
      "THE SUM OF FIRST THREE VALUES IS : 60\n"
     ]
    }
   ],
   "source": [
    "lst = [10,20,30,40,50]\n",
    "\n",
    "df = pd.DataFrame({\"Values\" : lst})\n",
    "\n",
    "def sum_of_first_3_numbers (df):\n",
    "    sum_of_three = df['Values'].head(3).sum()\n",
    "    print(\"THE SUM OF FIRST THREE VALUES IS :\",sum_of_three)\n",
    "    \n",
    "sum_of_first_3_numbers(df)"
   ]
  },
  {
   "cell_type": "markdown",
   "id": "dd0773b8-e05e-4f95-8289-a1953b22cd5f",
   "metadata": {},
   "source": [
    "### [Q4.] Given a Pandas DataFrame df with a column 'Text', write a Python function to create a new column 'Word_Count' that contains the number of words in each row of the 'Text' column."
   ]
  },
  {
   "cell_type": "markdown",
   "id": "9301335c-7f19-4818-b4f1-10fb8d59ff91",
   "metadata": {},
   "source": [
    "##### [Ans]"
   ]
  },
  {
   "cell_type": "code",
   "execution_count": 9,
   "id": "4a8fb13d-5790-4559-822c-d8de3d90b805",
   "metadata": {},
   "outputs": [
    {
     "data": {
      "text/html": [
       "<div>\n",
       "<style scoped>\n",
       "    .dataframe tbody tr th:only-of-type {\n",
       "        vertical-align: middle;\n",
       "    }\n",
       "\n",
       "    .dataframe tbody tr th {\n",
       "        vertical-align: top;\n",
       "    }\n",
       "\n",
       "    .dataframe thead th {\n",
       "        text-align: right;\n",
       "    }\n",
       "</style>\n",
       "<table border=\"1\" class=\"dataframe\">\n",
       "  <thead>\n",
       "    <tr style=\"text-align: right;\">\n",
       "      <th></th>\n",
       "      <th>Text</th>\n",
       "      <th>Word_Count</th>\n",
       "    </tr>\n",
       "  </thead>\n",
       "  <tbody>\n",
       "    <tr>\n",
       "      <th>0</th>\n",
       "      <td>Data Science</td>\n",
       "      <td>12</td>\n",
       "    </tr>\n",
       "    <tr>\n",
       "      <th>1</th>\n",
       "      <td>Machine Learning</td>\n",
       "      <td>16</td>\n",
       "    </tr>\n",
       "    <tr>\n",
       "      <th>2</th>\n",
       "      <td>Big Data</td>\n",
       "      <td>8</td>\n",
       "    </tr>\n",
       "    <tr>\n",
       "      <th>3</th>\n",
       "      <td>Python</td>\n",
       "      <td>6</td>\n",
       "    </tr>\n",
       "    <tr>\n",
       "      <th>4</th>\n",
       "      <td>Pandas</td>\n",
       "      <td>6</td>\n",
       "    </tr>\n",
       "  </tbody>\n",
       "</table>\n",
       "</div>"
      ],
      "text/plain": [
       "               Text  Word_Count\n",
       "0      Data Science          12\n",
       "1  Machine Learning          16\n",
       "2          Big Data           8\n",
       "3            Python           6\n",
       "4            Pandas           6"
      ]
     },
     "execution_count": 9,
     "metadata": {},
     "output_type": "execute_result"
    }
   ],
   "source": [
    "df = pd.DataFrame({\"Text\" : [\"Data Science\" ,\"Machine Learning\" ,\"Big Data\", \"Python\" , \"Pandas\"]})\n",
    "\n",
    "df[\"Word_Count\"] = df[\"Text\"].apply(len)\n",
    "df"
   ]
  },
  {
   "cell_type": "markdown",
   "id": "9c6f8130-3dda-46c8-827a-fcf26e3fd20f",
   "metadata": {},
   "source": [
    "### [Q5.] How are DataFrame.size() and DataFrame.shape() different?"
   ]
  },
  {
   "cell_type": "markdown",
   "id": "34148583-9cd7-4fdb-8d29-35ee5b4994dc",
   "metadata": {},
   "source": [
    "##### [Ans]\n",
    "DataFrame.size( ) :- This method returns the total number of elements in the DataFrame. It calculates the size by multiplying the number of rows by the number of columns in the DataFrame. The result is the total count of all cells, including NaN or missing values.\n",
    "\n",
    "DataFrame.shape :- This attribute returns a tuple representing the dimensions of the DataFrame. It provides information about the number of rows and columns in the DataFrame. The shape attribute returns a tuple in the format (rows, columns)."
   ]
  },
  {
   "cell_type": "markdown",
   "id": "0ee461ef-6e37-4d78-b8f5-a093fd5ff5fc",
   "metadata": {},
   "source": [
    "### [Q6.] Which function of pandas do we use to read an excel file?"
   ]
  },
  {
   "cell_type": "markdown",
   "id": "d48f91d3-fcdf-4192-8e00-6de4ac63ae4f",
   "metadata": {},
   "source": [
    "##### [Ans]\n",
    "The function which is used in pandas to read an excel file is \"pd.read_excel( )\". "
   ]
  },
  {
   "cell_type": "markdown",
   "id": "691c94fb-f7f9-4e6a-8146-20278aa3c7b3",
   "metadata": {},
   "source": [
    "### [Q7.] You have a Pandas DataFrame df that contains a column named 'Email' that contains email addresses in the format 'username@domain.com'. Write a Python function that creates a new column 'Username' in df that contains only the username part of each email address.\n",
    "\n",
    "#### The username is the part of the email address that appears before the '@' symbol. For example, if the email address is 'john.doe@example.com', the 'Username' column should contain 'john.doe'. Your function should extract the username from each email address and store it in the new 'Username' column."
   ]
  },
  {
   "cell_type": "markdown",
   "id": "218c3f20-075c-411d-9368-01a0b0cb177a",
   "metadata": {},
   "source": [
    "##### [Ans]"
   ]
  },
  {
   "cell_type": "code",
   "execution_count": 10,
   "id": "6988e3f6-3a9b-4051-bc31-e1082a59cafc",
   "metadata": {},
   "outputs": [
    {
     "data": {
      "text/html": [
       "<div>\n",
       "<style scoped>\n",
       "    .dataframe tbody tr th:only-of-type {\n",
       "        vertical-align: middle;\n",
       "    }\n",
       "\n",
       "    .dataframe tbody tr th {\n",
       "        vertical-align: top;\n",
       "    }\n",
       "\n",
       "    .dataframe thead th {\n",
       "        text-align: right;\n",
       "    }\n",
       "</style>\n",
       "<table border=\"1\" class=\"dataframe\">\n",
       "  <thead>\n",
       "    <tr style=\"text-align: right;\">\n",
       "      <th></th>\n",
       "      <th>Email</th>\n",
       "      <th>Username</th>\n",
       "    </tr>\n",
       "  </thead>\n",
       "  <tbody>\n",
       "    <tr>\n",
       "      <th>0</th>\n",
       "      <td>john.doe@gmail.com</td>\n",
       "      <td>john.doe</td>\n",
       "    </tr>\n",
       "    <tr>\n",
       "      <th>1</th>\n",
       "      <td>alex.jain@yahoo.com</td>\n",
       "      <td>alex.jain</td>\n",
       "    </tr>\n",
       "    <tr>\n",
       "      <th>2</th>\n",
       "      <td>purav.jha@example.com</td>\n",
       "      <td>purav.jha</td>\n",
       "    </tr>\n",
       "  </tbody>\n",
       "</table>\n",
       "</div>"
      ],
      "text/plain": [
       "                   Email   Username\n",
       "0     john.doe@gmail.com   john.doe\n",
       "1    alex.jain@yahoo.com  alex.jain\n",
       "2  purav.jha@example.com  purav.jha"
      ]
     },
     "execution_count": 10,
     "metadata": {},
     "output_type": "execute_result"
    }
   ],
   "source": [
    "df = pd.DataFrame({\"Email\" : [\"john.doe@gmail.com\", \"alex.jain@yahoo.com\", \"purav.jha@example.com\"]})\n",
    "\n",
    "df['Username'] = df['Email'].str.split('@').str[0]\n",
    "df"
   ]
  },
  {
   "cell_type": "markdown",
   "id": "9da1f1d0-4952-4fbd-8c6f-7815a7bb1485",
   "metadata": {},
   "source": [
    "### [Q8.] You have a Pandas DataFrame df with columns 'A', 'B', and 'C'. Write a Python function that selects all rows where the value in column 'A' is greater than 5 and the value in column 'B' is less than 10. The function should return a new DataFrame that contains only the selected rows.\n",
    "\n",
    "#### For example, if df contains the following values:"
   ]
  },
  {
   "attachments": {
    "1909cb00-ea99-4943-a02d-606675f702af.png": {
     "image/png": "[encoded data removed]"
    }
   },
   "cell_type": "markdown",
   "id": "c8a593f1-89c8-42ee-a4ab-e540141e9046",
   "metadata": {},
   "source": [
    "![Screenshot (14).png](attachment:1909cb00-ea99-4943-a02d-606675f702af.png)"
   ]
  },
  {
   "cell_type": "markdown",
   "id": "b3ade0ab-5036-4ce2-b6aa-a38e99866cc2",
   "metadata": {},
   "source": [
    "#### Your function should select the following rows: A B C"
   ]
  },
  {
   "attachments": {
    "4b772ec5-632f-492b-bbf4-5426745a8786.png": {
     "image/png": "[encoded data removed]"
    }
   },
   "cell_type": "markdown",
   "id": "6921b059-8be3-4165-bf02-03a27e3e2c72",
   "metadata": {},
   "source": [
    "![Screenshot (16).png](attachment:4b772ec5-632f-492b-bbf4-5426745a8786.png)\n",
    "\n",
    "#### The function should return a new DataFrame that contains only the selected rows."
   ]
  },
  {
   "cell_type": "markdown",
   "id": "97b104e0-c51c-4dc3-a147-982ac4b610ba",
   "metadata": {},
   "source": [
    "##### [Ans]"
   ]
  },
  {
   "cell_type": "code",
   "execution_count": 11,
   "id": "636e96d8-9083-41bd-b595-da8e981a5f3c",
   "metadata": {},
   "outputs": [
    {
     "data": {
      "text/html": [
       "<div>\n",
       "<style scoped>\n",
       "    .dataframe tbody tr th:only-of-type {\n",
       "        vertical-align: middle;\n",
       "    }\n",
       "\n",
       "    .dataframe tbody tr th {\n",
       "        vertical-align: top;\n",
       "    }\n",
       "\n",
       "    .dataframe thead th {\n",
       "        text-align: right;\n",
       "    }\n",
       "</style>\n",
       "<table border=\"1\" class=\"dataframe\">\n",
       "  <thead>\n",
       "    <tr style=\"text-align: right;\">\n",
       "      <th></th>\n",
       "      <th>A</th>\n",
       "      <th>B</th>\n",
       "      <th>C</th>\n",
       "    </tr>\n",
       "  </thead>\n",
       "  <tbody>\n",
       "    <tr>\n",
       "      <th>1</th>\n",
       "      <td>8</td>\n",
       "      <td>2</td>\n",
       "      <td>7</td>\n",
       "    </tr>\n",
       "    <tr>\n",
       "      <th>2</th>\n",
       "      <td>6</td>\n",
       "      <td>9</td>\n",
       "      <td>4</td>\n",
       "    </tr>\n",
       "    <tr>\n",
       "      <th>4</th>\n",
       "      <td>9</td>\n",
       "      <td>1</td>\n",
       "      <td>2</td>\n",
       "    </tr>\n",
       "  </tbody>\n",
       "</table>\n",
       "</div>"
      ],
      "text/plain": [
       "   A  B  C\n",
       "1  8  2  7\n",
       "2  6  9  4\n",
       "4  9  1  2"
      ]
     },
     "execution_count": 11,
     "metadata": {},
     "output_type": "execute_result"
    }
   ],
   "source": [
    "def edit(df):\n",
    "    selected_rows = df[(df['A'] > 5) & (df['B'] < 10)]\n",
    "    return selected_rows\n",
    "\n",
    "data = {\n",
    "        \"A\" : [3,8,6,2,9],\n",
    "        \"B\" : [5,2,9,3,1],\n",
    "        \"C\" : [1,7,4,5,2]\n",
    "}\n",
    "df = pd.DataFrame(data)\n",
    "\n",
    "selected_df = edit(df)\n",
    "selected_df"
   ]
  },
  {
   "cell_type": "markdown",
   "id": "3b45efe3-736b-4e71-aba8-40e962a8a7a7",
   "metadata": {},
   "source": [
    "### [Q9.] Given a Pandas DataFrame df with a column 'Values', write a Python function to calculate the mean, median, and standard deviation of the values in the 'Values' column."
   ]
  },
  {
   "cell_type": "markdown",
   "id": "a0188a6b-eee6-47fa-8424-f1166aebb230",
   "metadata": {},
   "source": [
    "##### [Ans]"
   ]
  },
  {
   "cell_type": "code",
   "execution_count": 12,
   "id": "5bccd33a-3d5d-4b40-8fc2-6349c7395f43",
   "metadata": {},
   "outputs": [
    {
     "name": "stdout",
     "output_type": "stream",
     "text": [
      "MEAN : 30.0\n",
      "MEDIAN : 30.0\n",
      "STANDARD DEVIATION : 15.811388300841896\n"
     ]
    }
   ],
   "source": [
    "df = pd.DataFrame({\"Values\" : [10,20,30,40,50]})\n",
    "\n",
    "def calculate_stats(df):\n",
    "    mean = df['Values'].mean()\n",
    "    median = df['Values'].median()\n",
    "    standard_deviation = df['Values'].std()\n",
    "    print(f\"MEAN : {mean}\\nMEDIAN : {median}\\nSTANDARD DEVIATION : {standard_deviation}\")\n",
    "    \n",
    "calculate_stats(df)"
   ]
  },
  {
   "cell_type": "markdown",
   "id": "77e80a80-133c-4502-b689-9d8370ac0e43",
   "metadata": {},
   "source": [
    "### [Q10.] Given a Pandas DataFrame df with a column 'Sales' and a column 'Date', write a Python function to create a new column 'MovingAverage' that contains the moving average of the sales for the past 7 days for each row in the DataFrame. The moving average should be calculated using a window of size 7 and should include the current day."
   ]
  },
  {
   "cell_type": "markdown",
   "id": "fde337aa-7c5f-4066-a961-8768dab50d29",
   "metadata": {},
   "source": [
    "##### [Ans]"
   ]
  },
  {
   "cell_type": "code",
   "execution_count": 13,
   "id": "51b203e0-9e60-4b9b-bd33-a833aadaf2e4",
   "metadata": {},
   "outputs": [
    {
     "data": {
      "text/html": [
       "<div>\n",
       "<style scoped>\n",
       "    .dataframe tbody tr th:only-of-type {\n",
       "        vertical-align: middle;\n",
       "    }\n",
       "\n",
       "    .dataframe tbody tr th {\n",
       "        vertical-align: top;\n",
       "    }\n",
       "\n",
       "    .dataframe thead th {\n",
       "        text-align: right;\n",
       "    }\n",
       "</style>\n",
       "<table border=\"1\" class=\"dataframe\">\n",
       "  <thead>\n",
       "    <tr style=\"text-align: right;\">\n",
       "      <th></th>\n",
       "      <th>Date</th>\n",
       "      <th>Sales</th>\n",
       "      <th>Moving Average</th>\n",
       "    </tr>\n",
       "  </thead>\n",
       "  <tbody>\n",
       "    <tr>\n",
       "      <th>0</th>\n",
       "      <td>2023-08-01</td>\n",
       "      <td>100</td>\n",
       "      <td>100.000000</td>\n",
       "    </tr>\n",
       "    <tr>\n",
       "      <th>1</th>\n",
       "      <td>2023-08-02</td>\n",
       "      <td>150</td>\n",
       "      <td>125.000000</td>\n",
       "    </tr>\n",
       "    <tr>\n",
       "      <th>2</th>\n",
       "      <td>2023-08-03</td>\n",
       "      <td>200</td>\n",
       "      <td>150.000000</td>\n",
       "    </tr>\n",
       "    <tr>\n",
       "      <th>3</th>\n",
       "      <td>2023-08-04</td>\n",
       "      <td>130</td>\n",
       "      <td>145.000000</td>\n",
       "    </tr>\n",
       "    <tr>\n",
       "      <th>4</th>\n",
       "      <td>2023-08-05</td>\n",
       "      <td>170</td>\n",
       "      <td>150.000000</td>\n",
       "    </tr>\n",
       "    <tr>\n",
       "      <th>5</th>\n",
       "      <td>2023-08-06</td>\n",
       "      <td>190</td>\n",
       "      <td>156.666667</td>\n",
       "    </tr>\n",
       "    <tr>\n",
       "      <th>6</th>\n",
       "      <td>2023-08-07</td>\n",
       "      <td>120</td>\n",
       "      <td>151.428571</td>\n",
       "    </tr>\n",
       "    <tr>\n",
       "      <th>7</th>\n",
       "      <td>2023-08-08</td>\n",
       "      <td>140</td>\n",
       "      <td>157.142857</td>\n",
       "    </tr>\n",
       "    <tr>\n",
       "      <th>8</th>\n",
       "      <td>2023-08-09</td>\n",
       "      <td>180</td>\n",
       "      <td>161.428571</td>\n",
       "    </tr>\n",
       "    <tr>\n",
       "      <th>9</th>\n",
       "      <td>2023-08-10</td>\n",
       "      <td>210</td>\n",
       "      <td>162.857143</td>\n",
       "    </tr>\n",
       "  </tbody>\n",
       "</table>\n",
       "</div>"
      ],
      "text/plain": [
       "        Date  Sales  Moving Average\n",
       "0 2023-08-01    100      100.000000\n",
       "1 2023-08-02    150      125.000000\n",
       "2 2023-08-03    200      150.000000\n",
       "3 2023-08-04    130      145.000000\n",
       "4 2023-08-05    170      150.000000\n",
       "5 2023-08-06    190      156.666667\n",
       "6 2023-08-07    120      151.428571\n",
       "7 2023-08-08    140      157.142857\n",
       "8 2023-08-09    180      161.428571\n",
       "9 2023-08-10    210      162.857143"
      ]
     },
     "execution_count": 13,
     "metadata": {},
     "output_type": "execute_result"
    }
   ],
   "source": [
    "def add_moving_avg(df):\n",
    "    df[\"Moving Average\"] = df['Sales'].rolling(window=7, min_periods=1).mean()\n",
    "    return df\n",
    "\n",
    "data = {\n",
    "        \"Date\" : pd.date_range(start='2023-08-01', periods=10, freq='D'),\n",
    "        \"Sales\" : [100, 150, 200, 130, 170, 190, 120, 140, 180, 210]\n",
    "}\n",
    "\n",
    "df = pd.DataFrame(data)\n",
    "add_moving_avg(df)"
   ]
  },
  {
   "cell_type": "markdown",
   "id": "0ed987ca-ceba-45aa-aed7-bdb01fd27d6b",
   "metadata": {},
   "source": [
    "### [Q11.] You have a Pandas DataFrame df with a column 'Date'. Write a Python function that creates a new column 'Weekday' in the DataFrame. The 'Weekday' column should contain the weekday name (e.g. Monday, Tuesday) corresponding to each date in the 'Date' column."
   ]
  },
  {
   "attachments": {
    "a119d7bf-d00c-4294-8d9d-6cf9dd397006.png": {
     "image/png": "[encoded data removed]"
    }
   },
   "cell_type": "markdown",
   "id": "7e89026a-aa04-4fc7-aa15-9af18efdd4b3",
   "metadata": {},
   "source": [
    "#### For example, if df contains the following values:\n",
    "\n",
    "![Screenshot (18).png](attachment:a119d7bf-d00c-4294-8d9d-6cf9dd397006.png)\n",
    "\n",
    "#### Your function should create the following DataFrame:"
   ]
  },
  {
   "attachments": {
    "5d9de191-a09f-4e06-887a-ee30ae6e3102.png": {
     "image/png": "[encoded data removed]"
    }
   },
   "cell_type": "markdown",
   "id": "4dd84675-7353-4381-a1b0-907a0778c116",
   "metadata": {},
   "source": [
    "![Screenshot (17).png](attachment:5d9de191-a09f-4e06-887a-ee30ae6e3102.png)\n",
    "\n",
    "#### The function should return the modified DataFrame."
   ]
  },
  {
   "cell_type": "markdown",
   "id": "a94dc757-3640-4c45-84ec-a948b865e145",
   "metadata": {},
   "source": [
    "##### [Ans]"
   ]
  },
  {
   "cell_type": "code",
   "execution_count": 14,
   "id": "65dc4fd9-af19-4a7b-b55a-8db58b84245f",
   "metadata": {},
   "outputs": [
    {
     "data": {
      "text/html": [
       "<div>\n",
       "<style scoped>\n",
       "    .dataframe tbody tr th:only-of-type {\n",
       "        vertical-align: middle;\n",
       "    }\n",
       "\n",
       "    .dataframe tbody tr th {\n",
       "        vertical-align: top;\n",
       "    }\n",
       "\n",
       "    .dataframe thead th {\n",
       "        text-align: right;\n",
       "    }\n",
       "</style>\n",
       "<table border=\"1\" class=\"dataframe\">\n",
       "  <thead>\n",
       "    <tr style=\"text-align: right;\">\n",
       "      <th></th>\n",
       "      <th>Date</th>\n",
       "      <th>Weekday</th>\n",
       "    </tr>\n",
       "  </thead>\n",
       "  <tbody>\n",
       "    <tr>\n",
       "      <th>0</th>\n",
       "      <td>2023-01-01</td>\n",
       "      <td>Sunday</td>\n",
       "    </tr>\n",
       "    <tr>\n",
       "      <th>1</th>\n",
       "      <td>2023-01-02</td>\n",
       "      <td>Monday</td>\n",
       "    </tr>\n",
       "    <tr>\n",
       "      <th>2</th>\n",
       "      <td>2023-01-03</td>\n",
       "      <td>Tuesday</td>\n",
       "    </tr>\n",
       "    <tr>\n",
       "      <th>3</th>\n",
       "      <td>2023-01-04</td>\n",
       "      <td>Wednesday</td>\n",
       "    </tr>\n",
       "    <tr>\n",
       "      <th>4</th>\n",
       "      <td>2023-01-05</td>\n",
       "      <td>Thursday</td>\n",
       "    </tr>\n",
       "  </tbody>\n",
       "</table>\n",
       "</div>"
      ],
      "text/plain": [
       "        Date    Weekday\n",
       "0 2023-01-01     Sunday\n",
       "1 2023-01-02     Monday\n",
       "2 2023-01-03    Tuesday\n",
       "3 2023-01-04  Wednesday\n",
       "4 2023-01-05   Thursday"
      ]
     },
     "execution_count": 14,
     "metadata": {},
     "output_type": "execute_result"
    }
   ],
   "source": [
    "def get_weekdays(df):\n",
    "    df['Weekday'] = df['Date'].dt.day_name()\n",
    "    return df\n",
    "\n",
    "data = {\n",
    "        \"Date\" : pd.date_range(start='2023-01-01', periods=5),\n",
    "}\n",
    "\n",
    "df= pd.DataFrame(data)\n",
    "get_weekdays(df)"
   ]
  },
  {
   "cell_type": "markdown",
   "id": "bf2c3381-697e-49d0-97d5-19ac7aef8472",
   "metadata": {},
   "source": [
    "### [Q12.] Given a Pandas DataFrame df with a column 'Date' that contains timestamps, write a Python function to select all rows where the date is between '2023-01-01' and '2023-01-31'."
   ]
  },
  {
   "cell_type": "markdown",
   "id": "4c4e5627-640b-4160-b42b-5a8bf089efb5",
   "metadata": {},
   "source": [
    "##### [Ans]"
   ]
  },
  {
   "cell_type": "code",
   "execution_count": 17,
   "id": "564b6ca9-2c5d-4b55-a827-caae4621bb8e",
   "metadata": {},
   "outputs": [
    {
     "data": {
      "text/html": [
       "<div>\n",
       "<style scoped>\n",
       "    .dataframe tbody tr th:only-of-type {\n",
       "        vertical-align: middle;\n",
       "    }\n",
       "\n",
       "    .dataframe tbody tr th {\n",
       "        vertical-align: top;\n",
       "    }\n",
       "\n",
       "    .dataframe thead th {\n",
       "        text-align: right;\n",
       "    }\n",
       "</style>\n",
       "<table border=\"1\" class=\"dataframe\">\n",
       "  <thead>\n",
       "    <tr style=\"text-align: right;\">\n",
       "      <th></th>\n",
       "      <th>Date</th>\n",
       "    </tr>\n",
       "  </thead>\n",
       "  <tbody>\n",
       "    <tr>\n",
       "      <th>0</th>\n",
       "      <td>2023-01-01</td>\n",
       "    </tr>\n",
       "    <tr>\n",
       "      <th>1</th>\n",
       "      <td>2023-01-02</td>\n",
       "    </tr>\n",
       "    <tr>\n",
       "      <th>2</th>\n",
       "      <td>2023-01-10</td>\n",
       "    </tr>\n",
       "    <tr>\n",
       "      <th>3</th>\n",
       "      <td>2023-01-25</td>\n",
       "    </tr>\n",
       "    <tr>\n",
       "      <th>4</th>\n",
       "      <td>2023-01-31</td>\n",
       "    </tr>\n",
       "  </tbody>\n",
       "</table>\n",
       "</div>"
      ],
      "text/plain": [
       "         Date\n",
       "0  2023-01-01\n",
       "1  2023-01-02\n",
       "2  2023-01-10\n",
       "3  2023-01-25\n",
       "4  2023-01-31"
      ]
     },
     "execution_count": 17,
     "metadata": {},
     "output_type": "execute_result"
    }
   ],
   "source": [
    "def selected_dates(df):\n",
    "    start_date = '2023-01-01'\n",
    "    end_date = '2023-01-31'\n",
    "    mask = (df['Date'] >= start_date) & (df['Date'] <= end_date)\n",
    "    selected_rows = df[mask]\n",
    "    return selected_rows\n",
    "\n",
    "data = {\"Date\" : ['2023-01-01' , '2023-01-02' , '2023-01-10' , '2023-01-25' , '2023-01-31']}\n",
    "\n",
    "df = pd.DataFrame(data)\n",
    "\n",
    "selected_dates(df)"
   ]
  },
  {
   "cell_type": "markdown",
   "id": "59974fac-bc61-408c-b0b3-23c8ffa7321a",
   "metadata": {},
   "source": [
    "### [Q13.] To use the basic functions of pandas, what is the first and foremost necessary library that needs to be imported?"
   ]
  },
  {
   "cell_type": "markdown",
   "id": "b002db97-ad64-4fd3-ace6-dcbd667cbccf",
   "metadata": {},
   "source": [
    "##### [Ans]\n",
    "To use the basic functions of pandas, the first and foremost necessary library that needs to be imported is \" pandas library \"."
   ]
  },
  {
   "cell_type": "code",
   "execution_count": null,
   "id": "c48e4fdb-3e4f-4b2a-b7a1-552fe0d7fc30",
   "metadata": {},
   "outputs": [],
   "source": []
  }
 ],
 "metadata": {
  "kernelspec": {
   "display_name": "Python 3 (ipykernel)",
   "language": "python",
   "name": "python3"
  },
  "language_info": {
   "codemirror_mode": {
    "name": "ipython",
    "version": 3
   },
   "file_extension": ".py",
   "mimetype": "text/x-python",
   "name": "python",
   "nbconvert_exporter": "python",
   "pygments_lexer": "ipython3",
   "version": "3.10.6"
  }
 },
 "nbformat": 4,
 "nbformat_minor": 5
}
