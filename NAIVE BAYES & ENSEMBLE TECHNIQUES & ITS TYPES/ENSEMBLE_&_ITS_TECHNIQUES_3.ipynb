{
  "nbformat": 4,
  "nbformat_minor": 0,
  "metadata": {
    "colab": {
      "provenance": []
    },
    "kernelspec": {
      "name": "python3",
      "display_name": "Python 3"
    },
    "language_info": {
      "name": "python"
    }
  },
  "cells": [
    {
      "cell_type": "markdown",
      "source": [
        "###[Q1.] What is Random Forest Regressor?\n",
        "#####[Ans]\n",
        "The Random Forest Regressor is an ensemble machine learning algorithm that uses multiple decision trees to predict continuous output (regression). It averages the predictions from individual trees to improve accuracy and reduce overfitting.\n",
        "\n",
        "###[Q2.] How does Random Forest Regressor reduce the risk of overfitting?\n",
        "#####[Ans]\n",
        "- Bootstrapping: Each tree is trained on a random subset of the data, reducing overfitting to specific samples.\n",
        "- Feature Subset Selection: At each split, a random subset of features is considered, introducing diversity among the trees.\n",
        "- Aggregation: Predictions are averaged across all trees, smoothing out individual tree biases and variances.\n",
        "\n",
        "###[Q3.] How does Random Forest Regressor aggregate the predictions of multiple decision trees?\n",
        "#####[Ans]\n",
        "The Random Forest Regressor aggregates predictions by taking the mean of the predictions made by all individual trees in the ensemble.\n",
        "$$\n",
        "Final Prediction = \\frac{1}{n} \\sum_{i=1}^{n} \\text{Prediction of Tree}_i\n",
        "$$\n",
        "\n",
        "###[Q4.] What are the hyperparameters of Random Forest Regressor?\n",
        "#####[Ans]\n",
        "Key hyperparameters include:\n",
        "\n",
        "- n_estimators: Number of trees in the forest.\n",
        "- max_depth: Maximum depth of each tree.\n",
        "- min_samples_split: Minimum number of samples required to split a node.\n",
        "- min_samples_leaf: Minimum number of samples required to be at a leaf node.\n",
        "- max_features: Number of features to consider for splitting at each node.\n",
        "- bootstrap: Whether to use bootstrapped samples when building trees.\n",
        "- random_state: Ensures reproducibility.\n",
        "\n",
        "###[Q5.] What is the difference between Random Forest Regressor and Decision Tree Regressor?\n",
        "#####[Ans]\n",
        "|Aspect|\tRandom Forest Regressor\t|Decision Tree Regressor|\n",
        "|------|--------------------------|-----------------------|\n",
        "|Overfitting|\tLess prone to overfitting due to ensemble approach.\t|More prone to overfitting, especially on noisy data.|\n",
        "|Aggregation|\tAverages predictions of multiple trees.|\tUses predictions from a single tree.|\n",
        "|Stability|\tRobust to data variations.\t|Sensitive to data variations.|\n",
        "|Complexity\t|Higher computational complexity.\t|Lower computational complexity.|\n",
        "\n",
        "###[Q6.] What are the advantages and disadvantages of Random Forest Regressor?\n",
        "#####[Ans]\n",
        "Advantages:\n",
        "\n",
        "- Robust to overfitting and noise.\n",
        "- Handles missing data well.\n",
        "- Provides feature importance metrics.\n",
        "- Scalable and versatile for various tasks.\n",
        "\n",
        "Disadvantages:\n",
        "\n",
        "- Computationally expensive for large datasets.\n",
        "- Can struggle with very high-dimensional sparse data.\n",
        "- Interpretability is lower than simpler models like a single decision tree.\n",
        "\n",
        "###[Q7.] What is the output of Random Forest Regressor?\n",
        "#####[Ans]\n",
        "The output is a continuous numerical value, which is the average of predictions made by all decision trees in the ensemble.\n",
        "\n",
        "###[Q8.] Can Random Forest Regressor be used for classification tasks?\n",
        "#####[Ans]\n",
        "No, the Random Forest Regressor is designed specifically for regression tasks. However, its counterpart, the Random Forest Classifier, is used for classification tasks. Both share similar principles but differ in how they aggregate predictions:\n",
        "\n",
        "- Regressor: Averages predictions.\n",
        "- Classifier: Uses majority voting or probabilities for class prediction."
      ],
      "metadata": {
        "id": "fDwuVVe40JHu"
      }
    }
  ]
}