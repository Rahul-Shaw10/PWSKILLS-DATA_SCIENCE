{
  "nbformat": 4,
  "nbformat_minor": 0,
  "metadata": {
    "colab": {
      "provenance": []
    },
    "kernelspec": {
      "name": "python3",
      "display_name": "Python 3"
    },
    "language_info": {
      "name": "python"
    }
  },
  "cells": [
    {
      "cell_type": "markdown",
      "source": [
        "\n",
        "\n",
        "## Q1. What is meant by time-dependent seasonal components?\n",
        "#####[Ans]\n",
        "Time-dependent seasonal components are patterns in time series data where the seasonal effects (e.g., monthly, quarterly trends) vary over time. Unlike static seasonal patterns, these components change in magnitude or form due to external factors such as economic shifts, environmental changes, or evolving consumer behavior.\n",
        "\n",
        "---\n",
        "\n",
        "## Q2. How can time-dependent seasonal components be identified in time series data?\n",
        "#####[Ans]\n",
        "1. **Visualization**: Plot the time series and observe changes in seasonal patterns over time.\n",
        "2. **Decomposition**: Use techniques like STL (Seasonal-Trend Decomposition using Loess) to separate seasonal, trend, and residual components.\n",
        "3. **Rolling Statistics**: Apply rolling mean or variance to detect changes in seasonal behavior.\n",
        "4. **ACF/PACF Analysis**: Check for shifts in periodic correlations over time.\n",
        "\n",
        "---\n",
        "\n",
        "## Q3. What are the factors that can influence time-dependent seasonal components?\n",
        "#####[Ans]\n",
        "1. **Economic Trends**: Changes in market conditions or policies.\n",
        "2. **Environmental Changes**: Seasonal variations affected by weather or climate change.\n",
        "3. **Consumer Behavior**: Shifts in preferences or habits over time.\n",
        "4. **Technological Advancements**: Introduction of new tools or methods affecting data trends.\n",
        "5. **External Events**: Impact of significant events (e.g., pandemics, elections).\n",
        "\n",
        "---\n",
        "\n",
        "## Q4. How are autoregression models used in time series analysis and forecasting?\n",
        "#####[Ans]\n",
        "**Autoregression (AR) models** predict future values of a time series using a linear combination of its past values. They rely on the principle that current data points are influenced by previous data points.\n",
        "\n",
        "**Steps in AR Model Usage**:\n",
        "1. **Identify Lag Order**: Use PACF to determine the number of past time points to include.\n",
        "2. **Fit the Model**: Train the AR model on historical data.\n",
        "3. **Forecast**: Predict future values based on the fitted model.\n",
        "\n",
        "---\n",
        "\n",
        "## Q5. How do you use autoregression models to make predictions for future time points?\n",
        "#####[Ans]\n",
        "1. **Determine Lag Order**: Analyze PACF to select the optimal number of lags.\n",
        "2. **Train the Model**: Use historical data to estimate coefficients.\n",
        "3. **Iterative Prediction**:\n",
        "   - Predict the next time point using past data.\n",
        "   - Update the data with the predicted value and repeat for subsequent points.\n",
        "4. **Validation**: Compare predictions against a test set to assess accuracy.\n",
        "\n",
        "---\n",
        "\n",
        "## Q6. What is a moving average (MA) model and how does it differ from other time series models?\n",
        "#####[Ans]\n",
        "A **Moving Average (MA)** model predicts time series values based on past forecast errors, rather than actual past values. It uses a linear combination of residuals from previous time steps.\n",
        "\n",
        "**Differences**:\n",
        "- **AR Models**: Depend on actual past values of the time series.\n",
        "- **MA Models**: Depend on past forecast errors.\n",
        "- **ARMA Models**: Combine both AR and MA components.\n",
        "\n",
        "---\n",
        "\n",
        "## Q7. What is a mixed ARMA model and how does it differ from an AR or MA model?\n",
        "#####[Ans]\n",
        "An **ARMA (AutoRegressive Moving Average)** model is a combination of AR and MA models. It uses both past values and past forecast errors to predict future values.\n",
        "\n",
        "**Differences**:\n",
        "- **AR Models**: Only use past time series values.\n",
        "- **MA Models**: Only use past forecast errors.\n",
        "- **ARMA Models**: Use both past values and past errors, making them more flexible and powerful for modeling time series with complex patterns.\n"
      ],
      "metadata": {
        "id": "EznfJTgvLIqO"
      }
    },
    {
      "cell_type": "code",
      "execution_count": null,
      "metadata": {
        "id": "uUiQu0I7LD6u"
      },
      "outputs": [],
      "source": []
    }
  ]
}