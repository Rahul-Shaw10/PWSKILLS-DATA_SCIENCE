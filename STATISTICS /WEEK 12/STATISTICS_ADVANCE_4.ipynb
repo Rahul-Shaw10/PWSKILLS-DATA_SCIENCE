{
  "nbformat": 4,
  "nbformat_minor": 0,
  "metadata": {
    "colab": {
      "provenance": []
    },
    "kernelspec": {
      "name": "python3",
      "display_name": "Python 3"
    },
    "language_info": {
      "name": "python"
    }
  },
  "cells": [
    {
      "cell_type": "markdown",
      "source": [
        "### [Q1.] What is the difference between a t-test and a z-test? Provide an example scenario where you would use each type of test.\n",
        "\n",
        "[Ans]\n",
        "\n",
        "| Aspect | t-test\t| z-test |\n",
        "| ------ | ------ | ------ |\n",
        "| Sample Size\t| Typically used when sample size is small (n < 30). |\tUsed when sample size is large (n ≥ 30). |\n",
        "|Population Std Dev\t| Population standard deviation is unknown. | Population standard deviation is known. |\n",
        "| Distribution | Assumes the sample follows a t-distribution. |Assumes the sample follows a normal distribution. |\n",
        "| Usage\t| Used when data is more variable or sample size is small. |\tUsed when the population is well-defined and sample size is large. |"
      ],
      "metadata": {
        "id": "43Z-SpZ48pNU"
      }
    },
    {
      "cell_type": "markdown",
      "source": [
        "### [Q2.] Differentiate between one-tailed and two-tailed tests.\n",
        "\n",
        "[Ans]\n",
        "\n",
        "| **ONE-TAILED TEST** | **TWO-TAILED TEST |\n",
        "| ------------------- | ----------------- |\n",
        "| A one-tailed test evaluates whether the sample mean is significantly greater or less than a known value or another sample mean, in only one direction. | A two-tailed test evaluates whether the sample mean is significantly different from a known value or another sample mean, in both directions (either greater or less). |\n",
        "| If you're testing whether a new drug is better than the current one (and not worse), you'd use a one-tailed test. | If you're testing whether a new drug has a different effect (could be better or worse) than the current one, you'd use a two-tailed test. |"
      ],
      "metadata": {
        "id": "Uyz-Ejzrafvx"
      }
    },
    {
      "cell_type": "markdown",
      "source": [
        "### [Q3.] Explain the concept of Type 1 and Type 2 errors in hypothesis testing. Provide an example scenario for each type of error.\n",
        "\n",
        "[Ans]\n",
        "\n",
        "| **TYPE 1 ERROR** | **TYPE 2 ERROR** |\n",
        "| ---------------- | ---------------- |\n",
        "| We reject the null hypothesis, when in reality it is true. | We retain or accept the null hypothesis, when in reality it is false. |\n",
        "| The test results suggest that the new drug is more effective than the placebo, but in reality, the drug has no additional effect. |  The test results suggest that the new drug is not more effective than the placebo, but in reality, the drug does have a positive effect. |"
      ],
      "metadata": {
        "id": "jUYW2oxaawSY"
      }
    },
    {
      "cell_type": "markdown",
      "source": [
        "### [Q4.] Explain Bayes's theorem with an example.\n",
        "\n",
        "[Ans]\n",
        "\n",
        "**Bayes's Theorem** is a fundamental concept in probability theory that describes how to update the probability of a hypothesis based on new evidence. It calculates the probability of an event based on prior knowledge of conditions related to the event.\n",
        "\n",
        "Imagine you’re trying to figure out the probability that it rained, given that you see traffic on your way to work. Let’s assume that the chance of rain on any given day is 30%, and the likelihood of traffic when it rains is 80%. However, even when it doesn’t rain, there’s still a 40% chance of traffic. Now, using Bayes’s Theorem, we can calculate the probability that it rained, knowing there is traffic.\n",
        "First, we calculate the total probability of traffic, which takes into account both when it rains and when it doesn't. This comes out to 52%. Applying Bayes’s formula, we find that the probability it rained, given that you see traffic, is about 46%. In other words, seeing traffic gives us some evidence that it might have rained, but it’s still less than a 50-50 chance because traffic can happen even without rain."
      ],
      "metadata": {
        "id": "sD_bhVTja7U-"
      }
    },
    {
      "cell_type": "markdown",
      "source": [
        "### [Q5.] What is a confidence interval? How to calculate the confidence interval, explain with an example.\n",
        "\n",
        "[Ans]\n",
        "\n",
        "A confidence interval is a range of values, derived from sample data, that is likely to contain the true population parameter (like the mean) with a certain level of confidence. The confidence interval gives an estimate of where this parameter lies, along with the level of uncertainty.\n",
        "\n",
        "To calculate confidence interval we use this formula , $$CI = \\bar{x} \\pm Z \\cdot \\left( \\frac{\\sigma}{\\sqrt{n}} \\right)$$\n",
        "\n"
      ],
      "metadata": {
        "id": "Lv5esRnDbHM-"
      }
    },
    {
      "cell_type": "markdown",
      "source": [
        "### [Q6.] Use Bayes' Theorem to calculate the probability of an event occurring given prior knowledge of the event's probability and new evidence. Provide a sample problem and solution.\n",
        "\n",
        "[Ans]\n",
        "\n",
        "**Problem :** Suppose a disease affects 1% of the population. A test for the disease is 90% accurate, meaning if a person has the disease, the test will be positive 90% of the time (true positive). If a person does not have the disease, the test will be negative 90% of the time (true negative). If a person tests positive, what is the probability that they actually have the disease?\n",
        "\n",
        "**Solution :**\n",
        "A = Event that the person has the disease.\n",
        "B = Event that the person tests positive.\n",
        "\n",
        "P(A) = 0.01<br>\n",
        "P(B|A) = 0.90<br>\n",
        "P(B|A') = 0.10<br>\n",
        "P(A') = 0.99<br>\n",
        "\n",
        "P(A|B) = P(A) * P(B|A) / P(B)\n",
        "\n",
        "P(B) = P(A) * P(B|A) + P(B|A') * P(A')<br>\n",
        "P(B) = (0.01 * 0.90) + (0.10 * 0.99)\n",
        "P(B) = 0.108\n",
        "\n",
        "P(A|B) = 0.01 * 0.90 / 0.108<br>\n",
        "P(A|B) = 0.0833\n",
        "\n",
        "Thus, the probability that the person actually have the disease is 8.33%."
      ],
      "metadata": {
        "id": "9r_e3yi0bP8I"
      }
    },
    {
      "cell_type": "markdown",
      "source": [
        "### [Q7.] Calculate the 95% confidence interval for a sample of data with a mean of 50 and a standard deviation of 5. Interpret the results.\n",
        "\n",
        "##### [Ans]"
      ],
      "metadata": {
        "id": "t1nAtICeqqEs"
      }
    },
    {
      "cell_type": "code",
      "execution_count": 2,
      "metadata": {
        "colab": {
          "base_uri": "https://localhost:8080/"
        },
        "id": "JHM9k1HoqRZi",
        "outputId": "a7c73271-31d3-488a-ae92-8c702cd9bb9c"
      },
      "outputs": [
        {
          "output_type": "stream",
          "name": "stdout",
          "text": [
            "95% confidence interval: (48.21, 51.79)\n"
          ]
        }
      ],
      "source": [
        "import numpy as np\n",
        "import scipy.stats as stats\n",
        "\n",
        "mean = 50\n",
        "std_dev = 5\n",
        "sample_size = 30\n",
        "\n",
        "z = stats.norm.ppf(0.975)\n",
        "margin_of_errro = z * (std_dev / np.sqrt(sample_size))\n",
        "\n",
        "lower_bound = mean - margin_of_errro\n",
        "upper_bound = mean + margin_of_errro\n",
        "\n",
        "print(f\"95% confidence interval: ({lower_bound:.2f}, {upper_bound:.2f})\")"
      ]
    },
    {
      "cell_type": "markdown",
      "source": [
        "### [Q8.] What is the margin of error in a confidence interval? How does sample size affect the margin of error? Provide an example of a scenario where a larger sample size would result in a smaller margin of error.\n",
        "\n",
        "[Ans]\n",
        "\n",
        "**Margin of Error :** Margin of Error Definition: The margin of error in a confidence interval is the range of values above and below the sample estimate. It indicates the extent of uncertainty surrounding the estimate.\n",
        "\n",
        "**Effect in sample size :** The margin of error decreases as the sample size increases because the standard error decreases with a larger n."
      ],
      "metadata": {
        "id": "Y8XYK01DrfMJ"
      }
    },
    {
      "cell_type": "code",
      "source": [
        "# Example :\n",
        "std = 5\n",
        "n = 30\n",
        "\n",
        "margin_of_error = std / np.sqrt(n)\n",
        "print(f\"Margin of Error: {margin_of_error:.2f}\")"
      ],
      "metadata": {
        "colab": {
          "base_uri": "https://localhost:8080/"
        },
        "id": "3rm3tJmDqhVU",
        "outputId": "4361ea0c-d0e5-4fcf-e8fb-4faba99ec68e"
      },
      "execution_count": 4,
      "outputs": [
        {
          "output_type": "stream",
          "name": "stdout",
          "text": [
            "Margin of Error: 0.91\n"
          ]
        }
      ]
    },
    {
      "cell_type": "markdown",
      "source": [
        "### [Q9.] Calculate the z-score for a data point with a value of 75, a population mean of 70, and a population standard deviation of 5. Interpret the results.\n",
        "\n",
        "[Ans]"
      ],
      "metadata": {
        "id": "cHowGR46sypk"
      }
    },
    {
      "cell_type": "code",
      "source": [
        "mean = 70\n",
        "std = 5\n",
        "x = 75\n",
        "\n",
        "z = (x - mean) / std\n",
        "print(f\"Z-Score : {z}\")"
      ],
      "metadata": {
        "colab": {
          "base_uri": "https://localhost:8080/"
        },
        "id": "0GIoY1SgsRw3",
        "outputId": "c340a34a-88d2-436b-9f0b-8f0729945f57"
      },
      "execution_count": 5,
      "outputs": [
        {
          "output_type": "stream",
          "name": "stdout",
          "text": [
            "Z-Score : 1.0\n"
          ]
        }
      ]
    },
    {
      "cell_type": "markdown",
      "source": [
        "### [Q10.] In a study of the effectiveness of a new weight loss drug, a sample of 50 participants lost an average of 6 pounds with a standard deviation of 2.5 pounds. Conduct a hypothesis test to determine if the drug is significantly effective at a 95% confidence level using a t-test.\n",
        "\n",
        "[Ans]"
      ],
      "metadata": {
        "id": "miqqVw-etXLF"
      }
    },
    {
      "cell_type": "code",
      "source": [
        "# Null Hypothesis : Drug significantly effective at 95% confidence interval.\n",
        "# Alternate Hypothesis : Drug not significantly effective at 95% confidence interval.\n",
        "\n",
        "sample_size = 50\n",
        "std = 2.5\n",
        "confidence_interval = 0.95\n",
        "alpha = 0.05\n",
        "sample_mean = 6\n",
        "\n",
        "t_critical = stats.t.ppf(1-alpha/2, df=sample_size-1)\n",
        "t_statistics = sample_mean / (std/sample_size)\n",
        "\n",
        "if(t_statistics > t_critical):\n",
        "    print(\"Reject null hypothesis\")\n",
        "else:\n",
        "    print(\"Accept null hypothesis\")\n"
      ],
      "metadata": {
        "colab": {
          "base_uri": "https://localhost:8080/"
        },
        "id": "pDDhRuTRtH9d",
        "outputId": "3d6b2e7d-a2c0-4025-d5d2-8584c2162cf9"
      },
      "execution_count": 7,
      "outputs": [
        {
          "output_type": "stream",
          "name": "stdout",
          "text": [
            "Reject null hypothesis\n"
          ]
        }
      ]
    },
    {
      "cell_type": "markdown",
      "source": [
        "### [Q11.] In a survey of 500 people, 65% reported being satisfied with their current job. Calculate the 95% confidence interval for the true proportion of people who are satisfied with their job.\n",
        "\n",
        "[Ans]"
      ],
      "metadata": {
        "id": "3m9Hge4UwTww"
      }
    },
    {
      "cell_type": "code",
      "source": [
        "import numpy as np\n",
        "import scipy.stats as stats\n",
        "n_survey = 500\n",
        "p_satisfied = 0.65\n",
        "\n",
        "z = stats.norm.ppf(0.975)\n",
        "\n",
        "margin_of_error = z * (np.sqrt((p_satisfied * (1 - p_satisfied)) / n_survey))\n",
        "\n",
        "lower_bound = p_satisfied - margin_of_error\n",
        "upper_bound = p_satisfied + margin_of_error\n",
        "\n",
        "print(f\"95% Confidence Interval : ({lower_bound:.2f}, {upper_bound:.2f})\")"
      ],
      "metadata": {
        "colab": {
          "base_uri": "https://localhost:8080/"
        },
        "id": "YCsgO5lSv_Rb",
        "outputId": "6b8d3759-00a2-47b4-eacb-7cdd220c83b0"
      },
      "execution_count": 3,
      "outputs": [
        {
          "output_type": "stream",
          "name": "stdout",
          "text": [
            "95% Confidence Interval : (0.61, 0.69)\n"
          ]
        }
      ]
    },
    {
      "cell_type": "markdown",
      "source": [
        "### [Q12.] A researcher is testing the effectiveness of two different teaching methods on student performance. Sample A has a mean score of 85 with a standard deviation of 6, while sample B has a mean score of 82 with a standard deviation of 5. Conduct a hypothesis test to determine if the two teaching methods have a significant difference in student performance using a t-test with a significance level of 0.01.\n",
        "\n",
        "[Ans]"
      ],
      "metadata": {
        "id": "NcenFIfey1Nr"
      }
    },
    {
      "cell_type": "code",
      "source": [
        "# Null Hypothesis : Both teaching has same significant difference in student performance.\n",
        "\n",
        "alpha = 0.01\n",
        "std_A = 6\n",
        "std_B = 5\n",
        "mean_A = 85\n",
        "mean_B = 82\n",
        "n_A = 30\n",
        "n_B = 30\n",
        "\n",
        "pooled_std = np.sqrt(((n_A - 1) * std_A**2 + (n_B - 1) * std_B**2) / (n_A + n_B - 2))\n",
        "\n",
        "t_critical = stats.t.ppf(1-alpha/2, df=n_A + n_B - 2)\n",
        "\n",
        "t_stats = (mean_A - mean_B) / (pooled_std * np.sqrt(1/n_A + 1/n_B))\n",
        "\n",
        "if(t_stats > t_critical):\n",
        "    print(\"Reject Null Hypothesis\")\n",
        "else:\n",
        "    print(\"Accept Null Hypothesis\")\n",
        "\n",
        "\n"
      ],
      "metadata": {
        "colab": {
          "base_uri": "https://localhost:8080/"
        },
        "id": "h3VP2ycMyger",
        "outputId": "4d3ff146-bddd-4a9c-82a2-a5afcedb1192"
      },
      "execution_count": 11,
      "outputs": [
        {
          "output_type": "stream",
          "name": "stdout",
          "text": [
            "Accept Null Hypothesis\n"
          ]
        }
      ]
    },
    {
      "cell_type": "markdown",
      "source": [
        "### [Q13.] A population has a mean of 60 and a standard deviation of 8. A sample of 50 observations has a mean of 65. Calculate the 90% confidence interval for the true population mean.\n",
        "\n",
        "[Ans]"
      ],
      "metadata": {
        "id": "hOFcQKHt17Y7"
      }
    },
    {
      "cell_type": "code",
      "source": [
        "std = 8\n",
        "sample_size = 50\n",
        "sample_mean = 65\n",
        "ci = 0.90\n",
        "alpha = 1 - ci\n",
        "\n",
        "\n",
        "z = stats.norm.ppf(1-alpha/2)\n",
        "\n",
        "margin_of_error = z * (std/np.sqrt(sample_size))\n",
        "\n",
        "lower_bound = sample_mean - margin_of_error\n",
        "upper_bound = sample_mean + margin_of_error\n",
        "\n",
        "print(f\"90% Confidence Interval : ({lower_bound:.2f}, {upper_bound:.2f})\")"
      ],
      "metadata": {
        "colab": {
          "base_uri": "https://localhost:8080/"
        },
        "id": "Ut1HfHFDzKvm",
        "outputId": "caa51be0-577e-46ee-ed82-117908db6fe1"
      },
      "execution_count": 17,
      "outputs": [
        {
          "output_type": "stream",
          "name": "stdout",
          "text": [
            "90% Confidence Interval : (63.14, 66.86)\n"
          ]
        }
      ]
    },
    {
      "cell_type": "markdown",
      "source": [
        "### [Q14.] In a study of the effects of caffeine on reaction time, a sample of 30 participants had an average reaction time of 0.25 seconds with a standard deviation of 0.05 seconds. Conduct a hypothesis test to determine if the caffeine has a significant effect on reaction time at a 90% confidence level using a t-test.\n",
        "\n",
        "[Ans]"
      ],
      "metadata": {
        "id": "TPKmAspZ5jzL"
      }
    },
    {
      "cell_type": "code",
      "source": [
        "sample_mean = 0.25\n",
        "sample_std = 0.5\n",
        "sample_size = 30\n",
        "ci = 0.90\n",
        "alpha = 1 - ci\n",
        "\n",
        "t_statistics = sample_mean / (std/np.sqrt(sample_size))\n",
        "t_critical = stats.t.ppf(1-alpha/2, df=sample_size-1)\n",
        "\n",
        "if(t_statistics > t_critical):\n",
        "  print(\"Reject the NUll Hypothesis\")\n",
        "else:\n",
        "  print(\"Fail to reject the Null Hypothesis\")"
      ],
      "metadata": {
        "colab": {
          "base_uri": "https://localhost:8080/"
        },
        "id": "FA97BZUe5KGp",
        "outputId": "88b7b955-54a5-4d4b-dc89-f41b1ab1d51f"
      },
      "execution_count": 26,
      "outputs": [
        {
          "output_type": "stream",
          "name": "stdout",
          "text": [
            "Reject the NUll Hypothesis\n"
          ]
        }
      ]
    }
  ]
}