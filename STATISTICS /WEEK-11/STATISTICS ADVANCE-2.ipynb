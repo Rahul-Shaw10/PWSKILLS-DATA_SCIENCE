{
 "cells": [
  {
   "cell_type": "markdown",
   "id": "fa9b51cc-f92a-40b3-9509-0144caf75f71",
   "metadata": {},
   "source": [
    "### [Q1.] What are the Probability Mass Function (PMF) and Probability Density Function (PDF)? Explain with an example.\n",
    "##### [Ans]"
   ]
  },
  {
   "cell_type": "markdown",
   "id": "c534ea5d-f12f-4950-8fbe-b69f86f066ea",
   "metadata": {},
   "source": [
    "**PROBABILITY MASS FUNCTION :- (PMF)**<br>\n",
    "The probability mass function (PMF) is used for discrete random variables and gives the probability of each possible outcome. It assigns probabilities to specific values.\n",
    "\n",
    "**EXAMPLE :**<br>\n",
    "Let's say you have a fair six-sided die. The PMF of this die would be:\n",
    "- P(X=1) = 1/6\n",
    "- P(X=2) = 1/6\n",
    "- P(X=3) = 1/6\n",
    "- P(X=4) = 1/6\n",
    "- P(X=5) = 1/6\n",
    "- P(X=6) = 1/6\n",
    "\n",
    "___\n",
    "\n",
    "**PROBABILITY DENSITY FUNCTION :- (PDF)**<br>\n",
    "The probability density function (PDF) is used for continuous random variables and gives the probability of a random variable falling within a certain range. It describes the shape of the probability distribution.\n",
    "\n",
    "**EXAMPLE :**<br>\n",
    "The PDF of a standard normal distribution (bell curve) would be a mathematical formula that describes the likelihood of a random variable falling within a specific range of values."
   ]
  },
  {
   "cell_type": "markdown",
   "id": "225b80aa-677b-4221-b5c2-e1fb097cf8fd",
   "metadata": {},
   "source": [
    "### [Q2.] What is Cumulative Density Function (CDF)? Explain with an example. Why CDF is used?\n",
    "##### [Ans]"
   ]
  },
  {
   "cell_type": "markdown",
   "id": "c72e7155-355c-4cce-9a80-57eb93fbc26c",
   "metadata": {},
   "source": [
    "**CUMMULATIVE DENSITY FUNCTION :- (CDF)**<br>\n",
    "The cummulative distribution function (CDF) is a function that gives the probability that a random variable takes on a value less than or equal to a given value. It provides information about the probability distribution as a whole.\n",
    "\n",
    "**EXAMPLE :**<br>\n",
    "Let's consider a fair six-sided die. The CDF of this die would be :\n",
    "- F(x) = P(X≤x)\n",
    "- F(1) = 1/6\n",
    "- F(2) = 2/6\n",
    "- F(3) = 3/6\n",
    "- F(4) = 4/6\n",
    "- F(5) = 5/6\n",
    "- F(6) = 1\n",
    "\n",
    "**USED :**<br>\n",
    "The CDF is used to calculate probabilities of events, such as finding the probability that a random variable falls within a certain range or determining the probability of obtaining a specific value or less."
   ]
  },
  {
   "cell_type": "markdown",
   "id": "056d2588-1dee-4848-978b-1de56c63770e",
   "metadata": {},
   "source": [
    "### [Q3.] What are some examples of situations where the normal distribution might be used as a model? Explain how the parameters of the normal distribution relate to the shape of the distribution.\n",
    "##### [Ans]"
   ]
  },
  {
   "cell_type": "markdown",
   "id": "6a7aef73-cdd2-4707-bf38-350b556b4007",
   "metadata": {},
   "source": [
    "Some examplees of situation where the normal distribution might be used as a model are as follows:<br>\n",
    "1. **Height of People:** The heights of individuals in a population tend to follow a normal distribution. Most people are of average height (around the mean), while taller and shorter individuals are less common.\n",
    "\n",
    "2. **Test Scores:** In educational assessments, test scores often follow a normal distribution. Most students score around the average (mean), and fewer students score much higher or much lower.\n",
    "\n",
    "3. **Measurement Errors:** Errors in measurement processes, such as weighing objects or recording temperature, often follow a normal distribution. Small errors are more common, while larger errors are increasingly rare.\n",
    "\n",
    "4. **Economic Data:** Many economic indicators, like income and GDP growth rates, are assumed to be normally distributed. Extreme economic events are less frequent, and most observations cluster around the mean.\n",
    "\n",
    "5. **Natural Phenomena:** Natural phenomena like the distribution of rainfall amounts or wind speeds can be modeled using the normal distribution, assuming no strong underlying trends or influences.\n",
    "\n",
    "The parameters of the normal distribution are the mean (μ) and the standard deviation (σ). These parameters play a crucial role in shaping the distribution:<br>\n",
    "1. **Mean (μ):** The mean is the central value around which the data points cluster. It determines the center of the distribution. If you shift the mean, the entire distribution shifts along with it.\n",
    "\n",
    "2. **Standard Deviation (σ):** The standard deviation measures the spread or dispersion of the data points around the mean. A smaller standard deviation results in a narrower, taller curve, while a larger standard deviation leads to a wider, flatter curve."
   ]
  },
  {
   "cell_type": "markdown",
   "id": "94f97cce-5efd-4e9b-9deb-a1ed3e546596",
   "metadata": {},
   "source": [
    "### [Q4.] Explain the importance of Normal Distribution. Give a few real-life examples of Normal Distribution.\n",
    "##### [Ans]"
   ]
  },
  {
   "cell_type": "markdown",
   "id": "e7e2e955-b6f4-4c2d-8d56-090dd2bb0760",
   "metadata": {},
   "source": [
    "The importance of the normal distribution can be explained as follows:<br>\n",
    "1. **Many natural phenomena follow a normal distribution :-** The normal distribution is obseerved in many natural phenomena, such as the heights and weights of a population, the measurement errors in laboratory experiments, the test scores of students, the time taken to complete a task, and many more.\n",
    "\n",
    "2. **Statistical inference :-** The normal distribution is used extensively in statistical inference, which involves drawing conclusions about a population baseed on a sample of data. Many statistical tests, such as the t-test and ANNOVA, assume that the data follow a normal distribution.\n",
    "\n",
    "3. **Cental limit theorm :-** The central limit theorem states that the sum of a large number of independent and identically distributed random variables will tend to a normal distribution, regardless of the distribution of the individual variables. This property makes the normal distribution a fundamental concept in probability theory and statistics.\n",
    "\n",
    "Some real life examples of normal distribution are as follows:\n",
    "1. **Heights of adults :-** The heights of adults follow a normal distribution, with a mean of around 5 feet 7 inches and a standard deviation of around 3 inches.\n",
    "\n",
    "2. **Test scores :-** The scores on a standardized test, such as the SAT or GRE, follow a normal distribution, with a mean of around 500-600 and a standard deviation of around 100-200.\n",
    "\n",
    "3. **IQ scores :-** The IQ scores of a population follow a normal distribution, with a mean of 100 and a standard deviation of 15.\n",
    "\n",
    "4. **Stock market returns :-** The daily returns on the stock market follow a normal distribution, with a mean of around 0 and a standard deviation of around 1-2%."
   ]
  },
  {
   "cell_type": "markdown",
   "id": "7c0d981f-f4d0-40df-9130-bd1acb007604",
   "metadata": {},
   "source": [
    "### [Q5.] What is Bernoulli Distribution? Give an Example. What is the difference between Bernoulli Distribution and Binomial Distribution?\n",
    "##### [Ans]"
   ]
  },
  {
   "cell_type": "markdown",
   "id": "8e203ac9-f9ee-4100-b957-3935fe939fd0",
   "metadata": {},
   "source": [
    "**DEFINATION :-**<br>\n",
    "In probability theory and statistics, the bernoulli distribution, named after Swiss Mathematician Jacob Bernouli, is the discrete pribability distribution of a random variable which takes the value 1 with probability p and the value 0 with probability q = 1-p.\n",
    "\n",
    "**EXAMPLE :**<br>\n",
    "Consider flipping a fair coin. The Bernoulli Distribution model this as a binary event where the outcome is either heads or tails. If we define success as getting heads, then the probability of success is 0.5, and the probability of failure getting tails is also 0.5. The Bernoulli distribution would output a probability distribution where the probability of success is 0.5 and the probability of failure is 0.5.\n",
    "\n",
    "**DIFFERENCE BETWEEN BERNOULLI AND BINOMIAL DISTRIBUTION :-**<br>\n",
    "| BERNOULLI DISTRIBUTION | BINOMIAL DISTRIBUTION |\n",
    "| ---------------------- | --------------------- |\n",
    "| In Bernoulli distribution models the outcome of a single event. | In Binomial distribution models the number of successes in a fixed number of independent Bernoulli trails. |"
   ]
  },
  {
   "cell_type": "markdown",
   "id": "ee20bfc8-b379-4eb0-b124-fb8762b08b91",
   "metadata": {},
   "source": [
    "### [Q6.] Consider a dataset with a mean of 50 and a standard deviation of 10. If we assume that the dataset is normally distributed, what is the probability that a randomly selected observation will be greater than 60? Use the appropriate formula and show your calculations.\n",
    "##### [Ans]"
   ]
  },
  {
   "cell_type": "markdown",
   "id": "41a0416d-2df8-4fcc-9d93-6dad99bb46ef",
   "metadata": {},
   "source": [
    "We can use the z-table to solve this question.<br>\n",
    "**The apporpriate formula to use it :**\n",
    "$$z = (x-μ)/σ$$\n",
    "where x is the value of the observation are  interested in (in this case x=60), μ is the mean of the dataset and σ is the standard deviation of the dataset.\n",
    "\n",
    "**Substituting the values given in this question we get :**\n",
    "$$z = (60-50)/10 = 1$$\n",
    "Now we need to use the z-table to find the probability that a z-score is greater than 1.\n",
    "\n",
    "Using the z-table, we look up the probability corresponding to a z-score of 1.00 in the positive z-score column. The table tells us that the probability is 0.8413.\n",
    "\n",
    "The probability that we got from z-table is the probability of randomly selected number less than 60, because z-table gives us the values on the left side of 60. But we need the values on the right side (greater than 60)  of 60. So, we can get that probability by subtracting 0.8413 from 1 as :\n",
    "$$1 - 0.8413 = 0.1587$$"
   ]
  },
  {
   "cell_type": "markdown",
   "id": "c1ae7fc2-d151-40e0-900f-822eea4617ff",
   "metadata": {},
   "source": [
    "### [Q7.] Explain uniform Distribution with an example.\n",
    "##### [Ans]"
   ]
  },
  {
   "cell_type": "markdown",
   "id": "f4138727-2687-4f9d-9dc6-2a097f2919db",
   "metadata": {},
   "source": [
    "**UNIFORM DISTRIBUTION :-**\n",
    "It is also known as rectangular distribution, is a probability distribution where all possible outcomes are equally likely to occur. It is often used in statistics to model situations where each outcome is equally likely to occur, such as rolling a fair dice or picking a card from a well-shuffled deck.\n",
    "\n",
    "**EXAMPLE :-**<br>\n",
    "When rolling the die, each face has an equal probability of showing up, which is 1/6 or approximately 0.1667. This means that any number between 1 and 6 is equally likely to be rolled and the probability of rolling any particular number is 1/6.<br>\n",
    "In the above examples, the probability density function of the uniform distribution is constant over the entire range of possible outcomes. That is, the probability of any particular outcome is proportional to the size of the range of possible outcomes.<br>"
   ]
  },
  {
   "cell_type": "markdown",
   "id": "304c1924-ae44-45c2-b776-d9f34d3ab501",
   "metadata": {},
   "source": [
    "### [Q8.] What is the z score? State the importance of the z score.\n",
    "##### [Ans]"
   ]
  },
  {
   "cell_type": "markdown",
   "id": "2942169e-e425-47e2-a0e9-048df4338543",
   "metadata": {},
   "source": [
    "The z-score is a statistical measure that expresses how far a data point is from the mean of a distribution in terms of standard deviations.\n",
    "The formula for calculating the z-score of a data point is:\n",
    "$$z = (x-μ)/σ$$\n",
    "where x is the data point, μ is the mean of the distribution and σ is the standard deviation.\n",
    "\n",
    "**Importance:**\n",
    "1. The z-score is important because it allows us to standardize data from different distributions, which can then be compared and analyzed more easily. By converting data into z-scores, we can compare observations from different samples or populations and make meaningful statements about their relative positions.\n",
    "2. The z-score is also useful in hypothesis testing, where it is used to calculate the probability of observing a value as extreme as the one observed, assuming a certain null hypothesis."
   ]
  },
  {
   "cell_type": "markdown",
   "id": "43197d6c-250c-4ff2-a8ac-0cc9c9262f02",
   "metadata": {},
   "source": [
    "### [Q9.] What is Central Limit Theorem? State the significance of the Central Limit Theorem.\n",
    "##### [Ans]"
   ]
  },
  {
   "cell_type": "markdown",
   "id": "bd833ac1-380b-4827-8cf7-4cc3b0942a2a",
   "metadata": {},
   "source": [
    "**DEFINATION :-**\n",
    "The Central Limit Theorem (CLT) is a fundamental result in probability theory and statistics that describes the behavior of the sum or average of a large number of independent and identically distributed random variables. It states that, under certain conditions, the sum or average of such variables will converge to a normal distribution, regardless of the distribution of the individual variables.\n",
    "\n",
    "**SIGNIFICANCE :-**\n",
    "The significance of the CLT is that it provides a theoretical foundation for many statistical techniques that assume normally distributed data.\n",
    "For example, many hypothesis tests and confidence intervals rely on the assumption of normality, which is often justified by the CLT."
   ]
  },
  {
   "cell_type": "markdown",
   "id": "04629ffd-c222-4d31-8413-bc8339198dcf",
   "metadata": {},
   "source": [
    "### [Q10.] State the assumptions of the Central Limit Theorem.\n",
    "##### [Ans]"
   ]
  },
  {
   "cell_type": "markdown",
   "id": "354c3aab-5797-4d54-9e1e-a1f7819cbc9e",
   "metadata": {},
   "source": [
    "The assumptions of the Central Limit Theorm (CLT) are as follows :\n",
    "1. **Independence:** The observations in the sample are independent of each other, meaning that the outcome of one observation does not influence the outcome of another observation.\n",
    "2. **Sample size:** The sample size is sufficiently large. The larger the sample size, the better the approximation to the normal distribution.\n",
    "3. **Identically distributed:** The sample data comes from a population that has a well-defined mean and variance. The observations in the sample are identically distributed, meaning that they come from the same population.\n",
    "4. **Finite variance:** The population has a finite variance. This assumption ensures that the sample variance is also finite.\n",
    "5. **Non-skewed population distribution:** The population distribution is not strongly skewed. A strongly skewed population distribution can affect the validity of the Central Limit Theorem, and a larger sample size may be required to approximate a normal distribution."
   ]
  }
 ],
 "metadata": {
  "kernelspec": {
   "display_name": "Python 3 (ipykernel)",
   "language": "python",
   "name": "python3"
  },
  "language_info": {
   "codemirror_mode": {
    "name": "ipython",
    "version": 3
   },
   "file_extension": ".py",
   "mimetype": "text/x-python",
   "name": "python",
   "nbconvert_exporter": "python",
   "pygments_lexer": "ipython3",
   "version": "3.10.6"
  }
 },
 "nbformat": 4,
 "nbformat_minor": 5
}
