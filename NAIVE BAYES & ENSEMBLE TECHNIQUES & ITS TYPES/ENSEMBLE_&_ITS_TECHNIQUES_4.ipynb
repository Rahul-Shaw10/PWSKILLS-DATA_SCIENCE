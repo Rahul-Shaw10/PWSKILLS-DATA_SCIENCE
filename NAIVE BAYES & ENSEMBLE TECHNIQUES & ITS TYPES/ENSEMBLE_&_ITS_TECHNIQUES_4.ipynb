{
  "nbformat": 4,
  "nbformat_minor": 0,
  "metadata": {
    "colab": {
      "provenance": []
    },
    "kernelspec": {
      "name": "python3",
      "display_name": "Python 3"
    },
    "language_info": {
      "name": "python"
    }
  },
  "cells": [
    {
      "cell_type": "markdown",
      "source": [
        "###[Q1.] You are working on a machine learning project where you have a dataset containing numerical and categorical features. You have identified that some of the features are highly correlated and there are missing values in some of the columns. You want to build a pipeline that automates the feature engineering process and handles the missing values.\n",
        "\n",
        "Design a pipeline that includes the following steps:\n",
        "Use an automated feature selection method to identify the important features in the dataset.\n",
        "\n",
        "Create a numerical pipeline that includes the following steps.\n",
        "- Impute the missing values in the numerical columns using the mean of the column values.\n",
        "- Scale the numerical columns using standardisation.\n",
        "\n",
        "Create a categorical pipeline that includes the following steps.\n",
        "- Impute the missing values in the categorical columns using the most frequent value of the column.\n",
        "- One-hot encode the categorical columns.\n",
        "- Combine the numerical and categorical pipelines using a ColumnTransformer.\n",
        "- Use a Random Forest Classifier to build the final model.\n",
        "Evaluate the accuracy of the model on the test dataset.\n",
        "\n",
        "#####[Ans]"
      ],
      "metadata": {
        "id": "JFdlpizb9njs"
      }
    },
    {
      "cell_type": "code",
      "execution_count": 15,
      "metadata": {
        "colab": {
          "base_uri": "https://localhost:8080/"
        },
        "id": "1DBf2-Wd9kGD",
        "outputId": "1800a120-12bb-4aec-c1de-7953a750aa26"
      },
      "outputs": [
        {
          "output_type": "stream",
          "name": "stdout",
          "text": [
            "ACCURACY : 0.50\n"
          ]
        }
      ],
      "source": [
        "## STEP 1 - IMPORTATION OF THE LIBRARIES :-\n",
        "import pandas as pd\n",
        "import numpy as np\n",
        "from sklearn.model_selection import train_test_split\n",
        "from sklearn.pipeline import Pipeline\n",
        "from sklearn.impute import SimpleImputer\n",
        "from sklearn.preprocessing import StandardScaler, OneHotEncoder\n",
        "from sklearn.compose import ColumnTransformer\n",
        "from sklearn.ensemble import RandomForestClassifier\n",
        "from sklearn.metrics import accuracy_score\n",
        "\n",
        "## STEP 2 - CREATING DATASET :-\n",
        "data = pd.DataFrame({\n",
        "    'numerical1': [1, 2, np.nan, 4, 5],\n",
        "    'numerical2': [2, 3, 4, np.nan, 6],\n",
        "    'categorical1': ['A', 'B', 'A', np.nan, 'C'],\n",
        "    'categorical2': ['X', 'Y', 'X', 'Y', np.nan],\n",
        "    'target': [0, 1, 0, 1, 1]\n",
        "})\n",
        "\n",
        "X = data.drop(columns=['target'])\n",
        "y = data['target']\n",
        "\n",
        "## STEP 3 - TRAIN TEST SPLIT :-\n",
        "X_train, X_test, y_train, y_test = train_test_split(X, y, test_size=0.3, random_state=42)\n",
        "\n",
        "## STEP 4 - NUMERICAL PIPELINE :-\n",
        "numerical_pipeline = Pipeline([\n",
        "    ('impute', SimpleImputer(strategy='mean')),\n",
        "    ('scaler', StandardScaler())\n",
        "])\n",
        "\n",
        "## STEP 5 - CATEGORICAL PIPELINE :-\n",
        "categorical_pipeline = Pipeline([\n",
        "    ('impute', SimpleImputer(strategy='most_frequent')),\n",
        "    ('encoder', OneHotEncoder(handle_unknown='ignore'))\n",
        "])\n",
        "\n",
        "## STEP 6 - COMBINE PIPELINE :-\n",
        "preprocessor = ColumnTransformer([\n",
        "    ('num', numerical_pipeline, ['numerical1', 'numerical2']),\n",
        "    ('cat', categorical_pipeline, ['categorical1', 'categorical2'])\n",
        "])\n",
        "\n",
        "## STEP 7 - BUILD THE FULL PIPELINE :-\n",
        "pipeline = Pipeline([\n",
        "    ('preprocessor', preprocessor),\n",
        "    ('classifier', RandomForestClassifier())\n",
        "])\n",
        "\n",
        "## STEP 8 - TRAIN AND EVALUATE :-\n",
        "pipeline.fit(X_train,y_train)\n",
        "y_pred = pipeline.predict(X_test)\n",
        "accuracy = accuracy_score(y_test, y_pred)\n",
        "print(f\"ACCURACY : {accuracy:.2f}\")\n"
      ]
    },
    {
      "cell_type": "markdown",
      "source": [
        "###[Q2.] Build a pipeline that includes a random forest classifier and a logistic regression classifier, and then use a voting classifier to combine their predictions. Train the pipeline on the iris dataset and evaluate its accuracy.\n",
        "#####[Ans]"
      ],
      "metadata": {
        "id": "N5v0vi0cIewJ"
      }
    },
    {
      "cell_type": "code",
      "source": [
        "from sklearn.datasets import load_iris\n",
        "from sklearn.ensemble import VotingClassifier\n",
        "from sklearn.linear_model import LogisticRegression\n",
        "from sklearn.ensemble import RandomForestClassifier\n",
        "from sklearn.model_selection import train_test_split\n",
        "from sklearn.metrics import accuracy_score\n",
        "\n",
        "iris = load_iris()\n",
        "X, y = iris.data, iris.target\n",
        "\n",
        "X_train, X_test, y_train, y_test = train_test_split(X, y, test_size=0.3, random_state=42)\n",
        "\n",
        "rf = RandomForestClassifier(random_state=42)\n",
        "lr = LogisticRegression(max_iter=200, random_state=42)\n",
        "\n",
        "voting = VotingClassifier(estimators=[('rf', rf), ('lr', lr)], voting='hard')\n",
        "\n",
        "voting.fit(X_train, y_train)\n",
        "\n",
        "y_pred = voting.predict(X_test)\n",
        "print(f\"Accuracy : {accuracy_score(y_test, y_pred)}\")"
      ],
      "metadata": {
        "colab": {
          "base_uri": "https://localhost:8080/"
        },
        "id": "rqa5__FNFteR",
        "outputId": "eb045f9d-b11d-492e-daf0-cf05ad08e19e"
      },
      "execution_count": 4,
      "outputs": [
        {
          "output_type": "stream",
          "name": "stdout",
          "text": [
            "Accuracy : 1.0\n"
          ]
        }
      ]
    }
  ]
}