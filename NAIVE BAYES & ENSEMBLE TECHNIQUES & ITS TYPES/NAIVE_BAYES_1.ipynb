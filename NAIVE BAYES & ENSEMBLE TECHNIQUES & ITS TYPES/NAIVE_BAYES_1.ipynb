{
  "nbformat": 4,
  "nbformat_minor": 0,
  "metadata": {
    "colab": {
      "provenance": []
    },
    "kernelspec": {
      "name": "python3",
      "display_name": "Python 3"
    },
    "language_info": {
      "name": "python"
    }
  },
  "cells": [
    {
      "cell_type": "markdown",
      "source": [
        "### [Q1.] What is Bayes' theorem?\n",
        "##### [Ans]\n",
        "\n",
        "Bayes' theorem is a fundamental theorem in probability and statistics that describes the probability of an event based on prior knowledge of conditions that might be related to the event. It provides a way to update the probability of a hypothesis as more evidence becomes available.\n",
        "\n"
      ],
      "metadata": {
        "id": "S-asF46elEsm"
      }
    },
    {
      "cell_type": "markdown",
      "source": [
        "### [Q2.] What is the formula for Bayes' theorem?\n",
        "##### [Ans]\n",
        "\n",
        "The formula of Baye's Theorem is as follows:\n",
        "$$\n",
        "P(A|B) = (P(A) * P(B|A)) / P(B)\n",
        "$$\n",
        "where,\n",
        "- P(A|B) is the Probability of A given B has occured\n",
        "- P(B|A) is the Probability of B given A has occured\n",
        "- P(A) is the Probability of event A\n",
        "- P(B) is the probability of event b"
      ],
      "metadata": {
        "id": "xGIJMBEUlPum"
      }
    },
    {
      "cell_type": "markdown",
      "source": [
        "### [Q3.] How is Bayes' theorem used in practice?\n",
        "##### [Ans]\n",
        "\n",
        "Bayes' theorem is widely used in various fields for:\n",
        "- Medical Diagnosis: Determining the probability of a disease given test results.\n",
        "- Spam Filtering: Identifying whether an email is spam based on its content.\n",
        "- Machine Learning: Implementing probabilistic models such as Naive Bayes classifiers.\n",
        "- Risk Analysis: Estimating risks in decision-making under uncertainty."
      ],
      "metadata": {
        "id": "1PN_kSV1meey"
      }
    },
    {
      "cell_type": "markdown",
      "source": [
        "### [Q4.] What is the relationship between Bayes' theorem and conditional probability?\n",
        "##### [Ans]\n",
        "\n",
        "Bayes' theorem is derived from the definition of conditional probability. It essentially reverses the condition, allowing us to calculate\n",
        "𝑃\n",
        "(\n",
        "𝐴\n",
        "∣\n",
        "𝐵\n",
        ")\n",
        "P(A∣B) in terms of\n",
        "𝑃\n",
        "(\n",
        "𝐵\n",
        "∣\n",
        "𝐴\n",
        ")\n",
        "P(B∣A),\n",
        "𝑃\n",
        "(\n",
        "𝐴\n",
        ")\n",
        "P(A), and\n",
        "𝑃\n",
        "(\n",
        "𝐵\n",
        ")\n",
        "P(B).\n",
        "This makes it a powerful tool for updating probabilities when new evidence is available."
      ],
      "metadata": {
        "id": "Rj-ReO9Bmqn3"
      }
    },
    {
      "cell_type": "markdown",
      "source": [
        "### [Q5.] How do you choose which type of Naive Bayes classifier to use for any given problem?\n",
        "##### [Ans]\n",
        "\n",
        "The choice of Naive Bayes classifier depends on the type of data:\n",
        "- Gaussian Naive Bayes: For continuous data that follows a normal distribution.\n",
        "- Multinomial Naive Bayes: For discrete data such as word counts or frequencies in text classification.\n",
        "- Bernoulli Naive Bayes: For binary data where features are either present (1) or absent (0)."
      ],
      "metadata": {
        "id": "qPdlu0DLm9xM"
      }
    },
    {
      "cell_type": "markdown",
      "source": [
        "Q6. Assignment:\n",
        "You have a dataset with two features, X1 and X2, and two possible classes, A and B. You want to use Naive\n",
        "Bayes to classify a new instance with features X1 = 3 and X2 = 4. The following table shows the frequency of\n",
        "each feature value for each class:\n",
        "\n",
        "Class X1=1 X1=2 X1=3 X2=1 X2=2 X2=3 X2=4<br>\n",
        "A      3    3    4    4    3    3    3<br>\n",
        "B      2    2    1    2    2    2    3\n",
        "\n",
        "Assuming equal prior probabilities for each class, which class would Naive Bayes predict the new instance\n",
        "to belong to?"
      ],
      "metadata": {
        "id": "TD7GzUd8nNVZ"
      }
    },
    {
      "cell_type": "code",
      "execution_count": 5,
      "metadata": {
        "colab": {
          "base_uri": "https://localhost:8080/"
        },
        "id": "RW66b5uPlBHW",
        "outputId": "7305cc11-4afd-4cc7-aa9a-2b03c91dd9a5"
      },
      "outputs": [
        {
          "output_type": "stream",
          "name": "stdout",
          "text": [
            "The Probability of A : 0.092308\n",
            "The Probability of B : 0.066667\n",
            "The Predicted Class is : A\n"
          ]
        }
      ],
      "source": [
        "frequency_table = {\n",
        "    \"Class\" : [\"A\", \"B\"],\n",
        "    \"X1\" : [[3, 3, 4], [2, 2, 1]],\n",
        "    \"X2\" : [[4, 3, 3, 3], [2, 2, 2, 3]]\n",
        "}\n",
        "\n",
        "def calculate_likelihood(feature, value, class_index):\n",
        "  frequency = frequency_table[feature][class_index]\n",
        "  return frequency[value - 1] / sum(frequency)\n",
        "\n",
        "def calculate_probability(X1, X2, class_index):\n",
        "  likelihood_X1 = calculate_likelihood(\"X1\", X1, class_index)\n",
        "  likelihood_X2 = calculate_likelihood(\"X2\", X2, class_index)\n",
        "  return likelihood_X1 * likelihood_X2\n",
        "\n",
        "X1_new = 3\n",
        "X2_new = 4\n",
        "\n",
        "Prob_A = calculate_probability(X1_new, X2_new, 0)\n",
        "Prob_B = calculate_probability(X1_new, X2_new, 1)\n",
        "\n",
        "pred = \"A\" if Prob_A > Prob_B else \"B\"\n",
        "\n",
        "print(f\"The Probability of A : {Prob_A:2f}\")\n",
        "print(f\"The Probability of B : {Prob_B:2f}\")\n",
        "print(f\"The Predicted Class is : {pred}\")"
      ]
    }
  ]
}