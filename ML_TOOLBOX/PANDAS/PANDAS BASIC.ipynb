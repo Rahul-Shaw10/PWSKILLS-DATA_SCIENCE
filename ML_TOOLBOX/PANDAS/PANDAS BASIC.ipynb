{
 "cells": [
  {
   "cell_type": "code",
   "execution_count": 1,
   "id": "80ad810d-9c9e-4c84-9ffb-6112e485f1d2",
   "metadata": {},
   "outputs": [],
   "source": [
    "import pandas as pd"
   ]
  },
  {
   "cell_type": "markdown",
   "id": "1542367a-2a3d-4623-8ff9-c9aafb792383",
   "metadata": {},
   "source": [
    "### [Q1.] Create a Pandas Series that contains the following data: 4, 8, 15, 16, 23, and 42. Then, print the series."
   ]
  },
  {
   "cell_type": "markdown",
   "id": "042a5885-ae11-401d-9742-722eb2737cb0",
   "metadata": {},
   "source": [
    "##### [Ans]"
   ]
  },
  {
   "cell_type": "code",
   "execution_count": 6,
   "id": "343c0eec-f7ed-4f35-b779-4a798563a560",
   "metadata": {},
   "outputs": [
    {
     "data": {
      "text/plain": [
       "0     4\n",
       "1     8\n",
       "2    15\n",
       "3    16\n",
       "4    23\n",
       "5    42\n",
       "dtype: int64"
      ]
     },
     "execution_count": 6,
     "metadata": {},
     "output_type": "execute_result"
    }
   ],
   "source": [
    "d = [4,8,15,16,23,42]\n",
    "pd.Series(d)"
   ]
  },
  {
   "cell_type": "markdown",
   "id": "21ce6ccc-ed20-4bcd-9761-33eb15536a26",
   "metadata": {},
   "source": [
    "### [Q2.] Create a variable of list type containing 10 elements in it, and apply pandas.Series function on the variable print it."
   ]
  },
  {
   "cell_type": "markdown",
   "id": "cea388b6-5016-4f94-91fc-5294f703939f",
   "metadata": {},
   "source": [
    "##### [Ans]"
   ]
  },
  {
   "cell_type": "code",
   "execution_count": 8,
   "id": "7a6bba41-04ca-4fb1-8b58-721586eb9e1d",
   "metadata": {},
   "outputs": [
    {
     "data": {
      "text/plain": [
       "0    11\n",
       "1    12\n",
       "2    13\n",
       "3    14\n",
       "4    15\n",
       "5    16\n",
       "6    17\n",
       "7    18\n",
       "8    19\n",
       "9    20\n",
       "dtype: int64"
      ]
     },
     "execution_count": 8,
     "metadata": {},
     "output_type": "execute_result"
    }
   ],
   "source": [
    "l = list(range(11,21))\n",
    "pd.Series(l)"
   ]
  },
  {
   "attachments": {
    "06d50a4d-57db-49bd-b5f6-658598427873.png": {
     "image/png": "[encoded data removed]"
    }
   },
   "cell_type": "markdown",
   "id": "32095595-8e68-4a50-9ed7-7835dabc0037",
   "metadata": {},
   "source": [
    "### [Q3.] Create a Pandas DataFrame that contains the following data:\n",
    "\n",
    "![Screenshot (12).png](attachment:06d50a4d-57db-49bd-b5f6-658598427873.png)\n",
    "\n",
    "### Then , print the DataFrame."
   ]
  },
  {
   "cell_type": "markdown",
   "id": "1d36f103-7cea-48ee-81c2-0c9ebda11f37",
   "metadata": {},
   "source": [
    "##### [Ans]"
   ]
  },
  {
   "cell_type": "code",
   "execution_count": 9,
   "id": "c8df25b8-d14a-4a61-94da-b8f707b8053c",
   "metadata": {},
   "outputs": [
    {
     "data": {
      "text/html": [
       "<div>\n",
       "<style scoped>\n",
       "    .dataframe tbody tr th:only-of-type {\n",
       "        vertical-align: middle;\n",
       "    }\n",
       "\n",
       "    .dataframe tbody tr th {\n",
       "        vertical-align: top;\n",
       "    }\n",
       "\n",
       "    .dataframe thead th {\n",
       "        text-align: right;\n",
       "    }\n",
       "</style>\n",
       "<table border=\"1\" class=\"dataframe\">\n",
       "  <thead>\n",
       "    <tr style=\"text-align: right;\">\n",
       "      <th></th>\n",
       "      <th>Name</th>\n",
       "      <th>Age</th>\n",
       "      <th>Gender</th>\n",
       "    </tr>\n",
       "  </thead>\n",
       "  <tbody>\n",
       "    <tr>\n",
       "      <th>0</th>\n",
       "      <td>Alice</td>\n",
       "      <td>25</td>\n",
       "      <td>Female</td>\n",
       "    </tr>\n",
       "    <tr>\n",
       "      <th>1</th>\n",
       "      <td>Bob</td>\n",
       "      <td>30</td>\n",
       "      <td>Male</td>\n",
       "    </tr>\n",
       "    <tr>\n",
       "      <th>2</th>\n",
       "      <td>Claire</td>\n",
       "      <td>27</td>\n",
       "      <td>Female</td>\n",
       "    </tr>\n",
       "  </tbody>\n",
       "</table>\n",
       "</div>"
      ],
      "text/plain": [
       "     Name  Age  Gender\n",
       "0   Alice   25  Female\n",
       "1     Bob   30    Male\n",
       "2  Claire   27  Female"
      ]
     },
     "execution_count": 9,
     "metadata": {},
     "output_type": "execute_result"
    }
   ],
   "source": [
    "df = {\"Name\" : [\"Alice\", \"Bob\", \"Claire\"],\n",
    "     \"Age\" : [25, 30, 27],\n",
    "     \"Gender\" : [\"Female\", \"Male\", \"Female\"]}\n",
    "pd.DataFrame(df)"
   ]
  },
  {
   "cell_type": "markdown",
   "id": "ea5f57e4-6ab9-4d75-ae93-72395bb45dc5",
   "metadata": {},
   "source": [
    "### [Q4.] What is ‘DataFrame’ in pandas and how is it different from pandas.series? Explain with an example."
   ]
  },
  {
   "cell_type": "markdown",
   "id": "4dafeba3-4bb1-418c-a252-34e0ebd3dbc6",
   "metadata": {},
   "source": [
    "##### [Ans]\n",
    "DATAFRAME :- A pandas dataframe is a 2-dimensional table that can store data of different types.\n",
    "\n",
    "PD.SERIES :- A pandas.series is a 1-dimensional array that can store data of a single type."
   ]
  },
  {
   "cell_type": "code",
   "execution_count": 12,
   "id": "2cbf8552-9b63-4c64-9a38-06e7520747c4",
   "metadata": {},
   "outputs": [
    {
     "name": "stdout",
     "output_type": "stream",
     "text": [
      "0    21\n",
      "1    22\n",
      "2    23\n",
      "3    24\n",
      "4    25\n",
      "5    26\n",
      "6    27\n",
      "7    28\n",
      "8    29\n",
      "9    30\n",
      "dtype: int64\n"
     ]
    },
    {
     "data": {
      "text/html": [
       "<div>\n",
       "<style scoped>\n",
       "    .dataframe tbody tr th:only-of-type {\n",
       "        vertical-align: middle;\n",
       "    }\n",
       "\n",
       "    .dataframe tbody tr th {\n",
       "        vertical-align: top;\n",
       "    }\n",
       "\n",
       "    .dataframe thead th {\n",
       "        text-align: right;\n",
       "    }\n",
       "</style>\n",
       "<table border=\"1\" class=\"dataframe\">\n",
       "  <thead>\n",
       "    <tr style=\"text-align: right;\">\n",
       "      <th></th>\n",
       "      <th>NAME</th>\n",
       "      <th>AGE</th>\n",
       "    </tr>\n",
       "  </thead>\n",
       "  <tbody>\n",
       "    <tr>\n",
       "      <th>0</th>\n",
       "      <td>RAHUL</td>\n",
       "      <td>18</td>\n",
       "    </tr>\n",
       "    <tr>\n",
       "      <th>1</th>\n",
       "      <td>ROHAN</td>\n",
       "      <td>21</td>\n",
       "    </tr>\n",
       "    <tr>\n",
       "      <th>2</th>\n",
       "      <td>RAM</td>\n",
       "      <td>20</td>\n",
       "    </tr>\n",
       "    <tr>\n",
       "      <th>3</th>\n",
       "      <td>MOHAN</td>\n",
       "      <td>25</td>\n",
       "    </tr>\n",
       "    <tr>\n",
       "      <th>4</th>\n",
       "      <td>RAJESH</td>\n",
       "      <td>23</td>\n",
       "    </tr>\n",
       "  </tbody>\n",
       "</table>\n",
       "</div>"
      ],
      "text/plain": [
       "     NAME  AGE\n",
       "0   RAHUL   18\n",
       "1   ROHAN   21\n",
       "2     RAM   20\n",
       "3   MOHAN   25\n",
       "4  RAJESH   23"
      ]
     },
     "execution_count": 12,
     "metadata": {},
     "output_type": "execute_result"
    }
   ],
   "source": [
    "#PD.SERIES (EXAMPLE):\n",
    "series = pd.Series([21,22,23,24,25,26,27,28,29,30])\n",
    "\n",
    "#PD.DATAFRAME (EXAMPLE):\n",
    "df1 = {\"NAME\" : [\"RAHUL\" , \"ROHAN\", \"RAM\", \"MOHAN\", \"RAJESH\"],\n",
    "      \"AGE\" : [18, 21, 20, 25, 23]}\n",
    "\n",
    "print(series)\n",
    "pd.DataFrame(df1)"
   ]
  },
  {
   "cell_type": "markdown",
   "id": "4640c3d9-2465-4b0e-b175-3132de0f4e1c",
   "metadata": {},
   "source": [
    "### [[Q5.] What are some common functions you can use to manipulate data in a Pandas DataFrame? Can you give an example of when you might use one of these functions?"
   ]
  },
  {
   "cell_type": "markdown",
   "id": "4204bf01-3502-4415-850c-e6023b19e6d2",
   "metadata": {},
   "source": [
    "##### [Ans]\n",
    ".head() :- It is used to view the first fews rows of the data frame.\n",
    "\n",
    ".tail() :- It is used to view the last fews rows of the data frame.\n",
    "\n",
    ".describe() :- It is used to get summary statistics for each columns.\n",
    "\n",
    ".shape() :- It is used to return a tuple with the number of rows and columns in the data frame."
   ]
  },
  {
   "cell_type": "code",
   "execution_count": 19,
   "id": "f12b1ec7-81f0-4083-9b28-d979a3acc836",
   "metadata": {},
   "outputs": [],
   "source": [
    "df2 = {\"NAME\" : [\"RAHUL\" , \"ROHAN\", \"RAM\", \"MOHAN\", \"RAJESH\"],\n",
    "      \"AGE\" : [18, 21, 20, 25, 23]}\n",
    "df3 = pd.DataFrame(df2)"
   ]
  },
  {
   "cell_type": "code",
   "execution_count": 22,
   "id": "f1a3bf1b-d854-4a67-840f-a8477cb3b205",
   "metadata": {},
   "outputs": [
    {
     "data": {
      "text/html": [
       "<div>\n",
       "<style scoped>\n",
       "    .dataframe tbody tr th:only-of-type {\n",
       "        vertical-align: middle;\n",
       "    }\n",
       "\n",
       "    .dataframe tbody tr th {\n",
       "        vertical-align: top;\n",
       "    }\n",
       "\n",
       "    .dataframe thead th {\n",
       "        text-align: right;\n",
       "    }\n",
       "</style>\n",
       "<table border=\"1\" class=\"dataframe\">\n",
       "  <thead>\n",
       "    <tr style=\"text-align: right;\">\n",
       "      <th></th>\n",
       "      <th>NAME</th>\n",
       "      <th>AGE</th>\n",
       "    </tr>\n",
       "  </thead>\n",
       "  <tbody>\n",
       "    <tr>\n",
       "      <th>0</th>\n",
       "      <td>RAHUL</td>\n",
       "      <td>18</td>\n",
       "    </tr>\n",
       "    <tr>\n",
       "      <th>1</th>\n",
       "      <td>ROHAN</td>\n",
       "      <td>21</td>\n",
       "    </tr>\n",
       "    <tr>\n",
       "      <th>2</th>\n",
       "      <td>RAM</td>\n",
       "      <td>20</td>\n",
       "    </tr>\n",
       "  </tbody>\n",
       "</table>\n",
       "</div>"
      ],
      "text/plain": [
       "    NAME  AGE\n",
       "0  RAHUL   18\n",
       "1  ROHAN   21\n",
       "2    RAM   20"
      ]
     },
     "execution_count": 22,
     "metadata": {},
     "output_type": "execute_result"
    }
   ],
   "source": [
    "# .HEAD() - EXAMPLE:\n",
    "df3.head(3)"
   ]
  },
  {
   "cell_type": "code",
   "execution_count": 23,
   "id": "6524029b-3a04-4701-8a15-f6b9a31eee7f",
   "metadata": {},
   "outputs": [
    {
     "data": {
      "text/html": [
       "<div>\n",
       "<style scoped>\n",
       "    .dataframe tbody tr th:only-of-type {\n",
       "        vertical-align: middle;\n",
       "    }\n",
       "\n",
       "    .dataframe tbody tr th {\n",
       "        vertical-align: top;\n",
       "    }\n",
       "\n",
       "    .dataframe thead th {\n",
       "        text-align: right;\n",
       "    }\n",
       "</style>\n",
       "<table border=\"1\" class=\"dataframe\">\n",
       "  <thead>\n",
       "    <tr style=\"text-align: right;\">\n",
       "      <th></th>\n",
       "      <th>NAME</th>\n",
       "      <th>AGE</th>\n",
       "    </tr>\n",
       "  </thead>\n",
       "  <tbody>\n",
       "    <tr>\n",
       "      <th>2</th>\n",
       "      <td>RAM</td>\n",
       "      <td>20</td>\n",
       "    </tr>\n",
       "    <tr>\n",
       "      <th>3</th>\n",
       "      <td>MOHAN</td>\n",
       "      <td>25</td>\n",
       "    </tr>\n",
       "    <tr>\n",
       "      <th>4</th>\n",
       "      <td>RAJESH</td>\n",
       "      <td>23</td>\n",
       "    </tr>\n",
       "  </tbody>\n",
       "</table>\n",
       "</div>"
      ],
      "text/plain": [
       "     NAME  AGE\n",
       "2     RAM   20\n",
       "3   MOHAN   25\n",
       "4  RAJESH   23"
      ]
     },
     "execution_count": 23,
     "metadata": {},
     "output_type": "execute_result"
    }
   ],
   "source": [
    "# .TAIL() - EXAMPLE:\n",
    "df3.tail(3)"
   ]
  },
  {
   "cell_type": "code",
   "execution_count": 24,
   "id": "7f10bab4-0f51-49cf-ae8c-694adf0c77f0",
   "metadata": {},
   "outputs": [
    {
     "data": {
      "text/html": [
       "<div>\n",
       "<style scoped>\n",
       "    .dataframe tbody tr th:only-of-type {\n",
       "        vertical-align: middle;\n",
       "    }\n",
       "\n",
       "    .dataframe tbody tr th {\n",
       "        vertical-align: top;\n",
       "    }\n",
       "\n",
       "    .dataframe thead th {\n",
       "        text-align: right;\n",
       "    }\n",
       "</style>\n",
       "<table border=\"1\" class=\"dataframe\">\n",
       "  <thead>\n",
       "    <tr style=\"text-align: right;\">\n",
       "      <th></th>\n",
       "      <th>AGE</th>\n",
       "    </tr>\n",
       "  </thead>\n",
       "  <tbody>\n",
       "    <tr>\n",
       "      <th>count</th>\n",
       "      <td>5.000000</td>\n",
       "    </tr>\n",
       "    <tr>\n",
       "      <th>mean</th>\n",
       "      <td>21.400000</td>\n",
       "    </tr>\n",
       "    <tr>\n",
       "      <th>std</th>\n",
       "      <td>2.701851</td>\n",
       "    </tr>\n",
       "    <tr>\n",
       "      <th>min</th>\n",
       "      <td>18.000000</td>\n",
       "    </tr>\n",
       "    <tr>\n",
       "      <th>25%</th>\n",
       "      <td>20.000000</td>\n",
       "    </tr>\n",
       "    <tr>\n",
       "      <th>50%</th>\n",
       "      <td>21.000000</td>\n",
       "    </tr>\n",
       "    <tr>\n",
       "      <th>75%</th>\n",
       "      <td>23.000000</td>\n",
       "    </tr>\n",
       "    <tr>\n",
       "      <th>max</th>\n",
       "      <td>25.000000</td>\n",
       "    </tr>\n",
       "  </tbody>\n",
       "</table>\n",
       "</div>"
      ],
      "text/plain": [
       "             AGE\n",
       "count   5.000000\n",
       "mean   21.400000\n",
       "std     2.701851\n",
       "min    18.000000\n",
       "25%    20.000000\n",
       "50%    21.000000\n",
       "75%    23.000000\n",
       "max    25.000000"
      ]
     },
     "execution_count": 24,
     "metadata": {},
     "output_type": "execute_result"
    }
   ],
   "source": [
    "# .DESCRIBE() - EXAMPLE:\n",
    "df3[['NAME','AGE']].describe()"
   ]
  },
  {
   "cell_type": "code",
   "execution_count": 26,
   "id": "112d326d-fe69-4aeb-8921-7d06d64d3478",
   "metadata": {},
   "outputs": [
    {
     "data": {
      "text/plain": [
       "(5, 2)"
      ]
     },
     "execution_count": 26,
     "metadata": {},
     "output_type": "execute_result"
    }
   ],
   "source": [
    "# .SHAPE() - EXAMPLE:\n",
    "df3.shape"
   ]
  },
  {
   "cell_type": "markdown",
   "id": "a296bb86-2345-4530-8572-ffad5bb63e7e",
   "metadata": {},
   "source": [
    "### [Q6.] Which of the following is mutable in nature Series, DataFrame, Panel?"
   ]
  },
  {
   "cell_type": "markdown",
   "id": "2f28bcd4-f439-48b9-8d53-eff9f410a38f",
   "metadata": {},
   "source": [
    "##### [Ans]\n",
    "SERIES – A Series is a one-dimensional labeled array capable of holding data of any type (integer, string, float, etc.). It is mutable, meaning you can modify its values after creation.\n",
    "\n",
    "DATAFRAME – A two-dimensional labeled data structure with columns of potentially different types, and it is also mutable.\n",
    "\n",
    "PANEL – A three-dimensional data structure, which is mutable in nature. You can modify the values of a Panel after it is created."
   ]
  },
  {
   "cell_type": "markdown",
   "id": "b4660700-5042-4027-b07f-a5d8cdaf7fe5",
   "metadata": {},
   "source": [
    "### [Q7.] Create a DataFrame using multiple Series. Explain with an example."
   ]
  },
  {
   "cell_type": "markdown",
   "id": "4024d51f-c5a9-46b5-b847-c322cc324390",
   "metadata": {},
   "source": [
    "##### [Ans]"
   ]
  },
  {
   "cell_type": "code",
   "execution_count": 32,
   "id": "49db4702-0b8c-4b1b-a72f-3e8b37855de8",
   "metadata": {},
   "outputs": [
    {
     "data": {
      "text/html": [
       "<div>\n",
       "<style scoped>\n",
       "    .dataframe tbody tr th:only-of-type {\n",
       "        vertical-align: middle;\n",
       "    }\n",
       "\n",
       "    .dataframe tbody tr th {\n",
       "        vertical-align: top;\n",
       "    }\n",
       "\n",
       "    .dataframe thead th {\n",
       "        text-align: right;\n",
       "    }\n",
       "</style>\n",
       "<table border=\"1\" class=\"dataframe\">\n",
       "  <thead>\n",
       "    <tr style=\"text-align: right;\">\n",
       "      <th></th>\n",
       "      <th>NAMES</th>\n",
       "      <th>AGE</th>\n",
       "      <th>TOTAL RUNS</th>\n",
       "      <th>HALF CENTURIES</th>\n",
       "      <th>CENTURIES</th>\n",
       "    </tr>\n",
       "  </thead>\n",
       "  <tbody>\n",
       "    <tr>\n",
       "      <th>0</th>\n",
       "      <td>ROHIT SHARMA</td>\n",
       "      <td>36</td>\n",
       "      <td>16458</td>\n",
       "      <td>73</td>\n",
       "      <td>29</td>\n",
       "    </tr>\n",
       "    <tr>\n",
       "      <th>1</th>\n",
       "      <td>VIRAT KHOLI</td>\n",
       "      <td>34</td>\n",
       "      <td>21901</td>\n",
       "      <td>105</td>\n",
       "      <td>76</td>\n",
       "    </tr>\n",
       "    <tr>\n",
       "      <th>2</th>\n",
       "      <td>MS DHONI</td>\n",
       "      <td>42</td>\n",
       "      <td>10773</td>\n",
       "      <td>73</td>\n",
       "      <td>10</td>\n",
       "    </tr>\n",
       "    <tr>\n",
       "      <th>3</th>\n",
       "      <td>SACHIN TENDULKAR</td>\n",
       "      <td>49</td>\n",
       "      <td>34357</td>\n",
       "      <td>164</td>\n",
       "      <td>100</td>\n",
       "    </tr>\n",
       "    <tr>\n",
       "      <th>4</th>\n",
       "      <td>VIRENDER SEHWAG</td>\n",
       "      <td>44</td>\n",
       "      <td>17253</td>\n",
       "      <td>72</td>\n",
       "      <td>38</td>\n",
       "    </tr>\n",
       "  </tbody>\n",
       "</table>\n",
       "</div>"
      ],
      "text/plain": [
       "              NAMES  AGE  TOTAL RUNS  HALF CENTURIES  CENTURIES\n",
       "0      ROHIT SHARMA   36       16458              73         29\n",
       "1       VIRAT KHOLI   34       21901             105         76\n",
       "2          MS DHONI   42       10773              73         10\n",
       "3  SACHIN TENDULKAR   49       34357             164        100\n",
       "4   VIRENDER SEHWAG   44       17253              72         38"
      ]
     },
     "execution_count": 32,
     "metadata": {},
     "output_type": "execute_result"
    }
   ],
   "source": [
    "NAMES = pd.Series([\"ROHIT SHARMA\" , \"VIRAT KHOLI\", \"MS DHONI\", \"SACHIN TENDULKAR\", \"VIRENDER SEHWAG\"])\n",
    "AGE = pd.Series([36, 34, 42, 49, 44])\n",
    "TOTAL_RUNS = pd.Series([16458, 21901, 10773, 34357, 17253])\n",
    "HALF_CENTURIES = pd.Series([73, 105, 73, 164, 72])\n",
    "CENTURIES = pd.Series([29, 76, 10, 100, 38])\n",
    "\n",
    "data = {\"NAMES\" : NAMES,\n",
    "       \"AGE\" : AGE,\n",
    "       \"TOTAL RUNS\" : TOTAL_RUNS,\n",
    "       \"HALF CENTURIES\" : HALF_CENTURIES,\n",
    "       \"CENTURIES\" : CENTURIES}\n",
    "\n",
    "DETAILS = pd.DataFrame(data)\n",
    "DETAILS"
   ]
  },
  {
   "cell_type": "code",
   "execution_count": 33,
   "id": "af9cb3ce-dab6-47c8-ac2a-cab75992c4dc",
   "metadata": {},
   "outputs": [
    {
     "name": "stdout",
     "output_type": "stream",
     "text": [
      "0    10\n",
      "1    20\n",
      "2    30\n",
      "3    40\n",
      "4    50\n",
      "dtype: int64\n",
      "0    10\n",
      "1    20\n",
      "2    35\n",
      "3    40\n",
      "4    50\n",
      "dtype: int64\n"
     ]
    }
   ],
   "source": [
    "import pandas as pd\n",
    "\n",
    "data = [10, 20, 30, 40, 50]\n",
    "series = pd.Series(data)\n",
    "\n",
    "print(series)\n",
    "\n",
    "# Modifying a value at index 2\n",
    "series[2] = 35\n",
    "print(series)\n"
   ]
  },
  {
   "cell_type": "code",
   "execution_count": null,
   "id": "b99fe6da-5522-43d1-8d18-d54061ad750b",
   "metadata": {},
   "outputs": [],
   "source": []
  }
 ],
 "metadata": {
  "kernelspec": {
   "display_name": "Python 3 (ipykernel)",
   "language": "python",
   "name": "python3"
  },
  "language_info": {
   "codemirror_mode": {
    "name": "ipython",
    "version": 3
   },
   "file_extension": ".py",
   "mimetype": "text/x-python",
   "name": "python",
   "nbconvert_exporter": "python",
   "pygments_lexer": "ipython3",
   "version": "3.10.6"
  }
 },
 "nbformat": 4,
 "nbformat_minor": 5
}
