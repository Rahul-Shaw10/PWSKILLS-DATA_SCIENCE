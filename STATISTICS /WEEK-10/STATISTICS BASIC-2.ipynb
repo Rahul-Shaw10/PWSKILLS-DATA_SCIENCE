{
 "cells": [
  {
   "cell_type": "markdown",
   "id": "ad4a6a9c-a9e6-411a-943a-99e7988199a5",
   "metadata": {},
   "source": [
    "### [Q1.] What are the three measures of central tendency?\n",
    "##### [Ans]"
   ]
  },
  {
   "cell_type": "markdown",
   "id": "075d5f40-2011-4464-848b-2fc430922ac3",
   "metadata": {},
   "source": [
    "**The three measures of Central Tendency are as follows :**\n",
    "- Mean\n",
    "- Median \n",
    "- mode"
   ]
  },
  {
   "cell_type": "markdown",
   "id": "c9cf91d3-2112-40bd-a705-09a72e5054d4",
   "metadata": {},
   "source": [
    "### [Q2.] What is the difference between the mean, median, and mode? How are they used to measure the central tendency of a dataset?\n",
    "##### [Ans]"
   ]
  },
  {
   "cell_type": "markdown",
   "id": "fbf11266-6cf4-484f-95ca-c1781aefa69f",
   "metadata": {},
   "source": [
    "**MEAN :-**\n",
    "- The mean is also known as the average.\n",
    "- It is calculated by adding up all the values in the dataset and then dividing by the number of values.\n",
    "- Formula: Mean = (Sum of all values) / (Number of values).\n",
    "- The mean is sensitive to outliers, meaning that extreme values can heavily influence its value. If you have skewed data or outliers, the mean might not accurately represent the \"typical\" value.\n",
    "\n",
    "**MEDIAN :-**\n",
    "- The median is the middle value in a dataset when the values are arranged in ascending or descending order.\n",
    "- If the dataset has an odd number of values, the median is the middle value.\n",
    "- If the dataset has an even number of values, the median is the average of the two middle values.\n",
    "- The median is robust to outliers because it is not affected by extreme values. It represents the \"middle\" value in the data distribution.\n",
    "\n",
    "**MODE :-**\n",
    "- The mode is the value that appears most frequently in the dataset.\n",
    "- A dataset can have no mode (no value that appears more than once) or multiple modes (if multiple values have the highest frequency).\n",
    "- The mode can be useful for identifying the most common value in a dataset, but it might not be appropriate for continuous datasets or datasets with a wide range of value\n",
    "\n",
    "**These measures are used to summarize and describe the central tendency of a dataset in different ways:**\n",
    "\n",
    "- **Mean** :- It gives you an idea of the arithmetic average of the dataset. However, it can be skewed by outliers and might not represent the typical value if the data is not normally distributed.\n",
    "\n",
    "- **Median** :- It provides the middle value, which is often a better representation of central tendency when the data has outliers or is skewed.\n",
    "\n",
    "- **Mode** :- It identifies the most common value, which can be useful for categorical or discrete data, but it might not be very informative for continuous data."
   ]
  },
  {
   "cell_type": "markdown",
   "id": "7f55554f-dc58-4721-92ef-ca1d222e98d2",
   "metadata": {},
   "source": [
    "### [Q3.] Measure the three measures of central tendency for the given height data:\n",
    "#### [178,177,176,177,178.2,178,175,179,180,175,178.9,176.2,177,172.5,178,176.5]\n",
    "\n",
    "##### [Ans]"
   ]
  },
  {
   "cell_type": "code",
   "execution_count": 5,
   "id": "2deb6a7b-e496-4241-8957-c9eb5a825766",
   "metadata": {},
   "outputs": [],
   "source": [
    "import numpy as np\n",
    "import statistics"
   ]
  },
  {
   "cell_type": "code",
   "execution_count": 7,
   "id": "4eccf471-5027-4dd3-b8bf-5db3eec619cc",
   "metadata": {},
   "outputs": [
    {
     "name": "stdout",
     "output_type": "stream",
     "text": [
      "MEAN OF THE DATA : 177.01875\n",
      "MEDIAN OF THE DATA : 177.0\n",
      "MODE OF THE DATA : 178\n"
     ]
    }
   ],
   "source": [
    "lst = [178,177,176,177,178.2,178,175,179,180,175,178.9,176.2,177,172.5,178,176.5]\n",
    "\n",
    "print (\"MEAN OF THE DATA :\",np.mean(lst))\n",
    "print (\"MEDIAN OF THE DATA :\",np.median(lst))\n",
    "print (\"MODE OF THE DATA :\",statistics.mode(lst))"
   ]
  },
  {
   "cell_type": "markdown",
   "id": "1b209d26-d6ed-4705-a80e-51cc0c1c91df",
   "metadata": {},
   "source": [
    "### [Q4.] Find the standard deviation for the given data:\n",
    "#### [178,177,176,177,178.2,178,175,179,180,175,178.9,176.2,177,172.5,178,176.5]\n",
    "##### [Ans]"
   ]
  },
  {
   "cell_type": "code",
   "execution_count": 8,
   "id": "5e079371-fd05-4374-803f-ef550efe708d",
   "metadata": {},
   "outputs": [
    {
     "name": "stdout",
     "output_type": "stream",
     "text": [
      "STANDARD DEVIATION OF THE DATA : 1.7885814036548633\n"
     ]
    }
   ],
   "source": [
    "import numpy as np\n",
    "lst = [178,177,176,177,178.2,178,175,179,180,175,178.9,176.2,177,172.5,178,176.5]\n",
    "\n",
    "print (\"STANDARD DEVIATION OF THE DATA :\",np.std(lst))"
   ]
  },
  {
   "cell_type": "markdown",
   "id": "f4a8c4eb-2107-4453-a0de-231fb13f4ec8",
   "metadata": {},
   "source": [
    "### [Q5.] How are measures of dispersion such as range, variance, and standard deviation used to describe the spread of a dataset? Provide an example.\n",
    "##### [Ans]"
   ]
  },
  {
   "cell_type": "markdown",
   "id": "e09d2435-c288-42d7-b7f0-5363662fd4b4",
   "metadata": {},
   "source": [
    "Measures of dispersion such as range, variance, and standard deviation are used to describe the spread of a dataset by providing information about how far the data points are from the center of the distribution.\n",
    "\n",
    "**Range :-** It is the difference between the largest and smallest values in a dataset. It gives an idea about the spread of the data points.\n",
    "\n",
    "**Variance :-** It measures how far the data points are from the mean of the distribution. It indicates the variability of the data. A high variance indicates that the data points are spread out over a wider range.\n",
    "\n",
    "**Standard Deviation :-** It is the square root of the variance. It is a measure of the average distance of the data points from the mean. It tells how much variation is there in the dataset.\n",
    "\n",
    "**Example :-** Consider a dataset of the weights of 10 people: 120, 125, 130, 135, 140, 145, 150, 155, 160, 165. The mean weight is 140. The range is 45 (165 - 120). The variance is 400 and the standard deviation is 20. This indicates that the weights are spread out over a range of 45 with a variability of 400 and an average distance of 20 from the mean weight of 140."
   ]
  },
  {
   "cell_type": "markdown",
   "id": "a52f4009-0c7c-4da0-b582-c25d0884ae3c",
   "metadata": {},
   "source": [
    "### [Q6.] What is a Venn diagram?\n",
    "##### [Ans]"
   ]
  },
  {
   "cell_type": "markdown",
   "id": "dd107a24-9996-4701-b665-b20eba07ddb0",
   "metadata": {},
   "source": [
    "A Venn diagram is a graphical representation used to visually display the relationships between different sets or groups of items. It consists of overlapping circles (or other shapes) that represent the sets, with each circle representing a specific set, and the overlapping regions representing the intersections between sets. Venn diagrams are often used to illustrate the relationships between different categories, concepts, or data."
   ]
  },
  {
   "cell_type": "markdown",
   "id": "58edddd4-daaa-4cf5-805d-bcaaced4802a",
   "metadata": {},
   "source": [
    "### [Q7.] For the two given sets A = (2,3,4,5,6,7) & B = (0,2,6,8,10). Find:\n",
    "(i) $A \\cap B$ <br>\n",
    "(ii) $A \\cup B$\n",
    "\n",
    "##### [Ans]"
   ]
  },
  {
   "cell_type": "code",
   "execution_count": 7,
   "id": "f5c19d4a-8bb8-4cc3-99fc-a5661418457b",
   "metadata": {},
   "outputs": [
    {
     "name": "stdout",
     "output_type": "stream",
     "text": [
      "𝐴∪𝐵 : {0, 2, 3, 4, 5, 6, 7, 8, 10}\n",
      "𝐴∪𝐵 : {2, 6}\n"
     ]
    }
   ],
   "source": [
    "A = {2,3,4,5,6,7}\n",
    "B = {0,2,6,8,10}\n",
    "\n",
    "print(f\"𝐴∪𝐵 : {A.union(B)}\")\n",
    "print(f\"𝐴∪𝐵 : {A.intersection(B)}\")"
   ]
  },
  {
   "cell_type": "markdown",
   "id": "95e35658-0247-48c3-b362-17bb0dee18b1",
   "metadata": {},
   "source": [
    "### [Q8.] What do you understand about skewness in data?\n",
    "##### [Ans]"
   ]
  },
  {
   "cell_type": "markdown",
   "id": "11e19254-d5d9-4b1b-b219-b88d8d65191e",
   "metadata": {},
   "source": [
    "Skewness is a statistical measure that describes the asymmetry or lack of symmetry in the distribution of a dataset. In other words, it indicates the extent to which the data values are skewed to the left or right relative to the center of the distribution. Skewness is an important concept in descriptive statistics and data analysis because it provides insights into the shape and characteristics of the data distribution."
   ]
  },
  {
   "cell_type": "markdown",
   "id": "19c8e280-12a9-473e-b48b-d598a3042768",
   "metadata": {},
   "source": [
    "### [Q9.] If a data is right skewed then what will be the position of median with respect to mean?\n",
    "##### [Ans]"
   ]
  },
  {
   "cell_type": "markdown",
   "id": "99195f25-70f3-49fc-bbd6-9c28800db90c",
   "metadata": {},
   "source": [
    "If a data is right skewed then the position of median will be less than the mean."
   ]
  },
  {
   "cell_type": "markdown",
   "id": "b8df41dc-64e0-4417-bba0-59f863912e8c",
   "metadata": {},
   "source": [
    "### [Q10.] Explain the difference between covariance and correlation. How are these measures used in statistical analysis?\n",
    "##### [Ans]"
   ]
  },
  {
   "cell_type": "markdown",
   "id": "d3bc1ec8-cfcf-4ad7-ab33-946d63ed37a6",
   "metadata": {},
   "source": [
    "| COVARIANCE | CORRELATION |\n",
    "| ---------- | ----------- |\n",
    "| Covariance measures how two variables change together. It indicates whether the variables tend to increase or decrease simultaneously. | Correlation is a standardized measure of the linear relationship between teo variables. It represents both the strength and the direction of the linear relationship. |\n",
    "| The covariance isn't standardized, so it might not be easy to compare the strength of relationships between different pairs of variables. | Correlation is standardized, making it easier to compare the strength and direction of relationships across different pairs of variables. |\n",
    "| The units of covariance are the product of the units of the two variables being compared. | Correlation is unitless because it's a standardized measure.|\n",
    "\n",
    "**Both measures are used in statistical analysis to understand the relationship of variables.**"
   ]
  },
  {
   "cell_type": "markdown",
   "id": "1a419ead-fc87-4b7f-82ec-6f0497e83dec",
   "metadata": {},
   "source": [
    "### [Q11.] What is the formula for calculating the sample mean? Provide an example calculation for a dataset.\n",
    "##### [Ans]"
   ]
  },
  {
   "cell_type": "markdown",
   "id": "0c805390-44bd-40ef-8f3d-59a0f3d76f6a",
   "metadata": {},
   "source": [
    "The formula for calculating the sample mean is :\n",
    "\n",
    "$$x̄ = \\frac{1}{n} \\sum_{i=1}^{n} x_i\n",
    "\n",
    "Where: \n",
    "- $x̄$ is the sample mean.\n",
    "- $n$ is the number of observations.\n",
    "- $x_i$ represents each individual observation in the sample."
   ]
  },
  {
   "cell_type": "markdown",
   "id": "23075a80-3077-445c-b5fb-17d74572241e",
   "metadata": {},
   "source": [
    "**EXAMPLE :**\n",
    "- Let's say we have the folowwing data set :\n",
    "\n",
    "$${5,4,8,3,9,11,25,13,36,24}$$\n",
    "\n",
    "- To calculate the sample mean we first add up all the observations.\n",
    "\n",
    "$$5+4+8+3+9+11+25+13+36+24=138$$\n",
    "\n",
    "- Then we divide the sum with the number of observation (in this case 10)\n",
    "\n",
    "$$x̄ =  \\frac{138}{10}  = 13.8$$\n",
    "\n",
    "- So, the sample mean of the dataset is : $13.8$"
   ]
  },
  {
   "cell_type": "markdown",
   "id": "1c63041c-cf83-43d1-90c3-d19e1a1515a3",
   "metadata": {},
   "source": [
    "### [Q12.] For a normal distribution data what is the relationship between its measure of central tendency?\n",
    "##### [Ans]"
   ]
  },
  {
   "cell_type": "markdown",
   "id": "f6a2b417-a9b3-4e12-8d20-d1379d3b18c6",
   "metadata": {},
   "source": [
    "In a normal distribution data mean , median and mode are all equal."
   ]
  },
  {
   "cell_type": "markdown",
   "id": "4982ee9d-b6da-401c-9242-7c0332897b9f",
   "metadata": {},
   "source": [
    "### [Q13.] How is covariance different from correlation?\n",
    "##### [Ans]"
   ]
  },
  {
   "cell_type": "markdown",
   "id": "eddcf4b8-1149-491f-b7eb-042df856bbfa",
   "metadata": {},
   "source": [
    "| COVARIANCE | CORRELATION |\n",
    "| ---------- | ----------- |\n",
    "| Covariance measures how two variables change together. It indicates whether the variables tend to increase or decrease simultaneously. | Correlation is a standardized measure of the linear relationship between teo variables. It represents both the strength and the direction of the linear relationship. |\n",
    "| The covariance isn't standardized, so it might not be easy to compare the strength of relationships between different pairs of variables. | Correlation is standardized, making it easier to compare the strength and direction of relationships across different pairs of variables. |\n",
    "| The units of covariance are the product of the units of the two variables being compared. | Correlation is unitless because it's a standardized measure.|\n",
    "\n",
    "**Both measures are used in statistical analysis to understand the relationship of variables.**"
   ]
  },
  {
   "cell_type": "markdown",
   "id": "9ec814a8-fe41-4ec2-a729-7dea865e02a8",
   "metadata": {},
   "source": [
    "### [Q14.] How do outliers affect measures of central tendency and dispersion? Provide an example.\n",
    "##### [Ans]"
   ]
  },
  {
   "cell_type": "markdown",
   "id": "30c8f091-5770-4afe-a7ec-8ee988b56bcf",
   "metadata": {},
   "source": [
    "**Outliers** are extreme values that lie far away from the other values in a dataset. When calculating measures of central tendency like the mean, outliers can significantly affect the value.\n",
    "\n",
    "**For example :** \n",
    "If a dataset has a few extremely large values, the mean may be much larger than what is representative of the rest of the data.\n",
    "\n",
    "Similarly, outliers can affect measures of dispersion like the range and standard deviation, making them much larger or smaller than what is representative of the majority of the data.\n",
    "\n",
    "Let's consider a dataset of 10 test scores: 65, 70, 72, 75, 77, 78, 79, 80, 95, 100. The mean score is 78, which is a good representation of the majority of the data.\n",
    "\n",
    "However, there are two outliers: 95 and 100. The range of the dataset is 35, which is heavily influenced by the outliers.\n",
    "\n",
    "Similarly, the standard deviation is 12.4, which is much larger than what is representative of the majority of the data."
   ]
  }
 ],
 "metadata": {
  "kernelspec": {
   "display_name": "Python 3 (ipykernel)",
   "language": "python",
   "name": "python3"
  },
  "language_info": {
   "codemirror_mode": {
    "name": "ipython",
    "version": 3
   },
   "file_extension": ".py",
   "mimetype": "text/x-python",
   "name": "python",
   "nbconvert_exporter": "python",
   "pygments_lexer": "ipython3",
   "version": "3.10.6"
  }
 },
 "nbformat": 4,
 "nbformat_minor": 5
}
