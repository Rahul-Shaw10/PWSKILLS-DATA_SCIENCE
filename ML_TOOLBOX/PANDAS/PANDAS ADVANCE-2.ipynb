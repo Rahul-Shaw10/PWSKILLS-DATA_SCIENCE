{
 "cells": [
  {
   "cell_type": "markdown",
   "id": "a53d19b2-ebc8-4483-a02a-f3cf773c8878",
   "metadata": {},
   "source": [
    "### Consider following code to answer further questions:"
   ]
  },
  {
   "cell_type": "code",
   "execution_count": 2,
   "id": "238e30e0-9ec5-4ebc-91f2-f92800216c51",
   "metadata": {},
   "outputs": [],
   "source": [
    "import pandas as pd\n",
    "course_name = ['Data Science' , 'Machine Learning' , 'Big Data' , 'Data Engineer']\n",
    "duration = [2,3,6,4]\n",
    "df = pd.DataFrame({\"course_name\" : course_name , \"duration\" : duration})"
   ]
  },
  {
   "cell_type": "markdown",
   "id": "8b4d00ab-9dfe-4048-8e17-a7bf946739fe",
   "metadata": {},
   "source": [
    "### [Q1.] Write a code to print the data present in the second row of the dataframe, df.\n",
    "\n",
    "##### [Ans]"
   ]
  },
  {
   "cell_type": "code",
   "execution_count": 3,
   "id": "198d0a31-1f53-4807-bfcf-99c5393467d6",
   "metadata": {},
   "outputs": [
    {
     "data": {
      "text/plain": [
       "course_name    Machine Learning\n",
       "duration                      3\n",
       "Name: 1, dtype: object"
      ]
     },
     "execution_count": 3,
     "metadata": {},
     "output_type": "execute_result"
    }
   ],
   "source": [
    "df.loc[1]"
   ]
  },
  {
   "cell_type": "markdown",
   "id": "ef9cb31e-26e0-499c-a9fb-5b17371c6b1c",
   "metadata": {},
   "source": [
    "### [Q2.] What is the difference between the functions loc and iloc in pandas.DataFrame?\n",
    "\n",
    "##### [Ans]\n",
    "loc is used with the name of the location in the dataframe. It needs the name of location not the index means if a column 'column_name' in a dataframe present at the index 1. The loc function takes 'column_name' as argument not the index of the column.\n",
    "\n",
    "While, iloc is used as the index location of the dataframe. It alomost works like the python list indexing."
   ]
  },
  {
   "cell_type": "markdown",
   "id": "986d04ed-c685-4881-ac9a-dc2d04a9e093",
   "metadata": {},
   "source": [
    "### [Q3.] Reindex the given dataframe using a variable, reindex = [3,0,1,2] and store it in the variable, new_df then find the output for both new_df.loc[2] and new_df.iloc[2].\n",
    "\n",
    "#### Did you observe any difference in both the outputs? If so then explain it.\n",
    "\n",
    "##### [Ans]"
   ]
  },
  {
   "cell_type": "code",
   "execution_count": 4,
   "id": "8e7099e0-7a2a-4cb4-80ad-6843eb2643dc",
   "metadata": {},
   "outputs": [
    {
     "name": "stdout",
     "output_type": "stream",
     "text": [
      "        course_name  duration\n",
      "3     Data Engineer         4\n",
      "0      Data Science         2\n",
      "1  Machine Learning         3\n",
      "2          Big Data         6\n",
      "================================================\n",
      "course_name    Big Data\n",
      "duration              6\n",
      "Name: 2, dtype: object\n",
      "================================================\n",
      "course_name    Machine Learning\n",
      "duration                      3\n",
      "Name: 1, dtype: object\n"
     ]
    }
   ],
   "source": [
    "reindex = [3,0,1,2]\n",
    "\n",
    "new_df = df.reindex(reindex)\n",
    "\n",
    "print(new_df)\n",
    "print('======'*8)\n",
    "\n",
    "print(new_df.loc[2])\n",
    "print('======'*8)\n",
    "\n",
    "print(new_df.iloc[2])"
   ]
  },
  {
   "cell_type": "markdown",
   "id": "f3e23591-b7d7-400b-afea-9437305060b7",
   "metadata": {},
   "source": [
    "After reindexing the DataFrame using the reindex variable [3, 0, 1, 2], the row order has changed.\n",
    "\n",
    "When using loc, new_df.loc[2] refers to the data at the label '2'. In the reindexed DataFrame, the label '2' corresponds to the row with the label '1' in the original DataFrame. Therefore, new_df.loc[2] gives the row with label '1' in the reindexed DataFrame, which contains the course 'Big Data' with a duration of 6.\n",
    "\n",
    "Similarly, when using iloc, new_df.iloc[2] refers to the data at the integer position '2'. In the reindexed DataFrame, the integer position '2' corresponds to the row with the index '1' in the original DataFrame. Therefore, new_df.iloc[2] gives the row with index '1' in the reindexed DataFrame, which contains the course 'Machine Learning' with a duration of 3."
   ]
  },
  {
   "cell_type": "markdown",
   "id": "e6bfa60a-ea4a-4df6-8880-a8897b02dc6b",
   "metadata": {},
   "source": [
    "### Consider the below code to answer further questions:"
   ]
  },
  {
   "cell_type": "code",
   "execution_count": 5,
   "id": "4f8aeb3b-c903-4020-be63-d4bc5e71a147",
   "metadata": {},
   "outputs": [],
   "source": [
    "import pandas as pd\n",
    "import numpy as np\n",
    "columns = ['column_1', 'column_2', 'column_3', 'column_4', 'column_5', 'column_6']\n",
    "indices = [1,2,3,4,5,6]\n",
    "\n",
    "# Creating a dataframe:\n",
    "df1 = pd.DataFrame(np.random.rand(6,6), columns = columns, index = indices)"
   ]
  },
  {
   "cell_type": "markdown",
   "id": "a8cd7342-d81b-4a06-aac4-2cf13345858c",
   "metadata": {},
   "source": [
    "### [Q4.] Write a code to find the following statistical measurements for the above dataframe df1:\n",
    "\n",
    "#### (i) mean of each and every column present in the dataframe.\n",
    "\n",
    "#### (ii) standard deviation of column, ‘column_2’\n",
    "\n",
    "\n",
    "##### [Ans]"
   ]
  },
  {
   "cell_type": "code",
   "execution_count": 6,
   "id": "af37ae1a-34ba-439e-95e6-f21fd9e384e0",
   "metadata": {},
   "outputs": [
    {
     "name": "stdout",
     "output_type": "stream",
     "text": [
      "MEAN OF EACH AND EVERY COLUMNS ARE AS FOLLOWS :\n"
     ]
    },
    {
     "data": {
      "text/plain": [
       "column_1    0.352986\n",
       "column_2    0.321388\n",
       "column_3    0.417096\n",
       "column_4    0.544510\n",
       "column_5    0.447042\n",
       "column_6    0.511529\n",
       "dtype: float64"
      ]
     },
     "execution_count": 6,
     "metadata": {},
     "output_type": "execute_result"
    }
   ],
   "source": [
    "print(\"MEAN OF EACH AND EVERY COLUMNS ARE AS FOLLOWS :\")\n",
    "df1.mean()"
   ]
  },
  {
   "cell_type": "code",
   "execution_count": 7,
   "id": "bb33b094-a2cb-4fbf-8c48-ce6c00b70697",
   "metadata": {},
   "outputs": [
    {
     "name": "stdout",
     "output_type": "stream",
     "text": [
      "STANDARD DEVIATION OF COLUMN_2 AS FOLLOWS :\n"
     ]
    },
    {
     "data": {
      "text/plain": [
       "0.1943868957521558"
      ]
     },
     "execution_count": 7,
     "metadata": {},
     "output_type": "execute_result"
    }
   ],
   "source": [
    "print(\"STANDARD DEVIATION OF COLUMN_2 AS FOLLOWS :\")\n",
    "df1['column_2'].std()"
   ]
  },
  {
   "cell_type": "markdown",
   "id": "a4f5637d-305c-429f-8deb-b97535698742",
   "metadata": {},
   "source": [
    "### [Q5.] Replace the data present in the second row of column, ‘column_2’ by a string variable then find the mean of column, column_2.\n",
    "\n",
    "#### If you are getting errors in executing it then explain why.\n",
    "\n",
    "#### [Hint: To replace the data use df1.loc[] and equate this to string data of your choice.]\n",
    "\n",
    "##### [Ans]"
   ]
  },
  {
   "cell_type": "code",
   "execution_count": 8,
   "id": "89e22c80-d0c9-45fb-b061-fc5124d74690",
   "metadata": {},
   "outputs": [
    {
     "name": "stdout",
     "output_type": "stream",
     "text": [
      "TypeError can only concatenate str (not \"float\") to str\n",
      "Got an error because string values cannot works with float values\n"
     ]
    }
   ],
   "source": [
    "df1.loc[1, 'column_2'] = 'values'\n",
    "\n",
    "try:\n",
    "    df1['column_2'].mean()\n",
    "except TypeError as e:\n",
    "    print(\"TypeError\" , e)\n",
    "    print(\"Got an error because string values cannot works with float values\")"
   ]
  },
  {
   "cell_type": "markdown",
   "id": "b62583fd-b8b4-4144-a2e4-889bb827a3b5",
   "metadata": {},
   "source": [
    "### [Q6.] What do you understand about the windows function in pandas and list the types of windows functions?\n",
    "\n",
    "##### [Ans]"
   ]
  },
  {
   "cell_type": "markdown",
   "id": "5fb70071-8e53-459a-84c3-234ca7fd9b2d",
   "metadata": {},
   "source": [
    "Windows function in pandas is a tool for performing calculations on specific subsets of data, defined by a window or a range of data points. It is useful for time series analysis, data transformation, and aggregation tasks.\n",
    "\n",
    "The main types of window functions in pandas are:\n",
    "- Aggregation Functions :- Perform calculations like sum, mean, median, min, max over the window.\n",
    "- Expanding Functions :- Compute cumulative values over time (expanding window).\n",
    "- Rolling Functions :- Calculate statistics in a rolling/fixed-size window, moving over the data.\n",
    "- Expanding and Rolling with Time :- Used for time-based windowing operations."
   ]
  },
  {
   "cell_type": "markdown",
   "id": "46dca4d4-3982-41c6-8c77-e8ad0a953962",
   "metadata": {},
   "source": [
    "### [Q7.] Write a code to print only the current month and year at the time of answering this question.\n",
    "\n",
    "#### [Hint: Use pandas.datetime function]"
   ]
  },
  {
   "cell_type": "code",
   "execution_count": 9,
   "id": "b2e8885c-db7d-4dce-a128-99cb02ef076b",
   "metadata": {},
   "outputs": [
    {
     "name": "stdout",
     "output_type": "stream",
     "text": [
      "CURRENT MONTH : July\n",
      "CURRENT YEAR : 2023\n"
     ]
    }
   ],
   "source": [
    "curr_time = pd.DatetimeIndex([\"2023-07-31 12:14:40\"])\n",
    "\n",
    "curr_month = print(\"CURRENT MONTH :\",curr_time.month_name()[0])\n",
    "curr_year = print(\"CURRENT YEAR :\",curr_time.year[0])"
   ]
  },
  {
   "cell_type": "markdown",
   "id": "7a561514-6574-4750-a664-c62f7df322b8",
   "metadata": {},
   "source": [
    "### [Q8.] Write a Python program that takes in two dates as input (in the format YYYY-MM-DD) and calculates the difference between them in days, hours, and minutes using Pandas time delta. The program should prompt the user to enter the dates and display the result.\n",
    "\n",
    "##### [Ans]"
   ]
  },
  {
   "cell_type": "code",
   "execution_count": 11,
   "id": "fd5562db-a81c-4cae-ac78-fb6db6baf490",
   "metadata": {},
   "outputs": [
    {
     "name": "stdin",
     "output_type": "stream",
     "text": [
      "ENTER THE FIRST DATE (YYYY-MM-DD) : 2023-10-08\n",
      "ENTER THE SECOND DATE (YYYY-MM-DD) : 2023-10-10\n"
     ]
    },
    {
     "name": "stdout",
     "output_type": "stream",
     "text": [
      "THE DIFFERENCE BETWEEN 2023-10-08 00:00:00 and 2023-10-10 00:00:00 IS 2 days , 0 hours and 0 minutes.\n"
     ]
    }
   ],
   "source": [
    "date1 = input(\"ENTER THE FIRST DATE (YYYY-MM-DD) :\")\n",
    "date2 = input(\"ENTER THE SECOND DATE (YYYY-MM-DD) :\")\n",
    "\n",
    "date1 = pd.to_datetime(date1)\n",
    "date2 = pd.to_datetime(date2)\n",
    "\n",
    "delta = date2 - date1\n",
    "\n",
    "days = delta.days\n",
    "hours = delta.seconds // 3600\n",
    "minutes = (delta.seconds // 60) % 60\n",
    "\n",
    "print(f\"THE DIFFERENCE BETWEEN {date1} and {date2} IS {days} days , {hours} hours and {minutes} minutes.\")"
   ]
  },
  {
   "cell_type": "markdown",
   "id": "b0b30b49-c8fc-49ca-ac3f-d47b2876b3ca",
   "metadata": {},
   "source": [
    "### [Q9.] Write a Python program that reads a CSV file containing categorical data and converts a specified column to a categorical data type. The program should prompt the user to enter the file path, column name, and category order, and then display the sorted data.\n",
    "\n",
    "##### [Ans]"
   ]
  },
  {
   "cell_type": "code",
   "execution_count": 5,
   "id": "d0ba32f4-b042-45c8-b3af-d2638a0b7ac5",
   "metadata": {},
   "outputs": [
    {
     "name": "stdin",
     "output_type": "stream",
     "text": [
      "ENTER THE PATH TO THE CSV FILE : Q9.csv\n",
      "ENTER THE NAME OF THE COLUMN TO CONVERT TO CATEGORICAL DATA TYPES : CATEGORY\n",
      "ENTER THE CATEGORY ORDER (COMMA-SEPARATED LIST) : A,B,C\n"
     ]
    },
    {
     "name": "stdout",
     "output_type": "stream",
     "text": [
      "file_path = 'Q9.csv'\n",
      "column_name = 'CATEGORY'\n",
      "category_order = 'A,B,C'\n"
     ]
    },
    {
     "data": {
      "text/html": [
       "<div>\n",
       "<style scoped>\n",
       "    .dataframe tbody tr th:only-of-type {\n",
       "        vertical-align: middle;\n",
       "    }\n",
       "\n",
       "    .dataframe tbody tr th {\n",
       "        vertical-align: top;\n",
       "    }\n",
       "\n",
       "    .dataframe thead th {\n",
       "        text-align: right;\n",
       "    }\n",
       "</style>\n",
       "<table border=\"1\" class=\"dataframe\">\n",
       "  <thead>\n",
       "    <tr style=\"text-align: right;\">\n",
       "      <th></th>\n",
       "      <th>NAME</th>\n",
       "      <th>CATEGORY</th>\n",
       "    </tr>\n",
       "  </thead>\n",
       "  <tbody>\n",
       "    <tr>\n",
       "      <th>0</th>\n",
       "      <td>JOHN</td>\n",
       "      <td>A</td>\n",
       "    </tr>\n",
       "    <tr>\n",
       "      <th>3</th>\n",
       "      <td>SOPHIA</td>\n",
       "      <td>A</td>\n",
       "    </tr>\n",
       "    <tr>\n",
       "      <th>2</th>\n",
       "      <td>MICHAEL</td>\n",
       "      <td>B</td>\n",
       "    </tr>\n",
       "    <tr>\n",
       "      <th>4</th>\n",
       "      <td>WILLIAM</td>\n",
       "      <td>B</td>\n",
       "    </tr>\n",
       "    <tr>\n",
       "      <th>1</th>\n",
       "      <td>EMILY</td>\n",
       "      <td>C</td>\n",
       "    </tr>\n",
       "    <tr>\n",
       "      <th>5</th>\n",
       "      <td>EMMA</td>\n",
       "      <td>C</td>\n",
       "    </tr>\n",
       "  </tbody>\n",
       "</table>\n",
       "</div>"
      ],
      "text/plain": [
       "      NAME CATEGORY\n",
       "0     JOHN        A\n",
       "3   SOPHIA        A\n",
       "2  MICHAEL        B\n",
       "4  WILLIAM        B\n",
       "1    EMILY        C\n",
       "5     EMMA        C"
      ]
     },
     "execution_count": 5,
     "metadata": {},
     "output_type": "execute_result"
    }
   ],
   "source": [
    "file_path = input(\"ENTER THE PATH TO THE CSV FILE :\")\n",
    "column_name = input(\"ENTER THE NAME OF THE COLUMN TO CONVERT TO CATEGORICAL DATA TYPES :\")\n",
    "category_order = input(\"ENTER THE CATEGORY ORDER (COMMA-SEPARATED LIST) :\")\n",
    "\n",
    "data = pd.read_csv(file_path)\n",
    "\n",
    "categories = category_order.split(\",\")\n",
    "data[column_name] = pd.Categorical(data[column_name] , categories=categories , ordered=True)\n",
    "\n",
    "sorted_data = data.sort_values(by=column_name)\n",
    "\n",
    "print(f'{file_path = }')\n",
    "print(f'{column_name = }')\n",
    "print(f'{category_order = }')\n",
    "\n",
    "sorted_data"
   ]
  },
  {
   "cell_type": "markdown",
   "id": "1e7ff344-2295-42e9-8de6-b0184c79f0dc",
   "metadata": {},
   "source": [
    "### [Q10.] Write a Python program that reads a CSV file containing sales data for different products and visualizes the data using a stacked bar chart to show the sales of each product category over time. The program should prompt the user to enter the file path and display the chart.\n",
    "\n",
    "##### [Ans]"
   ]
  },
  {
   "cell_type": "code",
   "execution_count": 13,
   "id": "a3a09494-2914-4f24-8681-6c8efbdf2fb0",
   "metadata": {},
   "outputs": [
    {
     "name": "stdin",
     "output_type": "stream",
     "text": [
      "ENTER THE PATH OF CSV FILE WHICH CONTAINS SALES DATA : sales.csv\n"
     ]
    },
    {
     "data": {
      "text/html": [
       "<div>\n",
       "<style scoped>\n",
       "    .dataframe tbody tr th:only-of-type {\n",
       "        vertical-align: middle;\n",
       "    }\n",
       "\n",
       "    .dataframe tbody tr th {\n",
       "        vertical-align: top;\n",
       "    }\n",
       "\n",
       "    .dataframe thead th {\n",
       "        text-align: right;\n",
       "    }\n",
       "</style>\n",
       "<table border=\"1\" class=\"dataframe\">\n",
       "  <thead>\n",
       "    <tr style=\"text-align: right;\">\n",
       "      <th></th>\n",
       "      <th>Dates</th>\n",
       "      <th>Product</th>\n",
       "      <th>Category</th>\n",
       "      <th>Sales</th>\n",
       "    </tr>\n",
       "  </thead>\n",
       "  <tbody>\n",
       "    <tr>\n",
       "      <th>0</th>\n",
       "      <td>2022-01-01</td>\n",
       "      <td>Product A</td>\n",
       "      <td>Category 1</td>\n",
       "      <td>100</td>\n",
       "    </tr>\n",
       "    <tr>\n",
       "      <th>1</th>\n",
       "      <td>2022-01-01</td>\n",
       "      <td>Product B</td>\n",
       "      <td>Category 1</td>\n",
       "      <td>200</td>\n",
       "    </tr>\n",
       "    <tr>\n",
       "      <th>2</th>\n",
       "      <td>2022-01-01</td>\n",
       "      <td>Product C</td>\n",
       "      <td>Category 2</td>\n",
       "      <td>150</td>\n",
       "    </tr>\n",
       "    <tr>\n",
       "      <th>3</th>\n",
       "      <td>2022-01-02</td>\n",
       "      <td>Product A</td>\n",
       "      <td>Category 1</td>\n",
       "      <td>120</td>\n",
       "    </tr>\n",
       "    <tr>\n",
       "      <th>4</th>\n",
       "      <td>2022-01-02</td>\n",
       "      <td>Product B</td>\n",
       "      <td>Category 1</td>\n",
       "      <td>220</td>\n",
       "    </tr>\n",
       "  </tbody>\n",
       "</table>\n",
       "</div>"
      ],
      "text/plain": [
       "       Dates    Product    Category  Sales\n",
       "0 2022-01-01  Product A  Category 1    100\n",
       "1 2022-01-01  Product B  Category 1    200\n",
       "2 2022-01-01  Product C  Category 2    150\n",
       "3 2022-01-02  Product A  Category 1    120\n",
       "4 2022-01-02  Product B  Category 1    220"
      ]
     },
     "execution_count": 13,
     "metadata": {},
     "output_type": "execute_result"
    }
   ],
   "source": [
    "file_path = input(\"ENTER THE PATH OF CSV FILE WHICH CONTAINS SALES DATA :\")\n",
    "\n",
    "sales = pd.read_csv(file_path)\n",
    "\n",
    "sales['Dates']  = sales['Dates'].astype('datetime64')\n",
    "\n",
    "sales.head()"
   ]
  },
  {
   "cell_type": "code",
   "execution_count": 14,
   "id": "eb7d3599-46b2-4460-891c-9b1f61de4058",
   "metadata": {},
   "outputs": [
    {
     "data": {
      "text/html": [
       "<div>\n",
       "<style scoped>\n",
       "    .dataframe tbody tr th:only-of-type {\n",
       "        vertical-align: middle;\n",
       "    }\n",
       "\n",
       "    .dataframe tbody tr th {\n",
       "        vertical-align: top;\n",
       "    }\n",
       "\n",
       "    .dataframe thead th {\n",
       "        text-align: right;\n",
       "    }\n",
       "</style>\n",
       "<table border=\"1\" class=\"dataframe\">\n",
       "  <thead>\n",
       "    <tr style=\"text-align: right;\">\n",
       "      <th></th>\n",
       "      <th>Dates</th>\n",
       "      <th>Category</th>\n",
       "      <th>Sales</th>\n",
       "    </tr>\n",
       "  </thead>\n",
       "  <tbody>\n",
       "    <tr>\n",
       "      <th>0</th>\n",
       "      <td>2022-01-01</td>\n",
       "      <td>Category 1</td>\n",
       "      <td>300</td>\n",
       "    </tr>\n",
       "    <tr>\n",
       "      <th>1</th>\n",
       "      <td>2022-01-01</td>\n",
       "      <td>Category 2</td>\n",
       "      <td>150</td>\n",
       "    </tr>\n",
       "    <tr>\n",
       "      <th>2</th>\n",
       "      <td>2022-01-02</td>\n",
       "      <td>Category 1</td>\n",
       "      <td>340</td>\n",
       "    </tr>\n",
       "    <tr>\n",
       "      <th>3</th>\n",
       "      <td>2022-01-02</td>\n",
       "      <td>Category 2</td>\n",
       "      <td>160</td>\n",
       "    </tr>\n",
       "    <tr>\n",
       "      <th>4</th>\n",
       "      <td>2022-01-03</td>\n",
       "      <td>Category 1</td>\n",
       "      <td>400</td>\n",
       "    </tr>\n",
       "  </tbody>\n",
       "</table>\n",
       "</div>"
      ],
      "text/plain": [
       "       Dates    Category  Sales\n",
       "0 2022-01-01  Category 1    300\n",
       "1 2022-01-01  Category 2    150\n",
       "2 2022-01-02  Category 1    340\n",
       "3 2022-01-02  Category 2    160\n",
       "4 2022-01-03  Category 1    400"
      ]
     },
     "execution_count": 14,
     "metadata": {},
     "output_type": "execute_result"
    }
   ],
   "source": [
    "sales_grouped = sales.groupby(['Dates' , 'Category'])['Sales'].sum().reset_index()\n",
    "sales_grouped.head()"
   ]
  },
  {
   "cell_type": "code",
   "execution_count": 15,
   "id": "9ae03475-f63b-445d-a09e-46ebdccc80ce",
   "metadata": {},
   "outputs": [
    {
     "data": {
      "text/html": [
       "<div>\n",
       "<style scoped>\n",
       "    .dataframe tbody tr th:only-of-type {\n",
       "        vertical-align: middle;\n",
       "    }\n",
       "\n",
       "    .dataframe tbody tr th {\n",
       "        vertical-align: top;\n",
       "    }\n",
       "\n",
       "    .dataframe thead th {\n",
       "        text-align: right;\n",
       "    }\n",
       "</style>\n",
       "<table border=\"1\" class=\"dataframe\">\n",
       "  <thead>\n",
       "    <tr style=\"text-align: right;\">\n",
       "      <th>Category</th>\n",
       "      <th>Category 1</th>\n",
       "      <th>Category 2</th>\n",
       "    </tr>\n",
       "    <tr>\n",
       "      <th>Dates</th>\n",
       "      <th></th>\n",
       "      <th></th>\n",
       "    </tr>\n",
       "  </thead>\n",
       "  <tbody>\n",
       "    <tr>\n",
       "      <th>2022-01-01</th>\n",
       "      <td>300</td>\n",
       "      <td>150</td>\n",
       "    </tr>\n",
       "    <tr>\n",
       "      <th>2022-01-02</th>\n",
       "      <td>340</td>\n",
       "      <td>160</td>\n",
       "    </tr>\n",
       "    <tr>\n",
       "      <th>2022-01-03</th>\n",
       "      <td>400</td>\n",
       "      <td>200</td>\n",
       "    </tr>\n",
       "    <tr>\n",
       "      <th>2022-01-04</th>\n",
       "      <td>340</td>\n",
       "      <td>170</td>\n",
       "    </tr>\n",
       "    <tr>\n",
       "      <th>2022-01-05</th>\n",
       "      <td>380</td>\n",
       "      <td>180</td>\n",
       "    </tr>\n",
       "    <tr>\n",
       "      <th>2022-01-06</th>\n",
       "      <td>390</td>\n",
       "      <td>190</td>\n",
       "    </tr>\n",
       "    <tr>\n",
       "      <th>2022-01-07</th>\n",
       "      <td>430</td>\n",
       "      <td>220</td>\n",
       "    </tr>\n",
       "    <tr>\n",
       "      <th>2022-01-08</th>\n",
       "      <td>470</td>\n",
       "      <td>250</td>\n",
       "    </tr>\n",
       "    <tr>\n",
       "      <th>2022-01-09</th>\n",
       "      <td>510</td>\n",
       "      <td>280</td>\n",
       "    </tr>\n",
       "    <tr>\n",
       "      <th>2022-01-10</th>\n",
       "      <td>550</td>\n",
       "      <td>300</td>\n",
       "    </tr>\n",
       "  </tbody>\n",
       "</table>\n",
       "</div>"
      ],
      "text/plain": [
       "Category    Category 1  Category 2\n",
       "Dates                             \n",
       "2022-01-01         300         150\n",
       "2022-01-02         340         160\n",
       "2022-01-03         400         200\n",
       "2022-01-04         340         170\n",
       "2022-01-05         380         180\n",
       "2022-01-06         390         190\n",
       "2022-01-07         430         220\n",
       "2022-01-08         470         250\n",
       "2022-01-09         510         280\n",
       "2022-01-10         550         300"
      ]
     },
     "execution_count": 15,
     "metadata": {},
     "output_type": "execute_result"
    }
   ],
   "source": [
    "sales_pivot = sales_grouped.pivot(index = 'Dates' , columns =  'Category' , values = 'Sales')\n",
    "sales_pivot"
   ]
  },
  {
   "cell_type": "code",
   "execution_count": 17,
   "id": "c80a99ec-4959-4fe6-9c2d-aa1718e286b8",
   "metadata": {},
   "outputs": [
    {
     "data": {
      "image/png": "[encoded data removed]",
      "text/plain": [
       "<Figure size 640x480 with 1 Axes>"
      ]
     },
     "metadata": {},
     "output_type": "display_data"
    }
   ],
   "source": [
    "import matplotlib.pyplot as plt\n",
    "sales_pivot.plot(kind='barh' , stacked=True)\n",
    "\n",
    "plt.title(\"SALES BY CATEGORY OVER TIME\")\n",
    "plt.xlabel(\"SALES\")\n",
    "plt.ylabel(\"DATES\")\n",
    "\n",
    "plt.show()"
   ]
  },
  {
   "attachments": {
    "4570132a-db4b-4b43-a22f-2d278078c967.png": {
     "image/png": "[encoded data removed]"
    },
    "993c5c06-09ea-40b6-b7fd-5290f7ad63b3.png": {
     "image/png": "[encoded data removed]"
    }
   },
   "cell_type": "markdown",
   "id": "5e0bd564-b925-47f8-9e3d-a8c639d3b776",
   "metadata": {},
   "source": [
    "### [Q11.] You are given a CSV file containing student data that includes the student ID and their test score. Write a Python program that reads the CSV file, calculates the mean, median, and mode of the test scores, and displays the results in a table.\n",
    "\n",
    "#### The program should do the following:\n",
    "\n",
    "- Prompt the user to enter the file path of the CSV file containing the student data.\n",
    "- Read the CSV file into a Pandas DataFrame.\n",
    "- Calculate the mean, median, and mode of the test scores using Pandas tools.\n",
    "- Display the mean, median, and mode in a table.\n",
    "\n",
    "#### Assume the CSV file contains the following columns:\n",
    "\n",
    "- Student ID: The ID of the student.\n",
    "- Test Score: The score of the student's test.\n",
    "\n",
    "#### Example usage of the program:\n",
    "- Enter the file path of the CSV file containing the student data: student_data.csv\n",
    "\n",
    "![Screenshot (22).png](attachment:4570132a-db4b-4b43-a22f-2d278078c967.png)\n",
    "\n",
    "#### Assume that the CSV file student_data.csv contains the following data:\n",
    "\n",
    "![Screenshot (23).png](attachment:993c5c06-09ea-40b6-b7fd-5290f7ad63b3.png)\n",
    "\n",
    "#### The program should calculate the mean, median, and mode of the test scores and display the results in a table.\n",
    "\n",
    "##### [Ans]"
   ]
  },
  {
   "cell_type": "code",
   "execution_count": 29,
   "id": "6ed122d1-561b-47ac-8cad-94dbfcbe62be",
   "metadata": {},
   "outputs": [
    {
     "name": "stdin",
     "output_type": "stream",
     "text": [
      "ENTER THE PATH OF THE CSV FILE : student_data.csv\n"
     ]
    },
    {
     "data": {
      "text/html": [
       "<div>\n",
       "<style scoped>\n",
       "    .dataframe tbody tr th:only-of-type {\n",
       "        vertical-align: middle;\n",
       "    }\n",
       "\n",
       "    .dataframe tbody tr th {\n",
       "        vertical-align: top;\n",
       "    }\n",
       "\n",
       "    .dataframe thead th {\n",
       "        text-align: right;\n",
       "    }\n",
       "</style>\n",
       "<table border=\"1\" class=\"dataframe\">\n",
       "  <thead>\n",
       "    <tr style=\"text-align: right;\">\n",
       "      <th></th>\n",
       "      <th>Values</th>\n",
       "    </tr>\n",
       "  </thead>\n",
       "  <tbody>\n",
       "    <tr>\n",
       "      <th>Mean</th>\n",
       "      <td>83.5</td>\n",
       "    </tr>\n",
       "    <tr>\n",
       "      <th>Median</th>\n",
       "      <td>85.0</td>\n",
       "    </tr>\n",
       "    <tr>\n",
       "      <th>Mode</th>\n",
       "      <td>[85]</td>\n",
       "    </tr>\n",
       "  </tbody>\n",
       "</table>\n",
       "</div>"
      ],
      "text/plain": [
       "       Values\n",
       "Mean     83.5\n",
       "Median   85.0\n",
       "Mode     [85]"
      ]
     },
     "execution_count": 29,
     "metadata": {},
     "output_type": "execute_result"
    }
   ],
   "source": [
    "file_path = input(\"ENTER THE PATH OF THE CSV FILE :\")\n",
    "\n",
    "students = pd.read_csv(file_path)\n",
    "\n",
    "stats = {\n",
    "        \"Mean\" : students['Test Score'].mean(),\n",
    "        \"Median\" : students['Test Score'].median(),\n",
    "        \"Mode\" : students['Test Score'].mode().values\n",
    "}\n",
    "\n",
    "pd.DataFrame.from_dict(stats , orient='index' , columns=['Values'])"
   ]
  }
 ],
 "metadata": {
  "kernelspec": {
   "display_name": "Python 3 (ipykernel)",
   "language": "python",
   "name": "python3"
  },
  "language_info": {
   "codemirror_mode": {
    "name": "ipython",
    "version": 3
   },
   "file_extension": ".py",
   "mimetype": "text/x-python",
   "name": "python",
   "nbconvert_exporter": "python",
   "pygments_lexer": "ipython3",
   "version": "3.10.6"
  }
 },
 "nbformat": 4,
 "nbformat_minor": 5
}
