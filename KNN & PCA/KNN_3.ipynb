{
  "nbformat": 4,
  "nbformat_minor": 0,
  "metadata": {
    "colab": {
      "provenance": []
    },
    "kernelspec": {
      "name": "python3",
      "display_name": "Python 3"
    },
    "language_info": {
      "name": "python"
    }
  },
  "cells": [
    {
      "cell_type": "markdown",
      "source": [
        "###[Q1.] Write a Python code to implement the KNN classifier algorithm on load_iris dataset in sklearn.datasets.\n",
        "#####[Ans]"
      ],
      "metadata": {
        "id": "qkOX9qgLcZBg"
      }
    },
    {
      "cell_type": "code",
      "execution_count": 6,
      "metadata": {
        "colab": {
          "base_uri": "https://localhost:8080/"
        },
        "id": "IcEZOrbbcYAG",
        "outputId": "46c74cb9-535c-4d8c-c21b-e06f3454fba2"
      },
      "outputs": [
        {
          "output_type": "stream",
          "name": "stdout",
          "text": [
            "ACCURACY : 1.00\n"
          ]
        }
      ],
      "source": [
        "from sklearn.datasets import load_iris\n",
        "from sklearn.model_selection import train_test_split\n",
        "from sklearn.neighbors import KNeighborsClassifier\n",
        "from sklearn.metrics import accuracy_score\n",
        "\n",
        "data = load_iris()\n",
        "X = data.data\n",
        "y = data.target\n",
        "\n",
        "X_train, X_test, y_train, y_test = train_test_split(X, y, test_size=0.3, random_state=42)\n",
        "\n",
        "clf = KNeighborsClassifier(n_neighbors=5)\n",
        "clf.fit(X_train, y_train)\n",
        "\n",
        "y_pred = clf.predict(X_test)\n",
        "print(f\"ACCURACY : {accuracy_score(y_test, y_pred):.2f}\")"
      ]
    },
    {
      "cell_type": "markdown",
      "source": [
        "###[Q2.] Write a Python code to implement the KNN regressor algorithm on load_boston dataset in sklearn.datasets.\n",
        "#####[Ans]"
      ],
      "metadata": {
        "id": "QQU2j6gceT_L"
      }
    },
    {
      "cell_type": "code",
      "source": [
        "## BOSTON DATASET HAS BEEN REMOVED FROM THE SCI-KIT LEARN, SO I AM USING CALIFORNIA HOUSING DATASET.\n",
        "from sklearn.datasets import fetch_california_housing\n",
        "from sklearn.model_selection import train_test_split\n",
        "from sklearn.neighbors import KNeighborsRegressor\n",
        "from sklearn.metrics import mean_squared_error\n",
        "\n",
        "data = fetch_california_housing()\n",
        "X = data.data\n",
        "y = data.target\n",
        "\n",
        "X_train, X_test, y_train, y_test = train_test_split(X, y, test_size=0.3, random_state=42)\n",
        "\n",
        "clf = KNeighborsRegressor(n_neighbors=5)\n",
        "clf.fit(X_train, y_train)\n",
        "\n",
        "y_pred = clf.predict(X_test)\n",
        "mse = mean_squared_error(y_test, y_pred)\n",
        "print(f\"MEAN SQUARED ERROR : {mse:.2f}\")"
      ],
      "metadata": {
        "colab": {
          "base_uri": "https://localhost:8080/"
        },
        "id": "GFFZUU8weRy6",
        "outputId": "4c388cda-f8ba-426e-c374-91d6281ba662"
      },
      "execution_count": 12,
      "outputs": [
        {
          "output_type": "stream",
          "name": "stdout",
          "text": [
            "MEAN SQUARED ERROR : 1.14\n"
          ]
        }
      ]
    },
    {
      "cell_type": "markdown",
      "source": [
        "###[Q3.] Write a Python code snippet to find the optimal value of K for the KNN classifier algorithm using cross-validation on load_iris dataset in sklearn.datasets.\n",
        "#####[Ans]"
      ],
      "metadata": {
        "id": "3twMKBMVinO-"
      }
    },
    {
      "cell_type": "code",
      "source": [
        "from sklearn.datasets import load_iris\n",
        "from sklearn.neighbors import KNeighborsClassifier\n",
        "from sklearn.model_selection import cross_val_score\n",
        "\n",
        "data = load_iris()\n",
        "X = data.data\n",
        "y = data.target\n",
        "\n",
        "best_k = 0\n",
        "best_score = 0\n",
        "\n",
        "for k in range(1, 21):\n",
        "  knn = KNeighborsClassifier(n_neighbors=k)\n",
        "  scores = cross_val_score(knn, X, y, cv=5)\n",
        "  avg_score = scores.mean()\n",
        "\n",
        "  if avg_score > best_score:\n",
        "    best_k = k\n",
        "    best_score = avg_score\n",
        "\n",
        "print(f\"OPTIMAL K : {best_k}, CROSS VALIDATION SCORE : {best_score:.2f}\")"
      ],
      "metadata": {
        "colab": {
          "base_uri": "https://localhost:8080/"
        },
        "id": "L6ydBMwJfYDW",
        "outputId": "fc86c736-af19-4fde-cd39-dd7a44198d8a"
      },
      "execution_count": 14,
      "outputs": [
        {
          "output_type": "stream",
          "name": "stdout",
          "text": [
            "OPTIMAL K : 6, CROSS VALIDATION SCORE : 0.98\n"
          ]
        }
      ]
    },
    {
      "cell_type": "markdown",
      "source": [
        "###[Q4.] Implement the KNN regressor algorithm with feature scaling on load_boston dataset in sklearn.datasets.\n",
        "#####[Ans]"
      ],
      "metadata": {
        "id": "hlBzrgkPk9fF"
      }
    },
    {
      "cell_type": "code",
      "source": [
        "## BOSTON DATASET HAS BEEN REMOVED FROM THE SCI-KIT LEARN, SO I AM USING CALIFORNIA HOUSING DATASET.\n",
        "from sklearn.datasets import fetch_california_housing\n",
        "from sklearn.pipeline import Pipeline\n",
        "from sklearn.neighbors import KNeighborsRegressor\n",
        "from sklearn.preprocessing import StandardScaler\n",
        "from sklearn.metrics import mean_squared_error\n",
        "from sklearn.model_selection import train_test_split\n",
        "\n",
        "data = fetch_california_housing()\n",
        "X = data.data\n",
        "y = data.target\n",
        "\n",
        "X_train, X_test, y_train, y_test = train_test_split(X, y, test_size=0.3, random_state=42)\n",
        "\n",
        "pipeline = Pipeline([\n",
        "    ('scaler', StandardScaler()),\n",
        "    ('knn', KNeighborsRegressor(n_neighbors=3))\n",
        "])\n",
        "\n",
        "pipeline.fit(X_train, y_train)\n",
        "\n",
        "y_pred = pipeline.predict(X_test)\n",
        "print(f\"MEAN SQUARED ERROR : {mean_squared_error(y_test, y_pred):.2f}\")"
      ],
      "metadata": {
        "colab": {
          "base_uri": "https://localhost:8080/"
        },
        "id": "Dtxxd4AAkPZi",
        "outputId": "ee8e38b9-8018-4839-ca52-308029aff2e1"
      },
      "execution_count": 16,
      "outputs": [
        {
          "output_type": "stream",
          "name": "stdout",
          "text": [
            "MEAN SQUARED ERROR : 0.46\n"
          ]
        }
      ]
    },
    {
      "cell_type": "markdown",
      "source": [
        "###[Q5.] Write a Python code snippet to implement the KNN classifier algorithm with weighted voting on load_iris dataset in sklearn.datasets.\n",
        "#####[Ans]"
      ],
      "metadata": {
        "id": "-WoNWEyrnQlE"
      }
    },
    {
      "cell_type": "code",
      "execution_count": 17,
      "metadata": {
        "colab": {
          "base_uri": "https://localhost:8080/"
        },
        "outputId": "391945b1-b631-4bee-d7f1-095e6c16d84f",
        "id": "6BTvrXuknzTL"
      },
      "outputs": [
        {
          "output_type": "stream",
          "name": "stdout",
          "text": [
            "ACCURACY : 1.00\n"
          ]
        }
      ],
      "source": [
        "from sklearn.datasets import load_iris\n",
        "from sklearn.model_selection import train_test_split\n",
        "from sklearn.neighbors import KNeighborsClassifier\n",
        "from sklearn.metrics import accuracy_score\n",
        "\n",
        "data = load_iris()\n",
        "X = data.data\n",
        "y = data.target\n",
        "\n",
        "X_train, X_test, y_train, y_test = train_test_split(X, y, test_size=0.3, random_state=42)\n",
        "\n",
        "clf = KNeighborsClassifier(n_neighbors=3, weights='distance')\n",
        "clf.fit(X_train, y_train)\n",
        "\n",
        "y_pred = clf.predict(X_test)\n",
        "print(f\"ACCURACY : {accuracy_score(y_test, y_pred):.2f}\")"
      ]
    },
    {
      "cell_type": "markdown",
      "source": [
        "###[Q6.] Implement a function to standardise the features before applying KNN classifier.\n",
        "#####[Ans]"
      ],
      "metadata": {
        "id": "uOa2kn-joBtk"
      }
    },
    {
      "cell_type": "code",
      "source": [
        "from sklearn.datasets import load_iris\n",
        "from sklearn.model_selection import train_test_split\n",
        "from sklearn.preprocessing import StandardScaler\n",
        "from sklearn.neighbors import KNeighborsClassifier\n",
        "from sklearn.metrics import accuracy_score\n",
        "\n",
        "def standardize_and_apply_knn():\n",
        "    data = load_iris()\n",
        "    X = data.data\n",
        "    y = data.target\n",
        "\n",
        "    X_train, X_test, y_train, y_test = train_test_split(X, y, test_size=0.3, random_state=42)\n",
        "\n",
        "    scaler = StandardScaler()\n",
        "    X_train_scaled = scaler.fit_transform(X_train)\n",
        "    X_test_scaled = scaler.transform(X_test)\n",
        "\n",
        "    knn = KNeighborsClassifier(n_neighbors=3)\n",
        "    knn.fit(X_train_scaled, y_train)\n",
        "    y_pred = knn.predict(X_test_scaled)\n",
        "\n",
        "    accuracy = accuracy_score(y_test, y_pred)\n",
        "    print(f\"Accuracy after standardization: {accuracy:.2f}\")\n",
        "\n",
        "standardize_and_apply_knn()\n"
      ],
      "metadata": {
        "colab": {
          "base_uri": "https://localhost:8080/"
        },
        "id": "3Mn2UbIsn62L",
        "outputId": "282c8448-707f-4f11-a314-f1aabc3fcc3b"
      },
      "execution_count": 19,
      "outputs": [
        {
          "output_type": "stream",
          "name": "stdout",
          "text": [
            "Accuracy after standardization: 1.00\n"
          ]
        }
      ]
    },
    {
      "cell_type": "markdown",
      "source": [
        "###[Q7.] Write a Python function to calculate the euclidean distance between two points.\n",
        "#####[Ans]"
      ],
      "metadata": {
        "id": "A4syCsKPpP2n"
      }
    },
    {
      "cell_type": "code",
      "source": [
        "import numpy as np\n",
        "def euclidean_distance(point1, point2):\n",
        "   return np.sqrt(np.sum((np.array(point1) - np.array(point2)) ** 2))\n",
        "\n",
        "print(euclidean_distance([1, 2], [4, 6]))"
      ],
      "metadata": {
        "colab": {
          "base_uri": "https://localhost:8080/"
        },
        "id": "tAaFcU-soic9",
        "outputId": "6fb64491-08ad-4062-c66f-561864e91b84"
      },
      "execution_count": 26,
      "outputs": [
        {
          "output_type": "stream",
          "name": "stdout",
          "text": [
            "5.0\n"
          ]
        }
      ]
    },
    {
      "cell_type": "markdown",
      "source": [
        "###[Q8.] Write a Python function to calculate the manhattan distance between two points.\n",
        "#####[Ans]"
      ],
      "metadata": {
        "id": "KQDR4laGqRhl"
      }
    },
    {
      "cell_type": "code",
      "source": [
        "import numpy as np\n",
        "def manhattan_distance(point1, point2):\n",
        "  return np.sum(np.abs(np.array(point1) - np.array(point2)))\n",
        "\n",
        "print(manhattan_distance([1,2], [4, 6]))"
      ],
      "metadata": {
        "colab": {
          "base_uri": "https://localhost:8080/"
        },
        "id": "7t-Sh9ItqJ_D",
        "outputId": "ea5a3368-6b03-4998-8a73-cd5492860a6f"
      },
      "execution_count": 24,
      "outputs": [
        {
          "output_type": "stream",
          "name": "stdout",
          "text": [
            "7\n"
          ]
        }
      ]
    }
  ]
}