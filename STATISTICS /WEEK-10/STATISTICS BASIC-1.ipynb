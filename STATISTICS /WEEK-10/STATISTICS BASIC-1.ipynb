{
 "cells": [
  {
   "cell_type": "markdown",
   "id": "234d1198-9a5b-4181-94b9-e356fe40c0ab",
   "metadata": {},
   "source": [
    "### [Q1.] What is Statistics?\n",
    "##### [Ans]"
   ]
  },
  {
   "cell_type": "markdown",
   "id": "93efde90-2009-43ad-999f-5c6e7b5a50b9",
   "metadata": {},
   "source": [
    "Statistics is the science of collecting, organizing and analyzing the data. It is used to deal with raw data and interpret information from it. Some common statistics methods like mean, median, mode, standard deviation and variance. Using these mathematical methods researchers try to solve problems and derive some analytics from the data"
   ]
  },
  {
   "cell_type": "markdown",
   "id": "fe551f2f-9d00-4ec0-a173-6ad3c126bd5c",
   "metadata": {},
   "source": [
    "### [Q2.] Define the different types of statistics and give an example of when each type might be used.\n",
    "##### [Ans]"
   ]
  },
  {
   "cell_type": "markdown",
   "id": "18b7c5de-94de-4aa5-abef-0a1c5054b7c9",
   "metadata": {},
   "source": [
    "**There are two types of Statistics are as follows :** \n",
    "\n",
    "**Descriptive Statistics :-** It involves summarizing and describing data through measures such as mean, median, mode, range, standard deviation, and variance. These statistics help us understand the characteristics of the data, such as its central tendency, variability, and distribution.\n",
    "\n",
    "**Example :**\n",
    "Age of Students in a classroom = [14, 14, 13, 15, 15, 16, 16, 13, 14, 17]\n",
    "\n",
    "Avg. age of students = 147 <br>\n",
    "Median age of students = 14 <br>\n",
    "Mode age of students = 14\n",
    "\n",
    "___\n",
    "\n",
    "**Inferential Statistics :-** It involves making predictions or drawing conclusions about a population based on a sample of data. This type of statistics uses probability theory to estimate the likelihood that a particular conclusion is true.\n",
    "\n",
    "**Example :** A drug test on a sample of population of different age groups in this method inferential statistics works."
   ]
  },
  {
   "cell_type": "markdown",
   "id": "9078afcf-3157-484a-b079-e49b187f3a1a",
   "metadata": {},
   "source": [
    "### [Q3.] What are the different types of data and how do they differ from each other? Provide an example of each type of data.\n",
    "##### [Ans]"
   ]
  },
  {
   "cell_type": "markdown",
   "id": "aa0b18b7-f451-455a-abf4-892046fefa88",
   "metadata": {},
   "source": [
    "**There are two types of data as follows :**\n",
    "1. **Quantitative Data :** It consists of numerical measurements.\n",
    "- Discrete Data\n",
    "- Continous Data\n",
    "\n",
    "2. **Qualitative Data :** It consists of descriptive or categorical information.\n",
    "- Nominal Data\n",
    "- Ordinal Data\n",
    "\n",
    "| TYPES OF DATA | DEFINATION | EXAMPLE |\n",
    "| ------------- | ---------- | ------- |\n",
    "| Quantitative / Discrete | Numerical values that can only take on specific values, typically integers. | Number of children in a family, number of cars in a household. |\n",
    "| Qunatitative / Continous | Numerical values that can take on any value within a range. | Length, Temperature, Humidity, Time. |\n",
    "| Qualitative / Nominal | Descriptive or categorical information that cannot be ranked or ordered. | Gender, Car Manufacturer, Cuisine. |\n",
    "| Qualitative / Ordinal | Descriptive or categorical information that can be ranked or ordered, but the intervals between categories are not necessarily equal. | Education level, socioeconomic status,Clothing Sizes(S,M,L,XL). |"
   ]
  },
  {
   "cell_type": "markdown",
   "id": "7c6e646c-3c48-4d8e-a260-52d5f9e0d85c",
   "metadata": {},
   "source": [
    "### [Q4.] Categorise the following datasets with respect to quantitative and qualitative data types:\n",
    "\n",
    "#### (i) Grading in exam: A+, A, B+, B, C+, C, D, E <br>\n",
    "#### (ii) Colour of mangoes: yellow, green, orange, red <br>\n",
    "#### (iii) Height data of a class: [178.9, 179, 179.5, 176, 177.2, 178.3, 175.8,...] <br>\n",
    "#### (iv) Number of mangoes exported by a farm: [500, 600, 478, 672, ...]\n",
    "\n",
    "##### [Ans]"
   ]
  },
  {
   "cell_type": "markdown",
   "id": "4af80e77-3e13-4196-a3b8-2daf238510b2",
   "metadata": {},
   "source": [
    "**(i) Grading in exam: A+, A, B+, B, C+, C, D, E** <br>\n",
    "\n",
    "- This is a Qualitative Ordinal Data A+ is the highest and E is lowest.\n",
    "\n",
    "**(ii) Colour of mangoes: yellow, green, orange, red** <br>\n",
    "\n",
    "- This is a Qualitative Nominal Data colours cannot have a rank.\n",
    "\n",
    "**(iii) Height data of a class: [178.9, 179, 179.5, 176, 177.2, 178.3, 175.8,...]** <br>\n",
    "\n",
    "- This is a Quantitative Continous Data because measurements have decimal values.\n",
    "\n",
    "**(iv) Number of mangoes exported by a farm: [500, 600, 478, 672, ...]** <br>\n",
    "\n",
    "- This is a Quantitative Discrete Data because mongoes cannot be in fraction or in decimal, it always be a integer value"
   ]
  },
  {
   "cell_type": "markdown",
   "id": "04811615-f563-4110-a1e3-f0c29ec25c75",
   "metadata": {},
   "source": [
    "### [Q5.] Explain the concept of levels of measurement and give an example of a variable for each level.\n",
    "##### [Ans]"
   ]
  },
  {
   "cell_type": "markdown",
   "id": "d3abf12d-484a-4854-8975-9c725c65e8fa",
   "metadata": {},
   "source": [
    "The concepts of level of measurement refers to the different ways we can measure and categorize variables. There are four levels nominal ,ordinal , interval and ratio. Each level has its own characteristics and determines the type of analysis we can perform on the data."
   ]
  },
  {
   "cell_type": "markdown",
   "id": "c718ab4e-98df-4b3c-8446-bcee06a9e035",
   "metadata": {},
   "source": [
    "| LEVEL OF MEASUREMENT | DEFINATION | EXAMPLE OF VARIABLE |\n",
    "| -------------------- | ---------- | ------------------- |\n",
    "| Nominal | Variables that can be categorized but not ranked. | Colour (blonde , brunette ,etc) |\n",
    "| Ordinal | Variables that can be  categorized and ranked. | Education level (high school , college , graduate) |\n",
    "| Interval | Variables with equal intervals between values but no true zero point. | Temperature (0 degree celsius doesn't mean no temperature) |\n",
    "| Ratio | Variables with equal intervals between values and a true zero point.  | Height in centimeters (0cm meanns no height) |"
   ]
  },
  {
   "cell_type": "markdown",
   "id": "c902a182-49b7-4218-8966-789ceadd41d9",
   "metadata": {},
   "source": [
    "### [Q6.] Why is it important to understand the level of measurement when analyzing data? Provide an example to illustrate your answer.\n",
    "##### [Ans]"
   ]
  },
  {
   "cell_type": "markdown",
   "id": "42091079-dad1-4ab6-bcf5-7dc2ea6612d5",
   "metadata": {},
   "source": [
    "Understanding the level of measurement is important because it helps  us choose the appropriate statistical analysis methods and interpret the results accurately. Different levels of measuremment have different properties and limitations, so knowing the level of measurement helps us to determine the appropriate statistical tests, summarize data effectively, and draw meaningful conclusions. It ensures that we use the right tools to analyze and interpret data correctly."
   ]
  },
  {
   "cell_type": "markdown",
   "id": "4725f4fc-9d89-47a8-89ea-dcd84aa9ee69",
   "metadata": {},
   "source": [
    "**EXAMPLE :**\n",
    "\n",
    "Let's consider a study that examines the relationship between income and job satisfaction among employees in a company. The income variable is a ratio-level variable because it has a true zero point (no income) and equal intervals between values. In contrast, job satisfaction is an ordinal-level variable because it has a specific order or rank, but unequal or non-meaningful differences between categories. \n",
    "\n",
    "If the researcher were to use a correlation analysis to examine the relationship between these two variables, the result would be incorrect because correlation is only appropriate for ratio-level variables. \n",
    "\n",
    "Instead, a more appropriate statistical test for analyzing the relationship between a ratio-level and ordinal-level variable would be a chi-squared test or a t-test. "
   ]
  },
  {
   "cell_type": "markdown",
   "id": "1ce19b53-f351-4493-8c0a-2c3181fd1247",
   "metadata": {},
   "source": [
    "### [Q7.] How nominal data type is different from ordinal data type.\n",
    "##### [Ans]"
   ]
  },
  {
   "cell_type": "markdown",
   "id": "cbe006a4-9fa0-403c-901c-4b4490055459",
   "metadata": {},
   "source": [
    "| NOMINAL DATA TYPE | ORDINAL DATA TYPE |\n",
    "| ----------------- | ----------------- |\n",
    "| Nominal data only allows categorization. | Ordinal data allows for ccategorization and rabking. |\n",
    "| In nominal data, the categories are mutually exclusive and there is no inherent order or hierarchy. | In ordinal data, the categories have a specific order or hierarchy, but the difference between the categories may not br equal. |\n",
    "| Nominal data can be represented by labels or names. | Ordinal data can be represnted by numbers or labels. |\n",
    "| Statistical operations like  mode can be used with nominal data. | Measures like median and mode are appropriate for ordinal data. |"
   ]
  },
  {
   "cell_type": "markdown",
   "id": "35fa48f9-3b2b-4375-b672-5f7d6e60e2bb",
   "metadata": {},
   "source": [
    "### [Q8.] Which type of plot can be used to display data in terms of range?\n",
    "##### [Ans]"
   ]
  },
  {
   "cell_type": "markdown",
   "id": "1a00a9fe-7046-4a8e-a8fc-cd1e6387ca6a",
   "metadata": {},
   "source": [
    "A histogram can be used to display data in terms of range. It shows the distribution of data across different ranges or intervals."
   ]
  },
  {
   "cell_type": "markdown",
   "id": "9fd0bb3c-f144-4097-9680-94612a932a55",
   "metadata": {},
   "source": [
    "### [Q9.] Describe the difference between descriptive and inferential statistics. Give an example of each type of statistics and explain how they are used.\n",
    "##### [Ans]"
   ]
  },
  {
   "cell_type": "markdown",
   "id": "7477d05c-fbb7-46d1-96e1-9733d48eb2b3",
   "metadata": {},
   "source": [
    "| TYPES  OF STATISTICS | HOW THEY USED | EXAMPLE | \n",
    "| -------------------- | ------------- | ------- |\n",
    "| Descriptive Statistics | Summarizes and describes the basic features of a dataset. | Mean, Median, Mode, Standard Deviation. |\n",
    "| Inferential Statistics | Used to make inferences or draw conclusions about a larger population based on a smaller sample of data. | Hypothesis Testing, Confidence Intervals, Regression Analysis, ANOVA. |"
   ]
  },
  {
   "cell_type": "markdown",
   "id": "5a55c381-2373-4dbf-8e01-b7d6e22ddf0c",
   "metadata": {},
   "source": [
    "### [Q10.] What are some common measures of central tendency and variability used in statistics? Explain how each measure can be used to describe a dataset.\n",
    "##### [Ans]"
   ]
  },
  {
   "cell_type": "markdown",
   "id": "af328bbf-372e-40d3-bf44-029ede85b5bf",
   "metadata": {},
   "source": [
    "| MEASURES | DEFINATION | MATHEMATICAL FORMULA |\n",
    "| -------- | ---------- | -------------------- |\n",
    "| **Central Tendency** |\n",
    "| Mean | Arithmetic average of a set of values. | $$\\bar{x} = \\frac{\\sum_{i=1}^{n} x_i}{n}$$ |\n",
    "| Median | Middle value in a dataset when it is ordered from smallest to largest. | If ( n ) is odd: $$\\tilde{x} = x_{\\frac{n+1}{2}}$$  If ( n ) is even: $$\\tilde{x} = \\frac{x_{\\frac{n}{2}} + x_{\\frac{n}{2} + 1}}{2}$$ |\n",
    "| Mode | Most common value in a dataset. |\n",
    "| **Variability** |\n",
    "| Variance | Average of the squared differences from the mean. | $$\\sigma^2 = \\frac{1}{n} \\sum_{i=1}^{n} (x_i - \\bar{x})^2$$ |\n",
    "| Standard Deviation | Square root of the variance. | $$\\sigma = \\sqrt{\\frac{1}{n} \\sum_{i=1}^{n} (x_i - \\bar{x})^2}$$ |"
   ]
  }
 ],
 "metadata": {
  "kernelspec": {
   "display_name": "Python 3 (ipykernel)",
   "language": "python",
   "name": "python3"
  },
  "language_info": {
   "codemirror_mode": {
    "name": "ipython",
    "version": 3
   },
   "file_extension": ".py",
   "mimetype": "text/x-python",
   "name": "python",
   "nbconvert_exporter": "python",
   "pygments_lexer": "ipython3",
   "version": "3.10.6"
  }
 },
 "nbformat": 4,
 "nbformat_minor": 5
}
