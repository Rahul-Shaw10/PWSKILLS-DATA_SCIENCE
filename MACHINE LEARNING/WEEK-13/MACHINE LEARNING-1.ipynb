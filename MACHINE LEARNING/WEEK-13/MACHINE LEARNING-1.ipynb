{
 "cells": [
  {
   "cell_type": "markdown",
   "id": "04a38db6-26ae-458f-bb86-93cfcdae12d5",
   "metadata": {},
   "source": [
    "### [Q1.] Explain the following with an example :\n",
    "\n",
    "1. Artificial Intelligence\n",
    "2. Machine Learning\n",
    "3. Deep Learning\n",
    "\n",
    "##### [Ans]"
   ]
  },
  {
   "cell_type": "markdown",
   "id": "dbc68c7c-89b0-48c5-a3e2-b195a04d34d6",
   "metadata": {},
   "source": [
    "**Artificial Intelligence :-**<br>\n",
    "It is a smart application that can perform its own task without any human intervention.\n",
    "\n",
    "**Example :**<br>\n",
    "Voice assistants like Siri or Alexa use AI to understand and respond to spoken commands. It's like having a smart virtual assistant at your fingertips.\n",
    "\n",
    "___\n",
    "\n",
    "**Machine Learning :-**<br>\n",
    "It is a field of study where computers learn from data and improve their performance over time. It provides stats tools to analyze, visualize, forecasting, etc.\n",
    "\n",
    "**Example :**<br>\n",
    "Imagine you have a photo app that can automatically recognize and tag people in your pictures. Machine Learning algorithms analyze a large dataset of labelled photos to learn patterns and features that distinguish different individuals. As you use the app and tag the people manually, the algorithm gets better at identifying them on its own. It's like the app is learning from your input to become smarter.\n",
    "\n",
    "___\n",
    "\n",
    "**Deep Learning :-**<br>\n",
    "Deep learning is a subset of machine learning that focuses on training artificial neural networks with multiple layers.\n",
    "\n",
    "**Example :**<br>\n",
    "Deep Learning is used in autonomous vehicles to help them navigate and make decisions on the road.It's like teaching a car's computer system to recognize and interpret different objects, such as traffic signs and pedestrains, so it can drive safely. It's like having a smart co-pilot that can help you navigate the roads."
   ]
  },
  {
   "cell_type": "markdown",
   "id": "ff8bab6e-7fc3-4c69-96b8-de9c8bdd90e1",
   "metadata": {},
   "source": [
    "### [Q2.] What is supervised learning? List some examples of supervised learning.\n",
    "##### [Ans]"
   ]
  },
  {
   "cell_type": "markdown",
   "id": "f311a2b2-171d-4c82-a978-7bdeffc21d41",
   "metadata": {},
   "source": [
    "Supervised Learning is a type of machine learning where a model is trained on labelled data. The model learns from examples where the imput data is paired with the correspomding correct output.\n",
    "\n",
    "**Some examples of supervised learning are as follows :**\n",
    "- **Handwriting Recognition :** Training a model to recognize handwriiten letters or digits.\n",
    "- **Fraud Detection :** Building a model to identify fraudulent transactions based on historical data.\n",
    "- **Customer Churn Prediction :** Predicting which customers are likely to cancel their subscriptions based on their behaviour and characteristics."
   ]
  },
  {
   "cell_type": "markdown",
   "id": "20e05300-dc9b-4292-ac84-182fadd6e562",
   "metadata": {},
   "source": [
    "### [Q3.] What is unsupervised learning? List some examples of unsupervised learning.\n",
    "##### [Ans]"
   ]
  },
  {
   "cell_type": "markdown",
   "id": "10987611-96bd-4b9a-b49e-1151c508d63f",
   "metadata": {},
   "source": [
    "Unsupervised learning is a type of machine learning where the model learns patterns and structures in the data without any labelled data.\n",
    "\n",
    "**Some examples of unsupervised learning are as follows :**\n",
    "- Clustering customer data to identify different segments or groups based on their behaviour.\n",
    "- Topic modeling to automatically categorize and organize large amounts of text data.\n",
    "- Anomaly detection in network traffic to identify unusual patterns that may indicate a cyber attack."
   ]
  },
  {
   "cell_type": "markdown",
   "id": "6f4e117b-b0fb-4c0b-b986-ce0377b9e901",
   "metadata": {},
   "source": [
    "### [Q4.] What is the difference between AI , ML , DL and DS?\n",
    "##### [Ans]"
   ]
  },
  {
   "cell_type": "markdown",
   "id": "09292eee-ec07-48c0-ab79-728e2823106e",
   "metadata": {},
   "source": [
    "| AI | ML | DL | DS |\n",
    "| -- | -- | -- | -- |\n",
    "| It is  the field of creating intelligent machines. | It is a subset of AI that focuses on algorithms and models that allow computers to learn and make predictions. | It is a subset of ML that refers to neural networks with multiple layers for more complex learning. | It is a multidisciplinary field that combines statistics, ML and domain knowledge to extract insights from data. |\n"
   ]
  },
  {
   "cell_type": "markdown",
   "id": "db5130a6-0eac-4abb-9910-0538a3c5ec9d",
   "metadata": {},
   "source": [
    "### [Q5.] What are the main differences between supervised , unsupervised and semi-supervised learning?\n",
    "##### [Ans]"
   ]
  },
  {
   "cell_type": "markdown",
   "id": "d9949898-9272-4414-9741-ebf0ed6b5b40",
   "metadata": {},
   "source": [
    "| SUPERVISED LEARNING | UNSUPERVISED LEARNING | SEMI-SUPERVISED LEARNING |\n",
    "| ------------------- | --------------------- | ------------------------ |\n",
    "| Uses labeled data with input-output pairs. | Uses unlabeled data without specific output. | Combination of supervised and unsupervised learning. |\n",
    "| The model learns to predict the output based on the input. | The model finds patterns or structures in the data. | Uses a small portion of labeled data and unlabeled data. |\n",
    "| Goal is to learn the mapping between inputs and outputs. | Goal is to discover hidden patterns or relationships in the data. | Helpful when obtaining labeled data is difficult or expensive. |"
   ]
  },
  {
   "cell_type": "markdown",
   "id": "cbe7f69c-ea3b-46a1-b4d8-2c8e2c7b8ea6",
   "metadata": {},
   "source": [
    "### [Q6.] What is train , test and validation split? Explain the importance of each term.\n",
    "##### [Ans]"
   ]
  },
  {
   "cell_type": "markdown",
   "id": "bc64c766-ce24-4851-a718-a19777a5ca34",
   "metadata": {},
   "source": [
    "The train, test and validation split is a common practice in machine learning. Here are the importance of each terms.\n",
    "\n",
    "1. TRAIN SET:\n",
    "- The train set is used to train the model, meaning the model learns from this labeled data.\n",
    "- It helps the model learns patterns and relationships between inputs and outputs.\n",
    "- The more diverse and representative the train set, the better the model's performance.\n",
    "\n",
    "2. VALIDATION SET:\n",
    "- The validation set is used to fine-tune the model performance and make decisions about its architecture or training process.\n",
    "- It helps i  selecting the best model by comaparing their performance on the validation set.\n",
    "- It prevents overfitting by providing an unbaised evaluation of the model's performance.\n",
    "\n",
    "3. TEST SET:\n",
    "- The test set is used to evaluate the model's performance after training.\n",
    "- It contains unseen data that the model hasn't been exposed to during training.\n",
    "- It helps assess how well the model generalizes to new, unseen examples."
   ]
  },
  {
   "cell_type": "markdown",
   "id": "817ae109-345b-4a9c-9a4c-cb0b2282b8f2",
   "metadata": {},
   "source": [
    "### [Q7.] How can unsupervised learning be used in anomaly detection?\n",
    "##### [Ans]"
   ]
  },
  {
   "cell_type": "markdown",
   "id": "6d562143-c2a5-4f31-af3a-c0e22859dd8d",
   "metadata": {},
   "source": [
    "Unsupervised learning can be used in anomaly detection by leveraging techniques like clustering or dimensionality reduction. In anomaly detection, the goal is to identify data points that deviate significantly from the norm or expected patterns. Unsupervised learning algorithms can help in this process by finding underlying structures or patterns in the data without the need for labeled examples. These algorithms can detect anomalies by identifying data points that do not conform to the learned patterns or clusters. By analyzing the distribution and relationships within the data, unsupervised learning can help identify anomalies and flag them for further investigations."
   ]
  },
  {
   "cell_type": "markdown",
   "id": "74796b52-c267-4ab1-8505-65979252032a",
   "metadata": {},
   "source": [
    "### [Q8.] List down some commonly used supervised learning algorithms and unsupervised learning algorithms.\n",
    "##### [Ans]"
   ]
  },
  {
   "cell_type": "markdown",
   "id": "37120892-0685-43cd-a9e8-d4a0f12d29c3",
   "metadata": {},
   "source": [
    "**COMMONLY USED SUPERVISED LEARNING ALGORITHMS :**\n",
    "- Linear Regression \n",
    "- Logistic Regression\n",
    "- Decision Trees\n",
    "- Random Forests\n",
    "- Support Vector Machines\n",
    "- Neural Networks\n",
    "\n",
    "**COMMONLY USED UNSUPERVISED LEARNING ALGORITHMS :**\n",
    "- K-means Clustering\n",
    "- Hierarchical Clustering\n",
    "- Principal Component Analysis (PCA)\n",
    "- Anomaly Detection\n",
    "- Isolation Forest"
   ]
  }
 ],
 "metadata": {
  "kernelspec": {
   "display_name": "Python 3 (ipykernel)",
   "language": "python",
   "name": "python3"
  },
  "language_info": {
   "codemirror_mode": {
    "name": "ipython",
    "version": 3
   },
   "file_extension": ".py",
   "mimetype": "text/x-python",
   "name": "python",
   "nbconvert_exporter": "python",
   "pygments_lexer": "ipython3",
   "version": "3.10.6"
  }
 },
 "nbformat": 4,
 "nbformat_minor": 5
}
