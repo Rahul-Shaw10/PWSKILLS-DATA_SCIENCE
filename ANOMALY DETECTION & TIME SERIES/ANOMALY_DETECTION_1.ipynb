{
  "nbformat": 4,
  "nbformat_minor": 0,
  "metadata": {
    "colab": {
      "provenance": []
    },
    "kernelspec": {
      "name": "python3",
      "display_name": "Python 3"
    },
    "language_info": {
      "name": "python"
    }
  },
  "cells": [
    {
      "cell_type": "markdown",
      "source": [
        "\n",
        "### **Q1. What is anomaly detection and what is its purpose?**\n",
        "#####[Ans]\n",
        "- **Anomaly Detection**: The process of identifying unusual patterns or data points that differ significantly from the majority of the data.\n",
        "- **Purpose**:\n",
        "  - Detect fraudulent activities in financial transactions.\n",
        "  - Identify faults in industrial systems.\n",
        "  - Discover unusual behaviors in cybersecurity.\n",
        "\n",
        "---\n",
        "\n",
        "### **Q2. What are the key challenges in anomaly detection?**\n",
        "#####[Ans]\n",
        "1. **Imbalanced Data**: Anomalies are rare compared to normal data.\n",
        "2. **Dynamic Data**: Data distributions may change over time.\n",
        "3. **High Dimensionality**: Complex datasets with many features make detecting anomalies harder.\n",
        "4. **Lack of Labeled Data**: Often, there is no labeled dataset for anomalies.\n",
        "5. **Defining Anomalies**: The definition of anomalies can vary depending on the context.\n",
        "\n",
        "---\n",
        "\n",
        "### **Q3. How does unsupervised anomaly detection differ from supervised anomaly detection?**\n",
        "#####[Ans]\n",
        "- **Unsupervised Anomaly Detection**:\n",
        "  - No labeled data required.\n",
        "  - Identifies patterns that deviate significantly from the majority.\n",
        "  - Example: Isolation Forest.\n",
        "\n",
        "- **Supervised Anomaly Detection**:\n",
        "  - Requires labeled data (normal vs. anomalous).\n",
        "  - Learns a model based on training data.\n",
        "  - Example: Classification models.\n",
        "\n",
        "---\n",
        "\n",
        "### **Q4. What are the main categories of anomaly detection algorithms?**\n",
        "#####[Ans]\n",
        "1. **Statistical Methods**:\n",
        "   - Based on probabilistic models.\n",
        "   - Example: Z-score, Gaussian Mixture Models.\n",
        "\n",
        "2. **Distance-Based Methods**:\n",
        "   - Measure distance between points to identify outliers.\n",
        "   - Example: K-Nearest Neighbors (KNN).\n",
        "\n",
        "3. **Density-Based Methods**:\n",
        "   - Identify regions of low data density as anomalies.\n",
        "   - Example: Local Outlier Factor (LOF).\n",
        "\n",
        "4. **Machine Learning-Based Methods**:\n",
        "   - Supervised and unsupervised algorithms.\n",
        "   - Example: Isolation Forest, Autoencoders.\n",
        "\n",
        "---\n",
        "\n",
        "### **Q5. What are the main assumptions made by distance-based anomaly detection methods?**\n",
        "#####[Ans]\n",
        "1. Normal data points are closer to each other.\n",
        "2. Anomalous data points are farther from the majority of the data.\n",
        "3. Distance metrics (e.g., Euclidean distance) are effective in capturing data relationships.\n",
        "\n",
        "---\n",
        "\n",
        "### **Q6. How does the LOF algorithm compute anomaly scores?**\n",
        "#####[Ans]\n",
        "- **Local Outlier Factor (LOF)**:\n",
        "  1. Computes the **local density** of each data point based on its neighbors.\n",
        "  2. Compares the density of a point to the densities of its neighbors.\n",
        "  3. **Anomaly Score**:\n",
        "     - High LOF score indicates that the point is in a low-density region compared to its neighbors, suggesting it is an anomaly.\n",
        "\n",
        "---\n",
        "\n",
        "### **Q7. What are the key parameters of the Isolation Forest algorithm?**\n",
        "#####[Ans]\n",
        "1. **Number of Trees (`n_estimators`)**:\n",
        "   - Determines the number of trees in the forest.\n",
        "   - More trees improve the model's accuracy but increase computational cost.\n",
        "\n",
        "2. **Subsample Size (`max_samples`)**:\n",
        "   - Number of samples used to train each tree.\n",
        "   - Smaller subsample sizes enhance anomaly isolation.\n",
        "\n",
        "3. **Contamination**:\n",
        "   - Proportion of the dataset expected to be anomalies.\n",
        "   - Helps in determining the threshold for classifying points as anomalies.\n",
        "\n",
        "4. **Maximum Features (`max_features`)**:\n",
        "   - Number of features to consider when splitting nodes.\n",
        "   - Helps control model complexity.\n",
        "\n",
        "---\n",
        "\n",
        "### Q8. If a data point has only 2 neighbours of the same class within a radius of 0.5, what is its anomaly score using KNN with K=10?\n",
        "#####[Ans]"
      ],
      "metadata": {
        "id": "FwMGEiilFuap"
      }
    },
    {
      "cell_type": "code",
      "source": [
        "K = 10\n",
        "radius = 0.5\n",
        "neighbors = 2\n",
        "\n",
        "anomaly_score = 1 - (neighbors / K)\n",
        "\n",
        "print(f\"ANOMALY SCORE : {anomaly_score:.2f}\")"
      ],
      "metadata": {
        "colab": {
          "base_uri": "https://localhost:8080/"
        },
        "id": "e6y0KPgUHT8q",
        "outputId": "9e5d4507-0bbc-4b42-f268-626014200d42"
      },
      "execution_count": 2,
      "outputs": [
        {
          "output_type": "stream",
          "name": "stdout",
          "text": [
            "ANOMALY SCORE : 0.80\n"
          ]
        }
      ]
    },
    {
      "cell_type": "markdown",
      "source": [
        "---\n",
        "### Q9. Using the Isolation Forest algorithm with 100 trees and a dataset of 3000 data points, what is the anomaly score for a data point that has an average path length of 5.0 compared to the average path length of the trees?\n",
        "#####[Ans]"
      ],
      "metadata": {
        "id": "Ot3-y7lEHIAZ"
      }
    },
    {
      "cell_type": "code",
      "execution_count": 1,
      "metadata": {
        "colab": {
          "base_uri": "https://localhost:8080/"
        },
        "id": "bPFbAqnkFtas",
        "outputId": "882bcbeb-0521-465a-b228-dac08085f263"
      },
      "outputs": [
        {
          "output_type": "stream",
          "name": "stdout",
          "text": [
            "c(n) for n=3000: 15.1671\n",
            "Anomaly Score: 0.7957\n"
          ]
        }
      ],
      "source": [
        "import math\n",
        "\n",
        "n = 3000\n",
        "h_x = 5.0\n",
        "\n",
        "euler_gamma = 0.5772\n",
        "\n",
        "c_n = 2 * (math.log(n - 1) + euler_gamma) - (2 * (n - 1) / n)\n",
        "\n",
        "anomaly_score = 2 ** (-h_x / c_n)\n",
        "\n",
        "print(f\"c(n) for n={n}: {c_n:.4f}\")\n",
        "print(f\"Anomaly Score: {anomaly_score:.4f}\")\n"
      ]
    }
  ]
}