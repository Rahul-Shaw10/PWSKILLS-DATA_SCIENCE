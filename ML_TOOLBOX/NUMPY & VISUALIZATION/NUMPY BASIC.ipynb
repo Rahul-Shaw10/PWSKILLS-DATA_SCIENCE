{
 "cells": [
  {
   "cell_type": "markdown",
   "id": "9e256ace-b635-4188-9bc5-d0c5744cdca3",
   "metadata": {},
   "source": [
    "### Consider the below code to answer further questions:"
   ]
  },
  {
   "cell_type": "code",
   "execution_count": 21,
   "id": "7a6e08d8-73f5-43ce-8a9c-1e7039ab1e80",
   "metadata": {},
   "outputs": [],
   "source": [
    "import numpy as np\n",
    "list_ = ['1' , '2' , '3' , '4' , '5']\n",
    "array_list = np.array(object = list_)"
   ]
  },
  {
   "cell_type": "markdown",
   "id": "31c3379d-a346-4bf5-b58a-5295023942cc",
   "metadata": {},
   "source": [
    "### [Q1.] Is there any difference in the data type of variables list_ and array_list? If there is then write a code to print the data types of both the variables.\n",
    "\n",
    "#### [Ans]"
   ]
  },
  {
   "cell_type": "code",
   "execution_count": 9,
   "id": "4665c7ca-c002-4e82-8d83-22396734265a",
   "metadata": {},
   "outputs": [
    {
     "data": {
      "text/plain": [
       "['1', '2', '3', '4', '5']"
      ]
     },
     "execution_count": 9,
     "metadata": {},
     "output_type": "execute_result"
    }
   ],
   "source": [
    "list_"
   ]
  },
  {
   "cell_type": "code",
   "execution_count": 10,
   "id": "a295ba82-7094-4e2a-ad94-6d53dd35f51a",
   "metadata": {},
   "outputs": [
    {
     "data": {
      "text/plain": [
       "array(['1', '2', '3', '4', '5'], dtype='<U1')"
      ]
     },
     "execution_count": 10,
     "metadata": {},
     "output_type": "execute_result"
    }
   ],
   "source": [
    "array_list"
   ]
  },
  {
   "cell_type": "code",
   "execution_count": 16,
   "id": "e8eade45-b241-4c0c-b1ad-19352cd37415",
   "metadata": {},
   "outputs": [
    {
     "name": "stdout",
     "output_type": "stream",
     "text": [
      "THE DATA TYPE OF list_ IS :  <class 'list'>\n",
      "THE DATA TYPE OF array_list IS :  <class 'numpy.ndarray'>\n"
     ]
    }
   ],
   "source": [
    "print(\"THE DATA TYPE OF list_ IS :\",type(list_))\n",
    "print(\"THE DATA TYPE OF array_list IS :\",type(array_list))"
   ]
  },
  {
   "cell_type": "markdown",
   "id": "7c7561c1-2d3b-4d91-9ad3-6fe043ff73e1",
   "metadata": {},
   "source": [
    "### [Q2.] Write a code to print the data type of each and every element of both the variables list_ and array_list.\n",
    "\n",
    "#### [Ans]"
   ]
  },
  {
   "cell_type": "code",
   "execution_count": 17,
   "id": "e4f44d68-aa70-40e7-ac2a-4b5617fcb455",
   "metadata": {},
   "outputs": [
    {
     "name": "stdout",
     "output_type": "stream",
     "text": [
      "THE DATA TYPE OF 1 IS : <class 'str'>\n",
      "THE DATA TYPE OF 2 IS : <class 'str'>\n",
      "THE DATA TYPE OF 3 IS : <class 'str'>\n",
      "THE DATA TYPE OF 4 IS : <class 'str'>\n",
      "THE DATA TYPE OF 5 IS : <class 'str'>\n",
      "========================================================\n",
      "THE DATA TYPE OF 1 IS : <class 'numpy.str_'>\n",
      "THE DATA TYPE OF 2 IS : <class 'numpy.str_'>\n",
      "THE DATA TYPE OF 3 IS : <class 'numpy.str_'>\n",
      "THE DATA TYPE OF 4 IS : <class 'numpy.str_'>\n",
      "THE DATA TYPE OF 5 IS : <class 'numpy.str_'>\n"
     ]
    }
   ],
   "source": [
    "for i in list_:\n",
    "    print(f\"THE DATA TYPE OF {i} IS :\",type(i))\n",
    "    \n",
    "print(\"=======\"*8)\n",
    "\n",
    "for j in array_list:\n",
    "    print(f\"THE DATA TYPE OF {j} IS :\",type(j))"
   ]
  },
  {
   "cell_type": "markdown",
   "id": "a96d2335-48f6-4079-ad01-6ac5662d56ed",
   "metadata": {},
   "source": [
    "### [Q3.] Considering the following changes in the variable, array_list:"
   ]
  },
  {
   "cell_type": "code",
   "execution_count": 18,
   "id": "ef0c4b7e-b1b7-4aa2-bbb8-3915cbf7c66a",
   "metadata": {},
   "outputs": [],
   "source": [
    "array_list = np.array(object=list_ , dtype=int)"
   ]
  },
  {
   "cell_type": "markdown",
   "id": "99abacce-6c25-47b4-9840-b47394390ae2",
   "metadata": {},
   "source": [
    "#### Will there be any difference in the data type of the elements present in both the variables, list_ and array_list? If so then print the data types of each and every element present in both the variables, list_ and array_list.\n",
    "\n",
    "##### [Ans]"
   ]
  },
  {
   "cell_type": "code",
   "execution_count": 19,
   "id": "bc3caeaf-0666-4859-b2f4-a8e6e9aa307e",
   "metadata": {},
   "outputs": [
    {
     "name": "stdout",
     "output_type": "stream",
     "text": [
      "THE DATA TYPE OF 1 IS : <class 'str'>\n",
      "THE DATA TYPE OF 2 IS : <class 'str'>\n",
      "THE DATA TYPE OF 3 IS : <class 'str'>\n",
      "THE DATA TYPE OF 4 IS : <class 'str'>\n",
      "THE DATA TYPE OF 5 IS : <class 'str'>\n",
      "========================================================\n",
      "THE DATA TYPE OF 1 IS : <class 'numpy.int64'>\n",
      "THE DATA TYPE OF 2 IS : <class 'numpy.int64'>\n",
      "THE DATA TYPE OF 3 IS : <class 'numpy.int64'>\n",
      "THE DATA TYPE OF 4 IS : <class 'numpy.int64'>\n",
      "THE DATA TYPE OF 5 IS : <class 'numpy.int64'>\n"
     ]
    }
   ],
   "source": [
    "for m in list_:\n",
    "    print(f\"THE DATA TYPE OF {m} IS :\",type(m))\n",
    "    \n",
    "print(\"=======\"*8)\n",
    "\n",
    "for n in array_list:\n",
    "    print(f\"THE DATA TYPE OF {n} IS :\",type(n))"
   ]
  },
  {
   "cell_type": "markdown",
   "id": "78e9deca-b4ea-49dc-b9f8-3514657435a4",
   "metadata": {},
   "source": [
    "### Consider the below code to answer further questions:"
   ]
  },
  {
   "cell_type": "code",
   "execution_count": 22,
   "id": "c35a4fa2-03f2-41e9-aadd-251c1e019e8e",
   "metadata": {},
   "outputs": [],
   "source": [
    "import numpy as np\n",
    "num_list = [ [ 1 , 2 , 3 ] , [ 4 , 5 , 6 ] ]\n",
    "num_array = np.array(object = num_list)"
   ]
  },
  {
   "cell_type": "markdown",
   "id": "98ab2a6c-836a-4cab-9779-f74bd8fc5110",
   "metadata": {},
   "source": [
    "### [Q4.] Write a code to find the following characteristics of variable, num_array:\n",
    "#### (i) shape\n",
    "#### (ii) size\n",
    "\n",
    "##### [Ans]"
   ]
  },
  {
   "cell_type": "code",
   "execution_count": 24,
   "id": "29a80160-70ee-4076-90a7-776e4d5ea232",
   "metadata": {},
   "outputs": [
    {
     "name": "stdout",
     "output_type": "stream",
     "text": [
      "THE SHAPE OF num_array IS : (2, 3)\n",
      "THE SIZE OF num_array IS : 6\n"
     ]
    }
   ],
   "source": [
    "print(\"THE SHAPE OF num_array IS :\",num_array.shape)\n",
    "print(\"THE SIZE OF num_array IS :\",num_array.size)"
   ]
  },
  {
   "cell_type": "markdown",
   "id": "3e74bd34-097e-41f8-8600-04a899506692",
   "metadata": {},
   "source": [
    "### [Q5.] Write a code to create numpy array of 3*3 matrix containing zeros only, using a numpy array creation function.\n",
    "\n",
    "#### [Hint: The size of the array will be 9 and the shape will be (3,3).]\n",
    "\n",
    "##### [Ans]"
   ]
  },
  {
   "cell_type": "code",
   "execution_count": 32,
   "id": "74daa1f9-ab43-4449-988d-8d85e9fa77d9",
   "metadata": {},
   "outputs": [
    {
     "data": {
      "text/plain": [
       "array([[0., 0., 0.],\n",
       "       [0., 0., 0.],\n",
       "       [0., 0., 0.]])"
      ]
     },
     "execution_count": 32,
     "metadata": {},
     "output_type": "execute_result"
    }
   ],
   "source": [
    "np.zeros((3,3))"
   ]
  },
  {
   "cell_type": "markdown",
   "id": "ee373226-b8d3-4578-b904-1874608cd6f0",
   "metadata": {},
   "source": [
    "### [Q6.] Create an identity matrix of shape (5,5) using numpy functions?\n",
    "\n",
    "#### [Hint: An identity matrix is a matrix containing 1 diagonally and other elements will be 0.]\n",
    "\n",
    "##### [Ans]"
   ]
  },
  {
   "cell_type": "code",
   "execution_count": 34,
   "id": "dcfe6fe8-81c9-4a62-bd3e-fb1fe50efb6c",
   "metadata": {},
   "outputs": [
    {
     "data": {
      "text/plain": [
       "array([[1., 0., 0., 0., 0.],\n",
       "       [0., 1., 0., 0., 0.],\n",
       "       [0., 0., 1., 0., 0.],\n",
       "       [0., 0., 0., 1., 0.],\n",
       "       [0., 0., 0., 0., 1.]])"
      ]
     },
     "execution_count": 34,
     "metadata": {},
     "output_type": "execute_result"
    }
   ],
   "source": [
    "np.identity(5)"
   ]
  },
  {
   "cell_type": "code",
   "execution_count": 35,
   "id": "e528bbd7-a24b-4b8c-8143-9cd72314eb91",
   "metadata": {},
   "outputs": [
    {
     "data": {
      "text/plain": [
       "array([[1., 0., 0., 0., 0.],\n",
       "       [0., 1., 0., 0., 0.],\n",
       "       [0., 0., 1., 0., 0.],\n",
       "       [0., 0., 0., 1., 0.],\n",
       "       [0., 0., 0., 0., 1.]])"
      ]
     },
     "execution_count": 35,
     "metadata": {},
     "output_type": "execute_result"
    }
   ],
   "source": [
    "np.eye(5)"
   ]
  },
  {
   "cell_type": "code",
   "execution_count": null,
   "id": "90b4113c-5f65-4188-80aa-0b9913aae8dd",
   "metadata": {},
   "outputs": [],
   "source": []
  }
 ],
 "metadata": {
  "kernelspec": {
   "display_name": "Python 3 (ipykernel)",
   "language": "python",
   "name": "python3"
  },
  "language_info": {
   "codemirror_mode": {
    "name": "ipython",
    "version": 3
   },
   "file_extension": ".py",
   "mimetype": "text/x-python",
   "name": "python",
   "nbconvert_exporter": "python",
   "pygments_lexer": "ipython3",
   "version": "3.10.6"
  }
 },
 "nbformat": 4,
 "nbformat_minor": 5
}
