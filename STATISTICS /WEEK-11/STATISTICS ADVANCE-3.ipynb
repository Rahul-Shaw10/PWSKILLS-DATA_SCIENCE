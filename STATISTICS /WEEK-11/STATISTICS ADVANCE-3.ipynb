{
 "cells": [
  {
   "cell_type": "markdown",
   "id": "30234b8d-ee3e-4537-92c4-e05ebcb02975",
   "metadata": {},
   "source": [
    "### [Q1.] What is Estimation Statistics? Explain point estimate and interval estimate."
   ]
  },
  {
   "cell_type": "markdown",
   "id": "68eb610a-d96e-45aa-889e-582e3e0b5cb2",
   "metadata": {},
   "source": [
    "##### [Ans]"
   ]
  },
  {
   "cell_type": "markdown",
   "id": "a40096c0-265d-47da-ad93-ebe4a7bc57f8",
   "metadata": {},
   "source": [
    "**Estimation :-** Estimation is an observed numerical value ussed to estimate an unknown population parameter.<br>\n",
    "**Point Estimate :-** A single numerical value to estimate the unknown population parameter.<br>\n",
    "**Interval Estimate :-** It is also known as Confidence Interval. It is a range of values that is used to estimateth unknown ppulation parameter."
   ]
  },
  {
   "cell_type": "markdown",
   "id": "d7901756-5212-4667-9e6d-12d6f799f56e",
   "metadata": {},
   "source": [
    "### [Q2.] Write a Python function to estimate the population mean using a sample mean and standard deviation."
   ]
  },
  {
   "cell_type": "markdown",
   "id": "8b76d1ee-6b5e-4360-baff-b9a48ea86cc2",
   "metadata": {},
   "source": [
    "##### [Ans]"
   ]
  },
  {
   "cell_type": "code",
   "execution_count": 7,
   "id": "1487aea9-4efa-4bb8-920c-408b08a9bc99",
   "metadata": {},
   "outputs": [
    {
     "name": "stdout",
     "output_type": "stream",
     "text": [
      "Confidence interval of population mean is (46.421611712565685, 53.578388287434315)\n"
     ]
    }
   ],
   "source": [
    "import numpy as np\n",
    "from scipy import stats\n",
    "\n",
    "def estimate_population_mean(sample_mean, sample_std, sample_size, confidence_level):\n",
    "    standard_error = sample_std / np.sqrt(sample_size)\n",
    "    z_score = stats.norm.ppf((1 + confidence_level) / 2)\n",
    "    margin_of_error = standard_error * z_score\n",
    "    lower_bound = sample_mean - margin_of_error  \n",
    "    upper_bound = sample_mean + margin_of_error\n",
    "    return lower_bound, upper_bound\n",
    "\n",
    "sample_mean = 50\n",
    "sample_std = 10\n",
    "sample_size = 30\n",
    "confidence_level = 0.95\n",
    "\n",
    "confidence_interval = estimate_population_mean(sample_mean, sample_std, sample_size, confidence_level)\n",
    "print(f\"Confidence interval of population mean is {confidence_interval}\")"
   ]
  },
  {
   "cell_type": "markdown",
   "id": "a15d4704-5a7f-4d9a-9405-817a8328955c",
   "metadata": {},
   "source": [
    "### [Q3.] What is Hypothesis testing? Why is it used? State the importance of Hypothesis testing."
   ]
  },
  {
   "cell_type": "markdown",
   "id": "07a94a51-6aa6-4c32-bfaa-ebbd3e61c742",
   "metadata": {},
   "source": [
    "Hypothesis testing is a statistical method used to determine whether there is enough evidence in sample data to support a specific claim about a population. It involves comparing observed data against a null hypothesis (H₀) and deciding whether to reject it in favor of an alternative hypothesis (Hₐ).\n",
    "\n",
    "**Uses:-**\n",
    "- Desicion Making\n",
    "- Scientific Research\n",
    "- Quality Control\n",
    "- Business Desicions\n",
    "\n",
    "**Importance :-** Hypothesis testing is important because it provides an objective framework for decision-making, quantifies the uncertainty associated with data-driven conclusions, helps avoid false conclusions by setting a threshold for statistical significance, and ensures scientific and statistical rigor in research and practical applications."
   ]
  },
  {
   "cell_type": "markdown",
   "id": "a12fb6ac-9c57-476c-902b-13eb009dea16",
   "metadata": {},
   "source": [
    "### [Q4.] Create a hypothesis that states whether the average weight of male college students is greater than the average weight of female college students."
   ]
  },
  {
   "cell_type": "markdown",
   "id": "17e67ada-69b1-479d-a7a5-f57a23dae03d",
   "metadata": {},
   "source": [
    "##### [Ans]"
   ]
  },
  {
   "cell_type": "markdown",
   "id": "42d06c2b-777f-411f-85e0-23830cd1a3a5",
   "metadata": {},
   "source": [
    "**Null Hypothesis H<sub>0 :** Mean Weight <sub> male </sub> > Mean Weight <sub> female </sub> <br>\n",
    "**Alernate Hypothesis H<sub>1 :** Mean Weight <sub> female </sub> > Mean Weight <sub> male </sub> <br>"
   ]
  },
  {
   "cell_type": "markdown",
   "id": "1c426789-cce6-4c5a-8d27-ffd38a5feb5a",
   "metadata": {},
   "source": [
    "### [Q5.] Write a Python script to conduct a hypothesis test on the difference between two population means, given a sample from each population.\n",
    "##### [Ans]"
   ]
  },
  {
   "cell_type": "code",
   "execution_count": 31,
   "id": "5e4299f7-dea5-4f93-8b36-b151ef11422e",
   "metadata": {},
   "outputs": [
    {
     "name": "stdout",
     "output_type": "stream",
     "text": [
      "t-statistic: 9.089317887427141\n",
      "p-value: 8.96386612625485e-08\n",
      "Reject the null hypothesis?\n"
     ]
    }
   ],
   "source": [
    "import numpy as np\n",
    "from scipy import stats\n",
    "\n",
    "def hypothesis_test_two_means(sample1, sample2, alpha=0.05, alternative='two-sided'):\n",
    "\n",
    "    t_statistic, p_value = stats.ttest_ind(sample1, sample2, equal_var=False)  \n",
    "    \n",
    "    if alternative == 'greater':\n",
    "        p_value /= 2\n",
    "        reject_null = p_value < alpha and t_statistic > 0\n",
    "    elif alternative == 'less':\n",
    "        p_value /= 2\n",
    "        reject_null = p_value < alpha and t_statistic < 0\n",
    "    else:\n",
    "        reject_null = p_value < alpha  \n",
    "    \n",
    "    result = {\n",
    "        \"t_statistic\": t_statistic,\n",
    "        \"p_value\": p_value,\n",
    "        \"reject_null\": reject_null\n",
    "    }\n",
    "    \n",
    "    return result\n",
    "\n",
    "male_weights = [75, 80, 68, 74, 85, 77, 79, 82, 73, 78]\n",
    "female_weights = [60, 62, 55, 58, 65, 63, 61, 64, 59, 60]\n",
    "\n",
    "\n",
    "result = hypothesis_test_two_means(male_weights, female_weights, alpha=0.05, alternative='greater')\n",
    "\n",
    "\n",
    "print(\"t-statistic:\", result['t_statistic'])\n",
    "print(\"p-value:\", result['p_value'])\n",
    "print(\"Reject the null hypothesis?\" if result['reject_null'] else \"Fail to reject the null hypothesis\")\n"
   ]
  },
  {
   "cell_type": "markdown",
   "id": "ab7761a5-a26a-40ef-8c47-bf961610f133",
   "metadata": {},
   "source": [
    "### [Q6.] What is a null and alternative hypothesis? Give some examples.\n",
    "##### [Ans]"
   ]
  },
  {
   "cell_type": "markdown",
   "id": "ed2788fb-c892-4d02-a6a6-65a784fa52e2",
   "metadata": {},
   "source": [
    "**Null Hypothesis :** It is the assumption that you are beginning with. <br>\n",
    "**Alernate Hypothesis :** It is the opposite of null hypothesis."
   ]
  },
  {
   "cell_type": "markdown",
   "id": "9031ecbe-b68c-4757-96c0-d0a1c9575f94",
   "metadata": {},
   "source": [
    "### [Q7.] Write down the steps involved in hypothesis testing.\n",
    "##### [Ans]"
   ]
  },
  {
   "cell_type": "markdown",
   "id": "7d220575-6fe3-402d-8c1c-a799f7cd6099",
   "metadata": {},
   "source": [
    "The steps includes are :\n",
    "- State the Hypothesis.\n",
    "- Set the significance value.\n",
    "- Choose the appropriate test.\n",
    "- Collect the data and Calculate Test Statistics.\n",
    "- Find the  p-value or critical value.\n",
    "- Make a Desicion.\n",
    "- Draw a Conclusion."
   ]
  },
  {
   "cell_type": "markdown",
   "id": "0044b926-981b-4107-af59-6717c71bc8b5",
   "metadata": {},
   "source": [
    "### [Q8.] Define p-value and explain its significance in hypothesis testing.\n",
    "##### [Ans]"
   ]
  },
  {
   "cell_type": "markdown",
   "id": "01d2957a-1e60-463c-b37b-7a69ac435dfb",
   "metadata": {},
   "source": [
    "The p-value is a number, calaculated from a statistical test, that describes how likely you are to have found a particular set of observations, if the null hypothesis wer true, thenn p-value are used in hypothesis testing to help decide whether to reject the null hypothesis."
   ]
  },
  {
   "cell_type": "markdown",
   "id": "8bdebb40-b671-4dd6-98ac-c9b52f948dd0",
   "metadata": {},
   "source": [
    "### [Q9.] Generate a Student's t-distribution plot using Python's matplotlib library, with the degrees of freedom parameter set to 10.\n",
    "##### [Ans]"
   ]
  },
  {
   "cell_type": "code",
   "execution_count": 32,
   "id": "30207541-de37-4553-a4e2-d6d8dd617329",
   "metadata": {},
   "outputs": [
    {
     "data": {
      "image/png": "[encoded data removed]",
      "text/plain": [
       "<Figure size 800x600 with 1 Axes>"
      ]
     },
     "metadata": {},
     "output_type": "display_data"
    }
   ],
   "source": [
    "import numpy as np\n",
    "import matplotlib.pyplot as plt\n",
    "from scipy.stats import t\n",
    "\n",
    "dof = 10\n",
    "x = np.linspace(-5, 5, 1000)\n",
    "y = t.pdf(x, dof)\n",
    "\n",
    "plt.figure(figsize=(8, 6))\n",
    "plt.plot(x, y, label=f\"t-distribution (dof={dof})\")\n",
    "plt.title(\"Student t-Distribution\")\n",
    "plt.xlabel(\"x\")\n",
    "plt.ylabel(\"Probability Density\")\n",
    "plt.legend()\n",
    "plt.grid(True)\n",
    "plt.show()"
   ]
  },
  {
   "cell_type": "markdown",
   "id": "155ac76e-4e5c-4cdf-b29a-3f5bc354cff9",
   "metadata": {},
   "source": [
    "### [Q10.] Write a Python program to calculate the two-sample t-test for independent samples, given two random samples of equal size and a null hypothesis that the population means are equal.\n",
    "##### [Ans]"
   ]
  },
  {
   "cell_type": "code",
   "execution_count": 33,
   "id": "66e93f09-4fa7-4b35-bb6f-eb1cabd6088e",
   "metadata": {},
   "outputs": [
    {
     "name": "stdout",
     "output_type": "stream",
     "text": [
      "T-statistic: -1.7179\n",
      "P-value: 0.1078\n",
      "Fail to reject the null hypothesis: There is no significant difference between the sample means.\n"
     ]
    }
   ],
   "source": [
    "import numpy as np\n",
    "from scipy.stats import ttest_ind\n",
    "\n",
    "sample1 = np.array([22, 30, 25, 27, 29, 31, 24, 30])\n",
    "sample2 = np.array([28, 32, 27, 26, 29, 35, 33, 30])\n",
    "\n",
    "t_statistic, p_value = ttest_ind(sample1, sample2)\n",
    "\n",
    "print(f\"T-statistic: {t_statistic:.4f}\")\n",
    "print(f\"P-value: {p_value:.4f}\")\n",
    "\n",
    "alpha = 0.05\n",
    "if p_value < alpha:\n",
    "    print(\"Reject the null hypothesis: There is a significant difference between the sample means.\")\n",
    "else:\n",
    "    print(\"Fail to reject the null hypothesis: There is no significant difference between the sample means.\")\n"
   ]
  },
  {
   "cell_type": "markdown",
   "id": "72819728-c9d8-4999-9f30-b2244ccb0f39",
   "metadata": {},
   "source": [
    "### [Q11.] What is Student’s t distribution? When to use the t-Distribution.\n",
    "##### [Ans]"
   ]
  },
  {
   "cell_type": "markdown",
   "id": "d3d89d50-6d01-4b04-b1fc-14d5a9affe74",
   "metadata": {},
   "source": [
    "The Student’s t-distribution, often simply called the t-distribution, is a type of probability distribution that is used in statistical inference. It is particularly useful when working with small sample sizes and provides a way to estimate population parameters.\n",
    "\n",
    "Student's t distribution isn used when we don't know the population standard deviation."
   ]
  },
  {
   "cell_type": "markdown",
   "id": "8c76e1eb-9f0c-48e2-ad00-c44464dc9a67",
   "metadata": {},
   "source": [
    "### [Q12.] What is t-statistic? State the formula for t-statistic.\n",
    "##### [Ans]"
   ]
  },
  {
   "cell_type": "markdown",
   "id": "c9471a79-4c1c-459b-b221-60859f13f2bd",
   "metadata": {},
   "source": [
    "The t-statistic is a measure used in statistical hypothesis testing to determine if there is a significant difference between sample statistics and population parameters or between two sample statistics. It is used in the context of the t-test, which assesses whether the means of two groups are statistically different from each other or whether a sample mean is significantly different from a population mean.\n",
    "\n",
    "Formula :-<br>\n",
    "$$\n",
    "t = \\frac{\\bar{x} - \\mu}{\\frac{s}{\\sqrt{n}}}\n",
    "$$\n"
   ]
  },
  {
   "cell_type": "markdown",
   "id": "72050492-4849-402b-bfb6-d99272f866ba",
   "metadata": {},
   "source": [
    "### [Q13.] A coffee shop owner wants to estimate the average daily revenue for their shop. They take a random sample of 50 days and find the sample mean revenue to be Rs 500 with a standard deviation of Rs 50. Estimate the population mean revenue with a 95% confidence interval.\n",
    "##### [Ans]"
   ]
  },
  {
   "cell_type": "code",
   "execution_count": 34,
   "id": "a2a850e6-a49f-42f8-bf3b-f1e8b1755402",
   "metadata": {},
   "outputs": [
    {
     "name": "stdout",
     "output_type": "stream",
     "text": [
      "95% Confidence Interval: (Rs 486.14, Rs 513.86)\n"
     ]
    }
   ],
   "source": [
    "import numpy as np\n",
    "from scipy import stats\n",
    "\n",
    "sample_mean = 500\n",
    "sample_std = 50\n",
    "sample_size = 50\n",
    "\n",
    "sem = sample_std / np.sqrt(sample_size)\n",
    "\n",
    "z_score = stats.norm.ppf(0.975)\n",
    "\n",
    "margin_of_error = z_score * sem\n",
    "\n",
    "lower_bound = sample_mean - margin_of_error\n",
    "upper_bound = sample_mean + margin_of_error\n",
    "\n",
    "print(f\"95% Confidence Interval: (Rs {lower_bound:.2f}, Rs {upper_bound:.2f})\")"
   ]
  },
  {
   "cell_type": "markdown",
   "id": "80446621-ec01-4041-8157-a86ea51c9dfd",
   "metadata": {},
   "source": [
    "### [Q14.] A researcher hypothesizes that a new drug will decrease blood pressure by 10 mmHg. They conduct a clinical trial with 100 patients and find that the sample mean decrease in blood pressure is 8 mmHg with a standard deviation of 3 mmHg. Test the hypothesis with a significance level of 0.05.\n",
    "##### [Ans]"
   ]
  },
  {
   "cell_type": "code",
   "execution_count": 35,
   "id": "7aa3dc69-3260-48aa-a2cc-f64ea5f1932a",
   "metadata": {},
   "outputs": [
    {
     "name": "stdout",
     "output_type": "stream",
     "text": [
      "t-statistic: -6.6667\n",
      "Critical t-value: 1.9842\n",
      "P-value: 0.0000\n",
      "Fail to reject the null hypothesis: There is not enough evidence to say the drug does not decrease blood pressure by 10 mmHg.\n"
     ]
    }
   ],
   "source": [
    "import numpy as np\n",
    "from scipy import stats\n",
    "\n",
    "sample_size = 100\n",
    "sample_std = 3\n",
    "sample_mean = 8\n",
    "population_mean = 10\n",
    "alpha = 0.05\n",
    "\n",
    "sem = sample_std / np.sqrt(sample_size)\n",
    "\n",
    "t_statistics = (sample_mean - population_mean) / sem\n",
    "\n",
    "dof = sample_size - 1\n",
    "\n",
    "critical_t_value = stats.t.ppf(1 - alpha / 2, dof)\n",
    "\n",
    "p_value = 2 * (1 - stats.t.cdf(np.abs(t_statistics), dof))\n",
    "\n",
    "print(f\"t-statistic: {t_statistics:.4f}\")\n",
    "print(f\"Critical t-value: {critical_t_value:.4f}\")\n",
    "print(f\"P-value: {p_value:.4f}\")\n",
    "\n",
    "if np.abs(t_statistic) > critical_t_value:\n",
    "    print(\"Reject the null hypothesis: There is evidence that the drug does not decrease blood pressure by 10 mmHg.\")\n",
    "else:\n",
    "    print(\"Fail to reject the null hypothesis: There is not enough evidence to say the drug does not decrease blood pressure by 10 mmHg.\")\n",
    "               \n",
    "               "
   ]
  },
  {
   "cell_type": "markdown",
   "id": "6492ce83-4507-4439-918c-fa23b156ffe4",
   "metadata": {},
   "source": [
    "### [Q15.] An electronics company produces a certain type of product with a mean weight of 5 pounds and a standard deviation of 0.5 pounds. A random sample of 25 products is taken, and the sample mean weight is found to be 4.8 pounds. Test the hypothesis that the true mean weight of the products is less than 5 pounds with a significance level of 0.01.\n",
    "##### [Ans]"
   ]
  },
  {
   "cell_type": "code",
   "execution_count": 36,
   "id": "f64543a6-b22c-47df-a170-42bd77107b1c",
   "metadata": {},
   "outputs": [
    {
     "name": "stdout",
     "output_type": "stream",
     "text": [
      "t-Statistic : -2.0000\n",
      "Critical t-value: 2.4922\n",
      "P-value: 0.0285\n",
      "Reject the null hypothesis: There is evidence that the drug does not decrease blood pressure by 10 mmHg.\n"
     ]
    }
   ],
   "source": [
    "import numpy as np\n",
    "from scipy import stats\n",
    "\n",
    "population_mean = 5\n",
    "sample_std = 0.5\n",
    "sample_size = 25\n",
    "sample_mean =4.8\n",
    "alpha = 0.01\n",
    "\n",
    "sem = sample_std / np.sqrt(sample_size)\n",
    "\n",
    "t_statistic = (sample_mean - population_mean) / sem\n",
    "\n",
    "dof = sample_size - 1\n",
    "\n",
    "critical_t_value = stats.t.ppf(1-alpha, dof)\n",
    "\n",
    "p_value = stats.t.cdf(t_statistic, dof)\n",
    "\n",
    "print(f\"t-Statistic : {t_statistic:.4f}\")\n",
    "print(f\"Critical t-value: {critical_t_value:.4f}\")\n",
    "print(f\"P-value: {p_value:.4f}\")\n",
    "\n",
    "if t_statistic < crtical_t_value:\n",
    "    print(\"Reject the null hypothesis: There is evidence that the drug does not decrease blood pressure by 10 mmHg.\")\n",
    "else:\n",
    "    print(\"Fail to reject the null hypothesis: There is not enough evidence to say the drug does not decrease blood pressure by 10 mmHg.\")\n",
    "               \n",
    "               "
   ]
  },
  {
   "cell_type": "markdown",
   "id": "0279e1cc-1880-4f95-8d5e-6043f329b258",
   "metadata": {},
   "source": [
    "### [Q16.] Two groups of students are given different study materials to prepare for a test. The first group (n1 = 30) has a mean score of 80 with a standard deviation of 10, and the second group (n2 = 40) has a mean score of 75 with a standard deviation of 8. Test the hypothesis that the population means for the two groups are equal with a significance level of 0.01.\n",
    "##### [Ans]"
   ]
  },
  {
   "cell_type": "code",
   "execution_count": 37,
   "id": "868bdbfa-cd7c-4304-889f-24d26488767f",
   "metadata": {},
   "outputs": [
    {
     "name": "stdout",
     "output_type": "stream",
     "text": [
      "t-Statistic: 2.2511\n",
      "Critical t-value: 2.6696\n",
      "P-value: 0.0285\n",
      "Fail to reject the null hypothesis: There is not enough evidence to say that the population means for the two groups are not equal.\n"
     ]
    }
   ],
   "source": [
    "import numpy as np\n",
    "from scipy import stats\n",
    "\n",
    "n1 = 30\n",
    "mean1 = 80\n",
    "std1 = 10\n",
    "\n",
    "n2 = 40\n",
    "mean2 = 75\n",
    "std2 = 8\n",
    "\n",
    "alpha = 0.01\n",
    "\n",
    "sed = np.sqrt((std1**2 / n1) + (std2**2 / n2))\n",
    "\n",
    "t_statistic = (mean1 - mean2) / sed\n",
    "\n",
    "numerator = (std1**2 / n1 + std2**2 / n2)**2\n",
    "denominator = ((std1**2 / n1)**2 / (n1 - 1)) + ((std2**2 / n2)**2 / (n2 - 1))\n",
    "df = numerator / denominator\n",
    "\n",
    "critical_t_value = stats.t.ppf(1 - alpha / 2, df)\n",
    "\n",
    "p_value = 2 * (1 - stats.t.cdf(np.abs(t_statistic), df))\n",
    "\n",
    "print(f\"t-Statistic: {t_statistic:.4f}\")\n",
    "print(f\"Critical t-value: {critical_t_value:.4f}\")\n",
    "print(f\"P-value: {p_value:.4f}\")\n",
    "\n",
    "if np.abs(t_statistic) > critical_t_value:\n",
    "    print(\"Reject the null hypothesis: There is evidence that the population means for the two groups are not equal.\")\n",
    "else:\n",
    "    print(\"Fail to reject the null hypothesis: There is not enough evidence to say that the population means for the two groups are not equal.\")\n"
   ]
  },
  {
   "cell_type": "markdown",
   "id": "83e130b9-3b29-41b5-80ed-639a59965ebc",
   "metadata": {},
   "source": [
    "### [Q17.] A marketing company wants to estimate the average number of ads watched by viewers during a TV program. They take a random sample of 50 viewers and find that the sample mean is 4 with a standard deviation of 1.5. Estimate the population mean with a 99% confidence interval.\n",
    "##### [Ans]"
   ]
  },
  {
   "cell_type": "code",
   "execution_count": 38,
   "id": "8a7268ae-2973-41ba-8163-04395059cdff",
   "metadata": {},
   "outputs": [
    {
     "name": "stdout",
     "output_type": "stream",
     "text": [
      "99% Confidence Interval : (3.45, 4.55)\n"
     ]
    }
   ],
   "source": [
    "import numpy as np\n",
    "from scipy import stats\n",
    "\n",
    "sample_size = 50\n",
    "sample_mean = 4\n",
    "sample_std = 1.5\n",
    "\n",
    "sem = sample_std / np.sqrt(sample_size)\n",
    "\n",
    "z_score = stats.norm.ppf(1- (1 - 0.99) / 2)\n",
    "\n",
    "margin_of_error = z_score * sem\n",
    "\n",
    "lower_bound = sample_mean - margin_of_error\n",
    "upper_bound = sample_mean + margin_of_error\n",
    "\n",
    "print(f\"99% Confidence Interval : ({lower_bound:.2f}, {upper_bound:.2f})\")"
   ]
  }
 ],
 "metadata": {
  "kernelspec": {
   "display_name": "Python 3 (ipykernel)",
   "language": "python",
   "name": "python3"
  },
  "language_info": {
   "codemirror_mode": {
    "name": "ipython",
    "version": 3
   },
   "file_extension": ".py",
   "mimetype": "text/x-python",
   "name": "python",
   "nbconvert_exporter": "python",
   "pygments_lexer": "ipython3",
   "version": "3.10.8"
  }
 },
 "nbformat": 4,
 "nbformat_minor": 5
}
